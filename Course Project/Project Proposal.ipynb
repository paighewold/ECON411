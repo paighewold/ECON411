{
 "cells": [
  {
   "cell_type": "markdown",
   "id": "6c903692",
   "metadata": {},
   "source": [
    "# Project Proposal"
   ]
  },
  {
   "cell_type": "markdown",
   "id": "1034dd8a",
   "metadata": {},
   "source": [
    "I collected the data from UCI Machine Learning Repository. The dataset contains the hourly and daily count of rental bikes between the years 2011 and 2012 in Capital bikeshare system with the corresponding weather and seasonal information. The data attributes include date, season, holiday, weather, and temperature. I am interested to see how the independent variables affect the response variable which is the count of total rental bikes including both casual and registered."
   ]
  },
  {
   "cell_type": "markdown",
   "id": "effa67c0",
   "metadata": {},
   "source": [
    "https://archive.ics.uci.edu/ml/datasets/Bike+Sharing+Dataset"
   ]
  },
  {
   "cell_type": "code",
   "execution_count": null,
   "id": "49150df7",
   "metadata": {},
   "outputs": [],
   "source": []
  }
 ],
 "metadata": {
  "kernelspec": {
   "display_name": "Python 3 (ipykernel)",
   "language": "python",
   "name": "python3"
  },
  "language_info": {
   "codemirror_mode": {
    "name": "ipython",
    "version": 3
   },
   "file_extension": ".py",
   "mimetype": "text/x-python",
   "name": "python",
   "nbconvert_exporter": "python",
   "pygments_lexer": "ipython3",
   "version": "3.9.7"
  }
 },
 "nbformat": 4,
 "nbformat_minor": 5
}
