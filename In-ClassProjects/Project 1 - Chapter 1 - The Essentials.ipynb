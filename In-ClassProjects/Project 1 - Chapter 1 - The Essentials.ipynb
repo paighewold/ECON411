{
 "cells": [
  {
   "cell_type": "markdown",
   "id": "1a54136a",
   "metadata": {},
   "source": [
    "# Hello World"
   ]
  },
  {
   "cell_type": "code",
   "execution_count": 1,
   "id": "4fa9f108",
   "metadata": {},
   "outputs": [
    {
     "name": "stdout",
     "output_type": "stream",
     "text": [
      "Hello world!\n"
     ]
    }
   ],
   "source": [
    "print(\"Hello world!\")"
   ]
  },
  {
   "cell_type": "code",
   "execution_count": 2,
   "id": "f7daab02",
   "metadata": {},
   "outputs": [
    {
     "data": {
      "text/plain": [
       "str"
      ]
     },
     "execution_count": 2,
     "metadata": {},
     "output_type": "execute_result"
    }
   ],
   "source": [
    "type(\"Hello World\")"
   ]
  },
  {
   "cell_type": "markdown",
   "id": "5d2c4593",
   "metadata": {},
   "source": [
    "## Save \"Hello World\" as a Variable"
   ]
  },
  {
   "cell_type": "code",
   "execution_count": 4,
   "id": "201f8df7",
   "metadata": {},
   "outputs": [
    {
     "name": "stdout",
     "output_type": "stream",
     "text": [
      "Hello World\n"
     ]
    }
   ],
   "source": [
    "msg = \"Hello World\"\n",
    "print (msg)"
   ]
  },
  {
   "cell_type": "code",
   "execution_count": 5,
   "id": "0983de0a",
   "metadata": {},
   "outputs": [
    {
     "data": {
      "text/plain": [
       "str"
      ]
     },
     "execution_count": 5,
     "metadata": {},
     "output_type": "execute_result"
    }
   ],
   "source": [
    "type(msg)"
   ]
  },
  {
   "cell_type": "code",
   "execution_count": 8,
   "id": "00564afc",
   "metadata": {},
   "outputs": [
    {
     "name": "stdout",
     "output_type": "stream",
     "text": [
      "JOHN NASH\n"
     ]
    },
    {
     "data": {
      "text/plain": [
       "'John Nash'"
      ]
     },
     "execution_count": 8,
     "metadata": {},
     "output_type": "execute_result"
    }
   ],
   "source": [
    "msg = 'john nash'\n",
    "\n",
    "# ALL CAPS\n",
    "msg_upper = msg.upper()\n",
    "print(msg_upper)\n",
    "# Capitalize The First Letter Of Each Word\n",
    "msg_title = msg.title()\n",
    "msg_title"
   ]
  },
  {
   "cell_type": "markdown",
   "id": "8c2bc822",
   "metadata": {},
   "source": [
    "# Concatenate"
   ]
  },
  {
   "cell_type": "code",
   "execution_count": 9,
   "id": "1bd7caea",
   "metadata": {},
   "outputs": [
    {
     "name": "stdout",
     "output_type": "stream",
     "text": [
      "A\n"
     ]
    }
   ],
   "source": [
    "#Concatenate\n",
    "print(\"A\")"
   ]
  },
  {
   "cell_type": "code",
   "execution_count": 10,
   "id": "f39f07fb",
   "metadata": {},
   "outputs": [
    {
     "name": "stdout",
     "output_type": "stream",
     "text": [
      "B\n"
     ]
    }
   ],
   "source": [
    "print(\"B\")"
   ]
  },
  {
   "cell_type": "code",
   "execution_count": 11,
   "id": "c99219af",
   "metadata": {},
   "outputs": [
    {
     "name": "stdout",
     "output_type": "stream",
     "text": [
      "AB\n"
     ]
    }
   ],
   "source": [
    "print(\"A\"+\"B\")"
   ]
  },
  {
   "cell_type": "code",
   "execution_count": 13,
   "id": "c16423c4",
   "metadata": {},
   "outputs": [
    {
     "name": "stdout",
     "output_type": "stream",
     "text": [
      "You thought it would be easyYou thought it wouldn't be strangeBut then you started codingThings never were the same\n",
      "You thought it would be easy\n",
      "You thought it wouldn't be strange\n",
      "You thought it would be easy\n",
      "You thought it wouldn't be strange\n",
      "But then you started coding\n",
      "Things never were the same\n"
     ]
    }
   ],
   "source": [
    "line1 = \"You thought it would be easy\"\n",
    "line2 = \"You thought it wouldn't be strange\"\n",
    "line3 = \"But then you started coding\"\n",
    "line4 = \"Things never were the same\"\n",
    "\n",
    "print(line1 + line2 + line3 + line4)\n",
    "\n",
    "print(line1 + \"\\n\" + line2)\n",
    "\n",
    "print(line1, line2, line3, line4, sep = \"\\n\")"
   ]
  },
  {
   "cell_type": "markdown",
   "id": "3643f13f",
   "metadata": {},
   "source": [
    "## Quotes within quotes"
   ]
  },
  {
   "cell_type": "code",
   "execution_count": 16,
   "id": "84c93d7a",
   "metadata": {},
   "outputs": [
    {
     "name": "stdout",
     "output_type": "stream",
     "text": [
      "\"\n",
      "\"\n"
     ]
    }
   ],
   "source": [
    "print(\"\\\"\")\n",
    "\n",
    "#NEED TO BE CAREFUL WITH QUOTES\n",
    "\n",
    "print('\\\"')"
   ]
  },
  {
   "cell_type": "markdown",
   "id": "dc01f01b",
   "metadata": {},
   "source": [
    "# More String Methods"
   ]
  },
  {
   "cell_type": "code",
   "execution_count": 18,
   "id": "4fddaf3f",
   "metadata": {},
   "outputs": [
    {
     "name": "stdout",
     "output_type": "stream",
     "text": [
      "     Look at all the spaces in the text!   \n"
     ]
    }
   ],
   "source": [
    "spaces = \"     Look at all the spaces in the text!   \"\n",
    "print(spaces)"
   ]
  },
  {
   "cell_type": "code",
   "execution_count": 20,
   "id": "9fbd3d9c",
   "metadata": {},
   "outputs": [
    {
     "name": "stdout",
     "output_type": "stream",
     "text": [
      "Look at all the spaces in the text!   \n"
     ]
    }
   ],
   "source": [
    "#remove space on far left\n",
    "print(spaces.lstrip())"
   ]
  },
  {
   "cell_type": "code",
   "execution_count": 21,
   "id": "cf46a51e",
   "metadata": {},
   "outputs": [
    {
     "name": "stdout",
     "output_type": "stream",
     "text": [
      "     Look at all the spaces in the text!\n"
     ]
    }
   ],
   "source": [
    "#remove space on far right\n",
    "print(spaces.rstrip())"
   ]
  },
  {
   "cell_type": "code",
   "execution_count": 22,
   "id": "5e7d20a4",
   "metadata": {},
   "outputs": [
    {
     "name": "stdout",
     "output_type": "stream",
     "text": [
      "Look at all the spaces in the text!\n"
     ]
    }
   ],
   "source": [
    "#remove spaces on both sides\n",
    "print(spaces.strip())"
   ]
  },
  {
   "cell_type": "code",
   "execution_count": 23,
   "id": "13ca79cd",
   "metadata": {},
   "outputs": [
    {
     "name": "stdout",
     "output_type": "stream",
     "text": [
      "Lookatallthespacesinthetext!\n"
     ]
    }
   ],
   "source": [
    "#remove all spaces\n",
    "print(spaces.replace(\" \", \"\"))"
   ]
  },
  {
   "cell_type": "code",
   "execution_count": 24,
   "id": "31f6b944",
   "metadata": {},
   "outputs": [
    {
     "name": "stdout",
     "output_type": "stream",
     "text": [
      "     Look at all the spaces in the text!   \n"
     ]
    }
   ],
   "source": [
    "print(spaces.replace(\"        \", \"\"))"
   ]
  },
  {
   "cell_type": "code",
   "execution_count": 25,
   "id": "5651a94d",
   "metadata": {},
   "outputs": [
    {
     "data": {
      "text/plain": [
       "'     Look at all the pace in the text!   '"
      ]
     },
     "execution_count": 25,
     "metadata": {},
     "output_type": "execute_result"
    }
   ],
   "source": [
    "spaces.replace(\"s\",\"\")"
   ]
  },
  {
   "cell_type": "markdown",
   "id": "30d0310b",
   "metadata": {},
   "source": [
    "# Working with numbers"
   ]
  },
  {
   "cell_type": "code",
   "execution_count": 26,
   "id": "a760736b",
   "metadata": {},
   "outputs": [
    {
     "name": "stdout",
     "output_type": "stream",
     "text": [
      "1 1.0\n"
     ]
    }
   ],
   "source": [
    "print(1, 1.)"
   ]
  },
  {
   "cell_type": "code",
   "execution_count": 27,
   "id": "5e907192",
   "metadata": {},
   "outputs": [
    {
     "name": "stdout",
     "output_type": "stream",
     "text": [
      "<class 'int'> <class 'float'> <class 'str'>\n",
      "1 1.0 1\n"
     ]
    }
   ],
   "source": [
    "int1 = 1\n",
    "float1 = 1.\n",
    "str1 = \"1\"\n",
    "print(type(int1), type(float1), type(str1))\n",
    "print(int1, float1, str1)"
   ]
  },
  {
   "cell_type": "code",
   "execution_count": 28,
   "id": "3cad72bb",
   "metadata": {},
   "outputs": [
    {
     "name": "stdout",
     "output_type": "stream",
     "text": [
      "<class 'int'> 2\n"
     ]
    }
   ],
   "source": [
    "int2 = int1 + int1\n",
    "print(type(int2), int2)"
   ]
  },
  {
   "cell_type": "markdown",
   "id": "b86953d5",
   "metadata": {},
   "source": [
    "Summing an int and a float yields a float"
   ]
  },
  {
   "cell_type": "code",
   "execution_count": 29,
   "id": "6bbb1c48",
   "metadata": {},
   "outputs": [
    {
     "name": "stdout",
     "output_type": "stream",
     "text": [
      "<class 'float'> 2.0\n"
     ]
    }
   ],
   "source": [
    "float2 = int1 + float1\n",
    "print(type(float2), float2)"
   ]
  },
  {
   "cell_type": "code",
   "execution_count": 30,
   "id": "d2c0738c",
   "metadata": {},
   "outputs": [],
   "source": [
    "## If you attempt to sum an int of float with a string, an error results"
   ]
  },
  {
   "cell_type": "code",
   "execution_count": 31,
   "id": "1c83588e",
   "metadata": {},
   "outputs": [
    {
     "ename": "TypeError",
     "evalue": "unsupported operand type(s) for +: 'int' and 'str'",
     "output_type": "error",
     "traceback": [
      "\u001b[0;31m---------------------------------------------------------------------------\u001b[0m",
      "\u001b[0;31mTypeError\u001b[0m                                 Traceback (most recent call last)",
      "\u001b[0;32m/var/folders/f_/_68wnm392hz1gg4qqfgl24z00000gn/T/ipykernel_1443/2788647745.py\u001b[0m in \u001b[0;36m<module>\u001b[0;34m\u001b[0m\n\u001b[0;32m----> 1\u001b[0;31m \u001b[0mint1\u001b[0m \u001b[0;34m+\u001b[0m \u001b[0mstr1\u001b[0m\u001b[0;34m\u001b[0m\u001b[0;34m\u001b[0m\u001b[0m\n\u001b[0m",
      "\u001b[0;31mTypeError\u001b[0m: unsupported operand type(s) for +: 'int' and 'str'"
     ]
    }
   ],
   "source": [
    "int1 + str1"
   ]
  },
  {
   "cell_type": "code",
   "execution_count": 32,
   "id": "4149a65b",
   "metadata": {},
   "outputs": [],
   "source": [
    "##Transform value to string"
   ]
  },
  {
   "cell_type": "code",
   "execution_count": 33,
   "id": "b5bcf831",
   "metadata": {},
   "outputs": [
    {
     "data": {
      "text/plain": [
       "'1.01'"
      ]
     },
     "execution_count": 33,
     "metadata": {},
     "output_type": "execute_result"
    }
   ],
   "source": [
    "str11 = str(float1) + str1\n",
    "str11"
   ]
  },
  {
   "cell_type": "code",
   "execution_count": 37,
   "id": "7e2598cd",
   "metadata": {},
   "outputs": [
    {
     "name": "stdout",
     "output_type": "stream",
     "text": [
      "012345678910111213141516171819\n"
     ]
    }
   ],
   "source": [
    "total = \"\"\n",
    "for i in range(20):\n",
    "    total = total + str(i)\n",
    "print(total)"
   ]
  },
  {
   "cell_type": "markdown",
   "id": "1028febb",
   "metadata": {},
   "source": [
    "# Use mathematical operators + - * /"
   ]
  },
  {
   "cell_type": "code",
   "execution_count": 39,
   "id": "c8855bfb",
   "metadata": {},
   "outputs": [
    {
     "data": {
      "text/plain": [
       "1.0"
      ]
     },
     "execution_count": 39,
     "metadata": {},
     "output_type": "execute_result"
    }
   ],
   "source": [
    "1 + 1 -1 / 1 * 1"
   ]
  },
  {
   "cell_type": "markdown",
   "id": "24abe35a",
   "metadata": {},
   "source": [
    "# Float Structure"
   ]
  },
  {
   "cell_type": "code",
   "execution_count": 40,
   "id": "95919e83",
   "metadata": {},
   "outputs": [
    {
     "data": {
      "text/plain": [
       "<module 'sys' (built-in)>"
      ]
     },
     "execution_count": 40,
     "metadata": {},
     "output_type": "execute_result"
    }
   ],
   "source": [
    "# import the sys module\n",
    "import sys\n",
    "sys"
   ]
  },
  {
   "cell_type": "code",
   "execution_count": 41,
   "id": "b3365391",
   "metadata": {},
   "outputs": [
    {
     "data": {
      "text/plain": [
       "{'__name__': 'sys',\n",
       " '__doc__': \"This module provides access to some objects used or maintained by the\\ninterpreter and to functions that interact strongly with the interpreter.\\n\\nDynamic objects:\\n\\nargv -- command line arguments; argv[0] is the script pathname if known\\npath -- module search path; path[0] is the script directory, else ''\\nmodules -- dictionary of loaded modules\\n\\ndisplayhook -- called to show results in an interactive session\\nexcepthook -- called to handle any uncaught exception other than SystemExit\\n  To customize printing in an interactive session or to install a custom\\n  top-level exception handler, assign other functions to replace these.\\n\\nstdin -- standard input file object; used by input()\\nstdout -- standard output file object; used by print()\\nstderr -- standard error object; used for error messages\\n  By assigning other file objects (or objects that behave like files)\\n  to these, it is possible to redirect all of the interpreter's I/O.\\n\\nlast_type -- type of last uncaught exception\\nlast_value -- value of last uncaught exception\\nlast_traceback -- traceback of last uncaught exception\\n  These three are only available in an interactive session after a\\n  traceback has been printed.\\n\\nStatic objects:\\n\\nbuiltin_module_names -- tuple of module names built into this interpreter\\ncopyright -- copyright notice pertaining to this interpreter\\nexec_prefix -- prefix used to find the machine-specific Python library\\nexecutable -- absolute path of the executable binary of the Python interpreter\\nfloat_info -- a named tuple with information about the float implementation.\\nfloat_repr_style -- string indicating the style of repr() output for floats\\nhash_info -- a named tuple with information about the hash algorithm.\\nhexversion -- version information encoded as a single integer\\nimplementation -- Python implementation information.\\nint_info -- a named tuple with information about the int implementation.\\nmaxsize -- the largest supported length of containers.\\nmaxunicode -- the value of the largest Unicode code point\\nplatform -- platform identifier\\nprefix -- prefix used to find the Python library\\nthread_info -- a named tuple with information about the thread implementation.\\nversion -- the version of this interpreter as a string\\nversion_info -- version information as a named tuple\\n__stdin__ -- the original stdin; don't touch!\\n__stdout__ -- the original stdout; don't touch!\\n__stderr__ -- the original stderr; don't touch!\\n__displayhook__ -- the original displayhook; don't touch!\\n__excepthook__ -- the original excepthook; don't touch!\\n\\nFunctions:\\n\\ndisplayhook() -- print an object to the screen, and save it in builtins._\\nexcepthook() -- print an exception and its traceback to sys.stderr\\nexc_info() -- return thread-safe information about the current exception\\nexit() -- exit the interpreter by raising SystemExit\\ngetdlopenflags() -- returns flags to be used for dlopen() calls\\ngetprofile() -- get the global profiling function\\ngetrefcount() -- return the reference count for an object (plus one :-)\\ngetrecursionlimit() -- return the max recursion depth for the interpreter\\ngetsizeof() -- return the size of an object in bytes\\ngettrace() -- get the global debug tracing function\\nsetdlopenflags() -- set the flags to be used for dlopen() calls\\nsetprofile() -- set the global profiling function\\nsetrecursionlimit() -- set the max recursion depth for the interpreter\\nsettrace() -- set the global debug tracing function\\n\",\n",
       " '__package__': '',\n",
       " '__loader__': _frozen_importlib.BuiltinImporter,\n",
       " '__spec__': ModuleSpec(name='sys', loader=<class '_frozen_importlib.BuiltinImporter'>, origin='built-in'),\n",
       " 'addaudithook': <function sys.addaudithook(hook)>,\n",
       " 'audit': <function sys.audit>,\n",
       " 'breakpointhook': <function debugpy._vendored.force_pydevd.debugpy_breakpointhook()>,\n",
       " '_clear_type_cache': <function sys._clear_type_cache()>,\n",
       " '_current_frames': <function sys._current_frames()>,\n",
       " 'displayhook': <ipykernel.displayhook.ZMQShellDisplayHook at 0x7fd1579fc5e0>,\n",
       " 'exc_info': <function sys.exc_info()>,\n",
       " 'excepthook': <bound method InteractiveShell.excepthook of <ipykernel.zmqshell.ZMQInteractiveShell object at 0x7fd157995940>>,\n",
       " 'exit': <function sys.exit(status=None, /)>,\n",
       " 'getdefaultencoding': <function sys.getdefaultencoding()>,\n",
       " 'getdlopenflags': <function sys.getdlopenflags()>,\n",
       " 'getallocatedblocks': <function sys.getallocatedblocks()>,\n",
       " 'getfilesystemencoding': <function sys.getfilesystemencoding()>,\n",
       " 'getfilesystemencodeerrors': <function sys.getfilesystemencodeerrors()>,\n",
       " 'getrefcount': <function sys.getrefcount(object, /)>,\n",
       " 'getrecursionlimit': <function sys.getrecursionlimit()>,\n",
       " 'getsizeof': <function sys.getsizeof>,\n",
       " '_getframe': <function sys._getframe(depth=0, /)>,\n",
       " 'intern': <function sys.intern(string, /)>,\n",
       " 'is_finalizing': <function sys.is_finalizing()>,\n",
       " 'setswitchinterval': <function sys.setswitchinterval(interval, /)>,\n",
       " 'getswitchinterval': <function sys.getswitchinterval()>,\n",
       " 'setdlopenflags': <function sys.setdlopenflags(flags, /)>,\n",
       " 'setprofile': <function sys.setprofile>,\n",
       " 'getprofile': <function sys.getprofile()>,\n",
       " 'setrecursionlimit': <function sys.setrecursionlimit(limit, /)>,\n",
       " 'settrace': <function sys.settrace>,\n",
       " 'gettrace': <function sys.gettrace()>,\n",
       " 'call_tracing': <function sys.call_tracing(func, args, /)>,\n",
       " '_debugmallocstats': <function sys._debugmallocstats()>,\n",
       " 'set_coroutine_origin_tracking_depth': <function sys.set_coroutine_origin_tracking_depth(depth)>,\n",
       " 'get_coroutine_origin_tracking_depth': <function sys.get_coroutine_origin_tracking_depth()>,\n",
       " 'set_asyncgen_hooks': <function sys.set_asyncgen_hooks>,\n",
       " 'get_asyncgen_hooks': <function sys.get_asyncgen_hooks()>,\n",
       " 'unraisablehook': <function sys.unraisablehook(unraisable, /)>,\n",
       " 'modules': {'sys': <module 'sys' (built-in)>,\n",
       "  'builtins': <module 'builtins' (built-in)>,\n",
       "  '_frozen_importlib': <module 'importlib._bootstrap' (frozen)>,\n",
       "  '_imp': <module '_imp' (built-in)>,\n",
       "  '_thread': <module '_thread' (built-in)>,\n",
       "  '_warnings': <module '_warnings' (built-in)>,\n",
       "  '_weakref': <module '_weakref' (built-in)>,\n",
       "  '_io': <module 'io' (built-in)>,\n",
       "  'marshal': <module 'marshal' (built-in)>,\n",
       "  'posix': <module 'posix' (built-in)>,\n",
       "  '_frozen_importlib_external': <module 'importlib._bootstrap_external' (frozen)>,\n",
       "  'time': <module 'time' (built-in)>,\n",
       "  'zipimport': <module 'zipimport' (frozen)>,\n",
       "  '_codecs': <module '_codecs' (built-in)>,\n",
       "  'codecs': <module 'codecs' from '/Users/paighewold/opt/anaconda3/lib/python3.9/codecs.py'>,\n",
       "  'encodings.aliases': <module 'encodings.aliases' from '/Users/paighewold/opt/anaconda3/lib/python3.9/encodings/aliases.py'>,\n",
       "  'encodings': <module 'encodings' from '/Users/paighewold/opt/anaconda3/lib/python3.9/encodings/__init__.py'>,\n",
       "  'encodings.utf_8': <module 'encodings.utf_8' from '/Users/paighewold/opt/anaconda3/lib/python3.9/encodings/utf_8.py'>,\n",
       "  '_signal': <module '_signal' (built-in)>,\n",
       "  'encodings.latin_1': <module 'encodings.latin_1' from '/Users/paighewold/opt/anaconda3/lib/python3.9/encodings/latin_1.py'>,\n",
       "  '_abc': <module '_abc' (built-in)>,\n",
       "  'abc': <module 'abc' from '/Users/paighewold/opt/anaconda3/lib/python3.9/abc.py'>,\n",
       "  'io': <module 'io' from '/Users/paighewold/opt/anaconda3/lib/python3.9/io.py'>,\n",
       "  '__main__': <module '__main__'>,\n",
       "  '_stat': <module '_stat' (built-in)>,\n",
       "  'stat': <module 'stat' from '/Users/paighewold/opt/anaconda3/lib/python3.9/stat.py'>,\n",
       "  '_collections_abc': <module '_collections_abc' from '/Users/paighewold/opt/anaconda3/lib/python3.9/_collections_abc.py'>,\n",
       "  'genericpath': <module 'genericpath' from '/Users/paighewold/opt/anaconda3/lib/python3.9/genericpath.py'>,\n",
       "  'posixpath': <module 'posixpath' from '/Users/paighewold/opt/anaconda3/lib/python3.9/posixpath.py'>,\n",
       "  'os.path': <module 'posixpath' from '/Users/paighewold/opt/anaconda3/lib/python3.9/posixpath.py'>,\n",
       "  'os': <module 'os' from '/Users/paighewold/opt/anaconda3/lib/python3.9/os.py'>,\n",
       "  '_sitebuiltins': <module '_sitebuiltins' from '/Users/paighewold/opt/anaconda3/lib/python3.9/_sitebuiltins.py'>,\n",
       "  '_locale': <module '_locale' (built-in)>,\n",
       "  '_bootlocale': <module '_bootlocale' from '/Users/paighewold/opt/anaconda3/lib/python3.9/_bootlocale.py'>,\n",
       "  'types': <module 'types' from '/Users/paighewold/opt/anaconda3/lib/python3.9/types.py'>,\n",
       "  'importlib._bootstrap': <module 'importlib._bootstrap' (frozen)>,\n",
       "  'importlib._bootstrap_external': <module 'importlib._bootstrap_external' (frozen)>,\n",
       "  'warnings': <module 'warnings' from '/Users/paighewold/opt/anaconda3/lib/python3.9/warnings.py'>,\n",
       "  'importlib': <module 'importlib' from '/Users/paighewold/opt/anaconda3/lib/python3.9/importlib/__init__.py'>,\n",
       "  'importlib.machinery': <module 'importlib.machinery' from '/Users/paighewold/opt/anaconda3/lib/python3.9/importlib/machinery.py'>,\n",
       "  '_heapq': <module '_heapq' from '/Users/paighewold/opt/anaconda3/lib/python3.9/lib-dynload/_heapq.cpython-39-darwin.so'>,\n",
       "  'heapq': <module 'heapq' from '/Users/paighewold/opt/anaconda3/lib/python3.9/heapq.py'>,\n",
       "  'itertools': <module 'itertools' (built-in)>,\n",
       "  'keyword': <module 'keyword' from '/Users/paighewold/opt/anaconda3/lib/python3.9/keyword.py'>,\n",
       "  '_operator': <module '_operator' (built-in)>,\n",
       "  'operator': <module 'operator' from '/Users/paighewold/opt/anaconda3/lib/python3.9/operator.py'>,\n",
       "  'reprlib': <module 'reprlib' from '/Users/paighewold/opt/anaconda3/lib/python3.9/reprlib.py'>,\n",
       "  '_collections': <module '_collections' (built-in)>,\n",
       "  'collections': <module 'collections' from '/Users/paighewold/opt/anaconda3/lib/python3.9/collections/__init__.py'>,\n",
       "  'collections.abc': <module 'collections.abc' from '/Users/paighewold/opt/anaconda3/lib/python3.9/collections/abc.py'>,\n",
       "  '_functools': <module '_functools' (built-in)>,\n",
       "  'functools': <module 'functools' from '/Users/paighewold/opt/anaconda3/lib/python3.9/functools.py'>,\n",
       "  'contextlib': <module 'contextlib' from '/Users/paighewold/opt/anaconda3/lib/python3.9/contextlib.py'>,\n",
       "  'enum': <module 'enum' from '/Users/paighewold/opt/anaconda3/lib/python3.9/enum.py'>,\n",
       "  '_sre': <module '_sre' (built-in)>,\n",
       "  'sre_constants': <module 'sre_constants' from '/Users/paighewold/opt/anaconda3/lib/python3.9/sre_constants.py'>,\n",
       "  'sre_parse': <module 'sre_parse' from '/Users/paighewold/opt/anaconda3/lib/python3.9/sre_parse.py'>,\n",
       "  'sre_compile': <module 'sre_compile' from '/Users/paighewold/opt/anaconda3/lib/python3.9/sre_compile.py'>,\n",
       "  'copyreg': <module 'copyreg' from '/Users/paighewold/opt/anaconda3/lib/python3.9/copyreg.py'>,\n",
       "  're': <module 're' from '/Users/paighewold/opt/anaconda3/lib/python3.9/re.py'>,\n",
       "  'typing.io': typing.io,\n",
       "  'typing.re': typing.re,\n",
       "  'typing': <module 'typing' from '/Users/paighewold/opt/anaconda3/lib/python3.9/typing.py'>,\n",
       "  'importlib.abc': <module 'importlib.abc' from '/Users/paighewold/opt/anaconda3/lib/python3.9/importlib/abc.py'>,\n",
       "  'importlib.util': <module 'importlib.util' from '/Users/paighewold/opt/anaconda3/lib/python3.9/importlib/util.py'>,\n",
       "  'mpl_toolkits': <module 'mpl_toolkits' (namespace)>,\n",
       "  'sphinxcontrib': <module 'sphinxcontrib' from '/Users/paighewold/opt/anaconda3/lib/python3.9/site-packages/sphinxcontrib/__init__.py'>,\n",
       "  'zope': <module 'zope' from '/Users/paighewold/opt/anaconda3/lib/python3.9/site-packages/zope/__init__.py'>,\n",
       "  'site': <module 'site' from '/Users/paighewold/opt/anaconda3/lib/python3.9/site.py'>,\n",
       "  '_weakrefset': <module '_weakrefset' from '/Users/paighewold/opt/anaconda3/lib/python3.9/_weakrefset.py'>,\n",
       "  'weakref': <module 'weakref' from '/Users/paighewold/opt/anaconda3/lib/python3.9/weakref.py'>,\n",
       "  'pkgutil': <module 'pkgutil' from '/Users/paighewold/opt/anaconda3/lib/python3.9/pkgutil.py'>,\n",
       "  'runpy': <module 'runpy' from '/Users/paighewold/opt/anaconda3/lib/python3.9/runpy.py'>,\n",
       "  'ipykernel._version': <module 'ipykernel._version' from '/Users/paighewold/opt/anaconda3/lib/python3.9/site-packages/ipykernel/_version.py'>,\n",
       "  '_json': <module '_json' from '/Users/paighewold/opt/anaconda3/lib/python3.9/lib-dynload/_json.cpython-39-darwin.so'>,\n",
       "  'json.scanner': <module 'json.scanner' from '/Users/paighewold/opt/anaconda3/lib/python3.9/json/scanner.py'>,\n",
       "  'json.decoder': <module 'json.decoder' from '/Users/paighewold/opt/anaconda3/lib/python3.9/json/decoder.py'>,\n",
       "  'json.encoder': <module 'json.encoder' from '/Users/paighewold/opt/anaconda3/lib/python3.9/json/encoder.py'>,\n",
       "  'json': <module 'json' from '/Users/paighewold/opt/anaconda3/lib/python3.9/json/__init__.py'>,\n",
       "  'errno': <module 'errno' (built-in)>,\n",
       "  'signal': <module 'signal' from '/Users/paighewold/opt/anaconda3/lib/python3.9/signal.py'>,\n",
       "  'threading': <module 'threading' from '/Users/paighewold/opt/anaconda3/lib/python3.9/threading.py'>,\n",
       "  'pwd': <module 'pwd' (built-in)>,\n",
       "  'grp': <module 'grp' from '/Users/paighewold/opt/anaconda3/lib/python3.9/lib-dynload/grp.cpython-39-darwin.so'>,\n",
       "  '_posixsubprocess': <module '_posixsubprocess' from '/Users/paighewold/opt/anaconda3/lib/python3.9/lib-dynload/_posixsubprocess.cpython-39-darwin.so'>,\n",
       "  'select': <module 'select' from '/Users/paighewold/opt/anaconda3/lib/python3.9/lib-dynload/select.cpython-39-darwin.so'>,\n",
       "  'math': <module 'math' from '/Users/paighewold/opt/anaconda3/lib/python3.9/lib-dynload/math.cpython-39-darwin.so'>,\n",
       "  'selectors': <module 'selectors' from '/Users/paighewold/opt/anaconda3/lib/python3.9/selectors.py'>,\n",
       "  'subprocess': <module 'subprocess' from '/Users/paighewold/opt/anaconda3/lib/python3.9/subprocess.py'>,\n",
       "  'jupyter_client._version': <module 'jupyter_client._version' from '/Users/paighewold/opt/anaconda3/lib/python3.9/site-packages/jupyter_client/_version.py'>,\n",
       "  'fnmatch': <module 'fnmatch' from '/Users/paighewold/opt/anaconda3/lib/python3.9/fnmatch.py'>,\n",
       "  'glob': <module 'glob' from '/Users/paighewold/opt/anaconda3/lib/python3.9/glob.py'>,\n",
       "  '_socket': <module '_socket' from '/Users/paighewold/opt/anaconda3/lib/python3.9/lib-dynload/_socket.cpython-39-darwin.so'>,\n",
       "  'array': <module 'array' from '/Users/paighewold/opt/anaconda3/lib/python3.9/lib-dynload/array.cpython-39-darwin.so'>,\n",
       "  'socket': <module 'socket' from '/Users/paighewold/opt/anaconda3/lib/python3.9/socket.py'>,\n",
       "  'zlib': <module 'zlib' from '/Users/paighewold/opt/anaconda3/lib/python3.9/lib-dynload/zlib.cpython-39-darwin.so'>,\n",
       "  '_compression': <module '_compression' from '/Users/paighewold/opt/anaconda3/lib/python3.9/_compression.py'>,\n",
       "  '_bz2': <module '_bz2' from '/Users/paighewold/opt/anaconda3/lib/python3.9/lib-dynload/_bz2.cpython-39-darwin.so'>,\n",
       "  'bz2': <module 'bz2' from '/Users/paighewold/opt/anaconda3/lib/python3.9/bz2.py'>,\n",
       "  '_lzma': <module '_lzma' from '/Users/paighewold/opt/anaconda3/lib/python3.9/lib-dynload/_lzma.cpython-39-darwin.so'>,\n",
       "  'lzma': <module 'lzma' from '/Users/paighewold/opt/anaconda3/lib/python3.9/lzma.py'>,\n",
       "  'shutil': <module 'shutil' from '/Users/paighewold/opt/anaconda3/lib/python3.9/shutil.py'>,\n",
       "  '_bisect': <module '_bisect' from '/Users/paighewold/opt/anaconda3/lib/python3.9/lib-dynload/_bisect.cpython-39-darwin.so'>,\n",
       "  'bisect': <module 'bisect' from '/Users/paighewold/opt/anaconda3/lib/python3.9/bisect.py'>,\n",
       "  '_random': <module '_random' from '/Users/paighewold/opt/anaconda3/lib/python3.9/lib-dynload/_random.cpython-39-darwin.so'>,\n",
       "  '_sha512': <module '_sha512' from '/Users/paighewold/opt/anaconda3/lib/python3.9/lib-dynload/_sha512.cpython-39-darwin.so'>,\n",
       "  'random': <module 'random' from '/Users/paighewold/opt/anaconda3/lib/python3.9/random.py'>,\n",
       "  'tempfile': <module 'tempfile' from '/Users/paighewold/opt/anaconda3/lib/python3.9/tempfile.py'>,\n",
       "  'termios': <module 'termios' from '/Users/paighewold/opt/anaconda3/lib/python3.9/lib-dynload/termios.cpython-39-darwin.so'>,\n",
       "  'getpass': <module 'getpass' from '/Users/paighewold/opt/anaconda3/lib/python3.9/getpass.py'>,\n",
       "  'platform': <module 'platform' from '/Users/paighewold/opt/anaconda3/lib/python3.9/platform.py'>,\n",
       "  '_ctypes': <module '_ctypes' from '/Users/paighewold/opt/anaconda3/lib/python3.9/lib-dynload/_ctypes.cpython-39-darwin.so'>,\n",
       "  '_struct': <module '_struct' from '/Users/paighewold/opt/anaconda3/lib/python3.9/lib-dynload/_struct.cpython-39-darwin.so'>,\n",
       "  'struct': <module 'struct' from '/Users/paighewold/opt/anaconda3/lib/python3.9/struct.py'>,\n",
       "  'ctypes._endian': <module 'ctypes._endian' from '/Users/paighewold/opt/anaconda3/lib/python3.9/ctypes/_endian.py'>,\n",
       "  'ctypes': <module 'ctypes' from '/Users/paighewold/opt/anaconda3/lib/python3.9/ctypes/__init__.py'>,\n",
       "  'zmq.backend.select': <module 'zmq.backend.select' from '/Users/paighewold/opt/anaconda3/lib/python3.9/site-packages/zmq/backend/select.py'>,\n",
       "  'cython_runtime': <module 'cython_runtime'>,\n",
       "  'zmq.backend.cython.constants': <module 'zmq.backend.cython.constants' from '/Users/paighewold/opt/anaconda3/lib/python3.9/site-packages/zmq/backend/cython/constants.cpython-39-darwin.so'>,\n",
       "  '_cython_0_29_24': <module '_cython_0_29_24'>,\n",
       "  'zmq.backend.cython.error': <module 'zmq.backend.cython.error' from '/Users/paighewold/opt/anaconda3/lib/python3.9/site-packages/zmq/backend/cython/error.cpython-39-darwin.so'>,\n",
       "  'zmq.error': <module 'zmq.error' from '/Users/paighewold/opt/anaconda3/lib/python3.9/site-packages/zmq/error.py'>,\n",
       "  'zmq.backend.cython.message': <module 'zmq.backend.cython.message' from '/Users/paighewold/opt/anaconda3/lib/python3.9/site-packages/zmq/backend/cython/message.cpython-39-darwin.so'>,\n",
       "  'zmq.backend.cython.context': <module 'zmq.backend.cython.context' from '/Users/paighewold/opt/anaconda3/lib/python3.9/site-packages/zmq/backend/cython/context.cpython-39-darwin.so'>,\n",
       "  'copy': <module 'copy' from '/Users/paighewold/opt/anaconda3/lib/python3.9/copy.py'>,\n",
       "  '_compat_pickle': <module '_compat_pickle' from '/Users/paighewold/opt/anaconda3/lib/python3.9/_compat_pickle.py'>,\n",
       "  '_pickle': <module '_pickle' from '/Users/paighewold/opt/anaconda3/lib/python3.9/lib-dynload/_pickle.cpython-39-darwin.so'>,\n",
       "  'pickle': <module 'pickle' from '/Users/paighewold/opt/anaconda3/lib/python3.9/pickle.py'>,\n",
       "  'zmq.backend.cython.socket': <module 'zmq.backend.cython.socket' from '/Users/paighewold/opt/anaconda3/lib/python3.9/site-packages/zmq/backend/cython/socket.cpython-39-darwin.so'>,\n",
       "  'zmq.backend.cython.utils': <module 'zmq.backend.cython.utils' from '/Users/paighewold/opt/anaconda3/lib/python3.9/site-packages/zmq/backend/cython/utils.cpython-39-darwin.so'>,\n",
       "  'zmq.backend.cython._poll': <module 'zmq.backend.cython._poll' from '/Users/paighewold/opt/anaconda3/lib/python3.9/site-packages/zmq/backend/cython/_poll.cpython-39-darwin.so'>,\n",
       "  'zmq.backend.cython._version': <module 'zmq.backend.cython._version' from '/Users/paighewold/opt/anaconda3/lib/python3.9/site-packages/zmq/backend/cython/_version.cpython-39-darwin.so'>,\n",
       "  'zmq.backend.cython._device': <module 'zmq.backend.cython._device' from '/Users/paighewold/opt/anaconda3/lib/python3.9/site-packages/zmq/backend/cython/_device.cpython-39-darwin.so'>,\n",
       "  'zmq.backend.cython._proxy_steerable': <module 'zmq.backend.cython._proxy_steerable' from '/Users/paighewold/opt/anaconda3/lib/python3.9/site-packages/zmq/backend/cython/_proxy_steerable.cpython-39-darwin.so'>,\n",
       "  'zmq.backend.cython': <module 'zmq.backend.cython' from '/Users/paighewold/opt/anaconda3/lib/python3.9/site-packages/zmq/backend/cython/__init__.py'>,\n",
       "  'zmq.backend': <module 'zmq.backend' from '/Users/paighewold/opt/anaconda3/lib/python3.9/site-packages/zmq/backend/__init__.py'>,\n",
       "  'zmq.utils': <module 'zmq.utils' from '/Users/paighewold/opt/anaconda3/lib/python3.9/site-packages/zmq/utils/__init__.py'>,\n",
       "  'zmq.utils.constant_names': <module 'zmq.utils.constant_names' from '/Users/paighewold/opt/anaconda3/lib/python3.9/site-packages/zmq/utils/constant_names.py'>,\n",
       "  'zmq.sugar.constants': <module 'zmq.sugar.constants' from '/Users/paighewold/opt/anaconda3/lib/python3.9/site-packages/zmq/sugar/constants.py'>,\n",
       "  'atexit': <module 'atexit' (built-in)>,\n",
       "  'zmq.sugar.attrsettr': <module 'zmq.sugar.attrsettr' from '/Users/paighewold/opt/anaconda3/lib/python3.9/site-packages/zmq/sugar/attrsettr.py'>,\n",
       "  'zmq.sugar.poll': <module 'zmq.sugar.poll' from '/Users/paighewold/opt/anaconda3/lib/python3.9/site-packages/zmq/sugar/poll.py'>,\n",
       "  'zmq.utils.jsonapi': <module 'zmq.utils.jsonapi' from '/Users/paighewold/opt/anaconda3/lib/python3.9/site-packages/zmq/utils/jsonapi.py'>,\n",
       "  'zmq.utils.strtypes': <module 'zmq.utils.strtypes' from '/Users/paighewold/opt/anaconda3/lib/python3.9/site-packages/zmq/utils/strtypes.py'>,\n",
       "  'zmq.sugar.socket': <module 'zmq.sugar.socket' from '/Users/paighewold/opt/anaconda3/lib/python3.9/site-packages/zmq/sugar/socket.py'>,\n",
       "  'zmq.sugar.context': <module 'zmq.sugar.context' from '/Users/paighewold/opt/anaconda3/lib/python3.9/site-packages/zmq/sugar/context.py'>,\n",
       "  'zmq.sugar.frame': <module 'zmq.sugar.frame' from '/Users/paighewold/opt/anaconda3/lib/python3.9/site-packages/zmq/sugar/frame.py'>,\n",
       "  'zmq.sugar.tracker': <module 'zmq.sugar.tracker' from '/Users/paighewold/opt/anaconda3/lib/python3.9/site-packages/zmq/sugar/tracker.py'>,\n",
       "  'zmq.sugar.version': <module 'zmq.sugar.version' from '/Users/paighewold/opt/anaconda3/lib/python3.9/site-packages/zmq/sugar/version.py'>,\n",
       "  'zmq.sugar.stopwatch': <module 'zmq.sugar.stopwatch' from '/Users/paighewold/opt/anaconda3/lib/python3.9/site-packages/zmq/sugar/stopwatch.py'>,\n",
       "  'zmq.sugar': <module 'zmq.sugar' from '/Users/paighewold/opt/anaconda3/lib/python3.9/site-packages/zmq/sugar/__init__.py'>,\n",
       "  'zmq': <module 'zmq' from '/Users/paighewold/opt/anaconda3/lib/python3.9/site-packages/zmq/__init__.py'>,\n",
       "  '_ast': <module '_ast' (built-in)>,\n",
       "  'ast': <module 'ast' from '/Users/paighewold/opt/anaconda3/lib/python3.9/ast.py'>,\n",
       "  '_opcode': <module '_opcode' from '/Users/paighewold/opt/anaconda3/lib/python3.9/lib-dynload/_opcode.cpython-39-darwin.so'>,\n",
       "  'opcode': <module 'opcode' from '/Users/paighewold/opt/anaconda3/lib/python3.9/opcode.py'>,\n",
       "  'dis': <module 'dis' from '/Users/paighewold/opt/anaconda3/lib/python3.9/dis.py'>,\n",
       "  'token': <module 'token' from '/Users/paighewold/opt/anaconda3/lib/python3.9/token.py'>,\n",
       "  'tokenize': <module 'tokenize' from '/Users/paighewold/opt/anaconda3/lib/python3.9/tokenize.py'>,\n",
       "  'linecache': <module 'linecache' from '/Users/paighewold/opt/anaconda3/lib/python3.9/linecache.py'>,\n",
       "  'inspect': <module 'inspect' from '/Users/paighewold/opt/anaconda3/lib/python3.9/inspect.py'>,\n",
       "  'traitlets.utils': <module 'traitlets.utils' from '/Users/paighewold/opt/anaconda3/lib/python3.9/site-packages/traitlets/utils/__init__.py'>,\n",
       "  'traitlets.utils.getargspec': <module 'traitlets.utils.getargspec' from '/Users/paighewold/opt/anaconda3/lib/python3.9/site-packages/traitlets/utils/getargspec.py'>,\n",
       "  'traitlets.utils.importstring': <module 'traitlets.utils.importstring' from '/Users/paighewold/opt/anaconda3/lib/python3.9/site-packages/traitlets/utils/importstring.py'>,\n",
       "  'traitlets.utils.sentinel': <module 'traitlets.utils.sentinel' from '/Users/paighewold/opt/anaconda3/lib/python3.9/site-packages/traitlets/utils/sentinel.py'>,\n",
       "  'traitlets.utils.bunch': <module 'traitlets.utils.bunch' from '/Users/paighewold/opt/anaconda3/lib/python3.9/site-packages/traitlets/utils/bunch.py'>,\n",
       "  'traitlets.utils.descriptions': <module 'traitlets.utils.descriptions' from '/Users/paighewold/opt/anaconda3/lib/python3.9/site-packages/traitlets/utils/descriptions.py'>,\n",
       "  'traitlets.traitlets': <module 'traitlets.traitlets' from '/Users/paighewold/opt/anaconda3/lib/python3.9/site-packages/traitlets/traitlets.py'>,\n",
       "  'traitlets.utils.decorators': <module 'traitlets.utils.decorators' from '/Users/paighewold/opt/anaconda3/lib/python3.9/site-packages/traitlets/utils/decorators.py'>,\n",
       "  'traitlets._version': <module 'traitlets._version' from '/Users/paighewold/opt/anaconda3/lib/python3.9/site-packages/traitlets/_version.py'>,\n",
       "  'traitlets': <module 'traitlets' from '/Users/paighewold/opt/anaconda3/lib/python3.9/site-packages/traitlets/__init__.py'>,\n",
       "  'traceback': <module 'traceback' from '/Users/paighewold/opt/anaconda3/lib/python3.9/traceback.py'>,\n",
       "  '_string': <module '_string' (built-in)>,\n",
       "  'string': <module 'string' from '/Users/paighewold/opt/anaconda3/lib/python3.9/string.py'>,\n",
       "  'logging': <module 'logging' from '/Users/paighewold/opt/anaconda3/lib/python3.9/logging/__init__.py'>,\n",
       "  'pprint': <module 'pprint' from '/Users/paighewold/opt/anaconda3/lib/python3.9/pprint.py'>,\n",
       "  'gettext': <module 'gettext' from '/Users/paighewold/opt/anaconda3/lib/python3.9/gettext.py'>,\n",
       "  'argparse': <module 'argparse' from '/Users/paighewold/opt/anaconda3/lib/python3.9/argparse.py'>,\n",
       "  'traitlets.config.loader': <module 'traitlets.config.loader' from '/Users/paighewold/opt/anaconda3/lib/python3.9/site-packages/traitlets/config/loader.py'>,\n",
       "  'textwrap': <module 'textwrap' from '/Users/paighewold/opt/anaconda3/lib/python3.9/textwrap.py'>,\n",
       "  'traitlets.utils.text': <module 'traitlets.utils.text' from '/Users/paighewold/opt/anaconda3/lib/python3.9/site-packages/traitlets/utils/text.py'>,\n",
       "  'traitlets.config.configurable': <module 'traitlets.config.configurable' from '/Users/paighewold/opt/anaconda3/lib/python3.9/site-packages/traitlets/config/configurable.py'>,\n",
       "  'traitlets.config.application': <module 'traitlets.config.application' from '/Users/paighewold/opt/anaconda3/lib/python3.9/site-packages/traitlets/config/application.py'>,\n",
       "  'traitlets.config': <module 'traitlets.config' from '/Users/paighewold/opt/anaconda3/lib/python3.9/site-packages/traitlets/config/__init__.py'>,\n",
       "  'jupyter_client.localinterfaces': <module 'jupyter_client.localinterfaces' from '/Users/paighewold/opt/anaconda3/lib/python3.9/site-packages/jupyter_client/localinterfaces.py'>,\n",
       "  'jupyter_core.version': <module 'jupyter_core.version' from '/Users/paighewold/opt/anaconda3/lib/python3.9/site-packages/jupyter_core/version.py'>,\n",
       "  'jupyter_core': <module 'jupyter_core' from '/Users/paighewold/opt/anaconda3/lib/python3.9/site-packages/jupyter_core/__init__.py'>,\n",
       "  'ntpath': <module 'ntpath' from '/Users/paighewold/opt/anaconda3/lib/python3.9/ntpath.py'>,\n",
       "  'urllib': <module 'urllib' from '/Users/paighewold/opt/anaconda3/lib/python3.9/urllib/__init__.py'>,\n",
       "  'urllib.parse': <module 'urllib.parse' from '/Users/paighewold/opt/anaconda3/lib/python3.9/urllib/parse.py'>,\n",
       "  'pathlib': <module 'pathlib' from '/Users/paighewold/opt/anaconda3/lib/python3.9/pathlib.py'>,\n",
       "  'jupyter_core.paths': <module 'jupyter_core.paths' from '/Users/paighewold/opt/anaconda3/lib/python3.9/site-packages/jupyter_core/paths.py'>,\n",
       "  'jupyter_client.utils': <module 'jupyter_client.utils' from '/Users/paighewold/opt/anaconda3/lib/python3.9/site-packages/jupyter_client/utils.py'>,\n",
       "  'jupyter_client.connect': <module 'jupyter_client.connect' from '/Users/paighewold/opt/anaconda3/lib/python3.9/site-packages/jupyter_client/connect.py'>,\n",
       "  'traitlets.log': <module 'traitlets.log' from '/Users/paighewold/opt/anaconda3/lib/python3.9/site-packages/traitlets/log.py'>,\n",
       "  'jupyter_client.launcher': <module 'jupyter_client.launcher' from '/Users/paighewold/opt/anaconda3/lib/python3.9/site-packages/jupyter_client/launcher.py'>,\n",
       "  'concurrent': <module 'concurrent' from '/Users/paighewold/opt/anaconda3/lib/python3.9/concurrent/__init__.py'>,\n",
       "  'concurrent.futures._base': <module 'concurrent.futures._base' from '/Users/paighewold/opt/anaconda3/lib/python3.9/concurrent/futures/_base.py'>,\n",
       "  'concurrent.futures': <module 'concurrent.futures' from '/Users/paighewold/opt/anaconda3/lib/python3.9/concurrent/futures/__init__.py'>,\n",
       "  '_ssl': <module '_ssl' from '/Users/paighewold/opt/anaconda3/lib/python3.9/lib-dynload/_ssl.cpython-39-darwin.so'>,\n",
       "  'binascii': <module 'binascii' from '/Users/paighewold/opt/anaconda3/lib/python3.9/lib-dynload/binascii.cpython-39-darwin.so'>,\n",
       "  'base64': <module 'base64' from '/Users/paighewold/opt/anaconda3/lib/python3.9/base64.py'>,\n",
       "  'ssl': <module 'ssl' from '/Users/paighewold/opt/anaconda3/lib/python3.9/ssl.py'>,\n",
       "  'asyncio.constants': <module 'asyncio.constants' from '/Users/paighewold/opt/anaconda3/lib/python3.9/asyncio/constants.py'>,\n",
       "  'asyncio.format_helpers': <module 'asyncio.format_helpers' from '/Users/paighewold/opt/anaconda3/lib/python3.9/asyncio/format_helpers.py'>,\n",
       "  'asyncio.base_futures': <module 'asyncio.base_futures' from '/Users/paighewold/opt/anaconda3/lib/python3.9/asyncio/base_futures.py'>,\n",
       "  'asyncio.log': <module 'asyncio.log' from '/Users/paighewold/opt/anaconda3/lib/python3.9/asyncio/log.py'>,\n",
       "  'asyncio.coroutines': <module 'asyncio.coroutines' from '/Users/paighewold/opt/anaconda3/lib/python3.9/asyncio/coroutines.py'>,\n",
       "  '_contextvars': <module '_contextvars' from '/Users/paighewold/opt/anaconda3/lib/python3.9/lib-dynload/_contextvars.cpython-39-darwin.so'>,\n",
       "  'contextvars': <module 'contextvars' from '/Users/paighewold/opt/anaconda3/lib/python3.9/contextvars.py'>,\n",
       "  'asyncio.exceptions': <module 'asyncio.exceptions' from '/Users/paighewold/opt/anaconda3/lib/python3.9/asyncio/exceptions.py'>,\n",
       "  'asyncio.base_tasks': <module 'asyncio.base_tasks' from '/Users/paighewold/opt/anaconda3/lib/python3.9/asyncio/base_tasks.py'>,\n",
       "  '_asyncio': <module '_asyncio' from '/Users/paighewold/opt/anaconda3/lib/python3.9/lib-dynload/_asyncio.cpython-39-darwin.so'>,\n",
       "  'asyncio.events': <module 'asyncio.events' from '/Users/paighewold/opt/anaconda3/lib/python3.9/asyncio/events.py'>,\n",
       "  'asyncio.futures': <module 'asyncio.futures' from '/Users/paighewold/opt/anaconda3/lib/python3.9/asyncio/futures.py'>,\n",
       "  'asyncio.protocols': <module 'asyncio.protocols' from '/Users/paighewold/opt/anaconda3/lib/python3.9/asyncio/protocols.py'>,\n",
       "  'asyncio.transports': <module 'asyncio.transports' from '/Users/paighewold/opt/anaconda3/lib/python3.9/asyncio/transports.py'>,\n",
       "  'asyncio.sslproto': <module 'asyncio.sslproto' from '/Users/paighewold/opt/anaconda3/lib/python3.9/asyncio/sslproto.py'>,\n",
       "  'asyncio.locks': <module 'asyncio.locks' from '/Users/paighewold/opt/anaconda3/lib/python3.9/asyncio/locks.py'>,\n",
       "  'asyncio.tasks': <module 'asyncio.tasks' from '/Users/paighewold/opt/anaconda3/lib/python3.9/asyncio/tasks.py'>,\n",
       "  'asyncio.staggered': <module 'asyncio.staggered' from '/Users/paighewold/opt/anaconda3/lib/python3.9/asyncio/staggered.py'>,\n",
       "  'asyncio.trsock': <module 'asyncio.trsock' from '/Users/paighewold/opt/anaconda3/lib/python3.9/asyncio/trsock.py'>,\n",
       "  'asyncio.base_events': <module 'asyncio.base_events' from '/Users/paighewold/opt/anaconda3/lib/python3.9/asyncio/base_events.py'>,\n",
       "  'asyncio.runners': <module 'asyncio.runners' from '/Users/paighewold/opt/anaconda3/lib/python3.9/asyncio/runners.py'>,\n",
       "  'asyncio.queues': <module 'asyncio.queues' from '/Users/paighewold/opt/anaconda3/lib/python3.9/asyncio/queues.py'>,\n",
       "  'asyncio.streams': <module 'asyncio.streams' from '/Users/paighewold/opt/anaconda3/lib/python3.9/asyncio/streams.py'>,\n",
       "  'asyncio.subprocess': <module 'asyncio.subprocess' from '/Users/paighewold/opt/anaconda3/lib/python3.9/asyncio/subprocess.py'>,\n",
       "  'asyncio.threads': <module 'asyncio.threads' from '/Users/paighewold/opt/anaconda3/lib/python3.9/asyncio/threads.py'>,\n",
       "  'asyncio.base_subprocess': <module 'asyncio.base_subprocess' from '/Users/paighewold/opt/anaconda3/lib/python3.9/asyncio/base_subprocess.py'>,\n",
       "  'asyncio.selector_events': <module 'asyncio.selector_events' from '/Users/paighewold/opt/anaconda3/lib/python3.9/asyncio/selector_events.py'>,\n",
       "  'asyncio.unix_events': <module 'asyncio.unix_events' from '/Users/paighewold/opt/anaconda3/lib/python3.9/asyncio/unix_events.py'>,\n",
       "  'asyncio': <module 'asyncio' from '/Users/paighewold/opt/anaconda3/lib/python3.9/asyncio/__init__.py'>,\n",
       "  'jupyter_client.channelsabc': <module 'jupyter_client.channelsabc' from '/Users/paighewold/opt/anaconda3/lib/python3.9/site-packages/jupyter_client/channelsabc.py'>,\n",
       "  'jupyter_client.channels': <module 'jupyter_client.channels' from '/Users/paighewold/opt/anaconda3/lib/python3.9/site-packages/jupyter_client/channels.py'>,\n",
       "  'jupyter_client.clientabc': <module 'jupyter_client.clientabc' from '/Users/paighewold/opt/anaconda3/lib/python3.9/site-packages/jupyter_client/clientabc.py'>,\n",
       "  'jupyter_client.client': <module 'jupyter_client.client' from '/Users/paighewold/opt/anaconda3/lib/python3.9/site-packages/jupyter_client/client.py'>,\n",
       "  'jupyter_client.kernelspec': <module 'jupyter_client.kernelspec' from '/Users/paighewold/opt/anaconda3/lib/python3.9/site-packages/jupyter_client/kernelspec.py'>,\n",
       "  'jupyter_client.managerabc': <module 'jupyter_client.managerabc' from '/Users/paighewold/opt/anaconda3/lib/python3.9/site-packages/jupyter_client/managerabc.py'>,\n",
       "  'jupyter_client.manager': <module 'jupyter_client.manager' from '/Users/paighewold/opt/anaconda3/lib/python3.9/site-packages/jupyter_client/manager.py'>,\n",
       "  '_queue': <module '_queue' from '/Users/paighewold/opt/anaconda3/lib/python3.9/lib-dynload/_queue.cpython-39-darwin.so'>,\n",
       "  'queue': <module 'queue' from '/Users/paighewold/opt/anaconda3/lib/python3.9/queue.py'>,\n",
       "  'jupyter_client.blocking.channels': <module 'jupyter_client.blocking.channels' from '/Users/paighewold/opt/anaconda3/lib/python3.9/site-packages/jupyter_client/blocking/channels.py'>,\n",
       "  'jupyter_client.blocking.client': <module 'jupyter_client.blocking.client' from '/Users/paighewold/opt/anaconda3/lib/python3.9/site-packages/jupyter_client/blocking/client.py'>,\n",
       "  'jupyter_client.blocking': <module 'jupyter_client.blocking' from '/Users/paighewold/opt/anaconda3/lib/python3.9/site-packages/jupyter_client/blocking/__init__.py'>,\n",
       "  'zmq._future': <module 'zmq._future' from '/Users/paighewold/opt/anaconda3/lib/python3.9/site-packages/zmq/_future.py'>,\n",
       "  'zmq.asyncio': <module 'zmq.asyncio' from '/Users/paighewold/opt/anaconda3/lib/python3.9/site-packages/zmq/asyncio.py'>,\n",
       "  'jupyter_client.asynchronous.channels': <module 'jupyter_client.asynchronous.channels' from '/Users/paighewold/opt/anaconda3/lib/python3.9/site-packages/jupyter_client/asynchronous/channels.py'>,\n",
       "  'jupyter_client.asynchronous.client': <module 'jupyter_client.asynchronous.client' from '/Users/paighewold/opt/anaconda3/lib/python3.9/site-packages/jupyter_client/asynchronous/client.py'>,\n",
       "  'jupyter_client.asynchronous': <module 'jupyter_client.asynchronous' from '/Users/paighewold/opt/anaconda3/lib/python3.9/site-packages/jupyter_client/asynchronous/__init__.py'>,\n",
       "  '_uuid': <module '_uuid' from '/Users/paighewold/opt/anaconda3/lib/python3.9/lib-dynload/_uuid.cpython-39-darwin.so'>,\n",
       "  'uuid': <module 'uuid' from '/Users/paighewold/opt/anaconda3/lib/python3.9/uuid.py'>,\n",
       "  'jupyter_client.multikernelmanager': <module 'jupyter_client.multikernelmanager' from '/Users/paighewold/opt/anaconda3/lib/python3.9/site-packages/jupyter_client/multikernelmanager.py'>,\n",
       "  'jupyter_client': <module 'jupyter_client' from '/Users/paighewold/opt/anaconda3/lib/python3.9/site-packages/jupyter_client/__init__.py'>,\n",
       "  'ipykernel.connect': <module 'ipykernel.connect' from '/Users/paighewold/opt/anaconda3/lib/python3.9/site-packages/ipykernel/connect.py'>,\n",
       "  'ipykernel': <module 'ipykernel' from '/Users/paighewold/opt/anaconda3/lib/python3.9/site-packages/ipykernel/__init__.py'>,\n",
       "  'tornado': <module 'tornado' from '/Users/paighewold/opt/anaconda3/lib/python3.9/site-packages/tornado/__init__.py'>,\n",
       "  '_datetime': <module '_datetime' from '/Users/paighewold/opt/anaconda3/lib/python3.9/lib-dynload/_datetime.cpython-39-darwin.so'>,\n",
       "  'datetime': <module 'datetime' from '/Users/paighewold/opt/anaconda3/lib/python3.9/datetime.py'>,\n",
       "  'numbers': <module 'numbers' from '/Users/paighewold/opt/anaconda3/lib/python3.9/numbers.py'>,\n",
       "  'logging.handlers': <module 'logging.handlers' from '/Users/paighewold/opt/anaconda3/lib/python3.9/logging/handlers.py'>,\n",
       "  'html.entities': <module 'html.entities' from '/Users/paighewold/opt/anaconda3/lib/python3.9/html/entities.py'>,\n",
       "  'html': <module 'html' from '/Users/paighewold/opt/anaconda3/lib/python3.9/html/__init__.py'>,\n",
       "  'tornado.speedups': <module 'tornado.speedups' from '/Users/paighewold/opt/anaconda3/lib/python3.9/site-packages/tornado/speedups.cpython-39-darwin.so'>,\n",
       "  'tornado.util': <module 'tornado.util' from '/Users/paighewold/opt/anaconda3/lib/python3.9/site-packages/tornado/util.py'>,\n",
       "  'tornado.escape': <module 'tornado.escape' from '/Users/paighewold/opt/anaconda3/lib/python3.9/site-packages/tornado/escape.py'>,\n",
       "  'colorama.ansi': <module 'colorama.ansi' from '/Users/paighewold/opt/anaconda3/lib/python3.9/site-packages/colorama/ansi.py'>,\n",
       "  'colorama.win32': <module 'colorama.win32' from '/Users/paighewold/opt/anaconda3/lib/python3.9/site-packages/colorama/win32.py'>,\n",
       "  'colorama.winterm': <module 'colorama.winterm' from '/Users/paighewold/opt/anaconda3/lib/python3.9/site-packages/colorama/winterm.py'>,\n",
       "  'colorama.ansitowin32': <module 'colorama.ansitowin32' from '/Users/paighewold/opt/anaconda3/lib/python3.9/site-packages/colorama/ansitowin32.py'>,\n",
       "  'colorama.initialise': <module 'colorama.initialise' from '/Users/paighewold/opt/anaconda3/lib/python3.9/site-packages/colorama/initialise.py'>,\n",
       "  'colorama': <module 'colorama' from '/Users/paighewold/opt/anaconda3/lib/python3.9/site-packages/colorama/__init__.py'>,\n",
       "  '_curses': <module '_curses' from '/Users/paighewold/opt/anaconda3/lib/python3.9/lib-dynload/_curses.cpython-39-darwin.so'>,\n",
       "  'curses': <module 'curses' from '/Users/paighewold/opt/anaconda3/lib/python3.9/curses/__init__.py'>,\n",
       "  'tornado.log': <module 'tornado.log' from '/Users/paighewold/opt/anaconda3/lib/python3.9/site-packages/tornado/log.py'>,\n",
       "  'tornado.concurrent': <module 'tornado.concurrent' from '/Users/paighewold/opt/anaconda3/lib/python3.9/site-packages/tornado/concurrent.py'>,\n",
       "  'tornado.ioloop': <module 'tornado.ioloop' from '/Users/paighewold/opt/anaconda3/lib/python3.9/site-packages/tornado/ioloop.py'>,\n",
       "  '__future__': <module '__future__' from '/Users/paighewold/opt/anaconda3/lib/python3.9/__future__.py'>,\n",
       "  'tornado.platform': <module 'tornado.platform' from '/Users/paighewold/opt/anaconda3/lib/python3.9/site-packages/tornado/platform/__init__.py'>,\n",
       "  'tornado.gen': <module 'tornado.gen' from '/Users/paighewold/opt/anaconda3/lib/python3.9/site-packages/tornado/gen.py'>,\n",
       "  'tornado.platform.asyncio': <module 'tornado.platform.asyncio' from '/Users/paighewold/opt/anaconda3/lib/python3.9/site-packages/tornado/platform/asyncio.py'>,\n",
       "  'zmq.eventloop.ioloop': <module 'zmq.eventloop.ioloop' from '/Users/paighewold/opt/anaconda3/lib/python3.9/site-packages/zmq/eventloop/ioloop.py'>,\n",
       "  'zmq.eventloop': <module 'zmq.eventloop' from '/Users/paighewold/opt/anaconda3/lib/python3.9/site-packages/zmq/eventloop/__init__.py'>,\n",
       "  'zmq.eventloop.zmqstream': <module 'zmq.eventloop.zmqstream' from '/Users/paighewold/opt/anaconda3/lib/python3.9/site-packages/zmq/eventloop/zmqstream.py'>,\n",
       "  'IPython.core': <module 'IPython.core' from '/Users/paighewold/opt/anaconda3/lib/python3.9/site-packages/IPython/core/__init__.py'>,\n",
       "  'IPython.core.getipython': <module 'IPython.core.getipython' from '/Users/paighewold/opt/anaconda3/lib/python3.9/site-packages/IPython/core/getipython.py'>,\n",
       "  'IPython.core.release': <module 'IPython.core.release' from '/Users/paighewold/opt/anaconda3/lib/python3.9/site-packages/IPython/core/release.py'>,\n",
       "  'sysconfig': <module 'sysconfig' from '/Users/paighewold/opt/anaconda3/lib/python3.9/sysconfig.py'>,\n",
       "  '_sysconfigdata__darwin_darwin': <module '_sysconfigdata__darwin_darwin' from '/Users/paighewold/opt/anaconda3/lib/python3.9/_sysconfigdata__darwin_darwin.py'>,\n",
       "  '_osx_support': <module '_osx_support' from '/Users/paighewold/opt/anaconda3/lib/python3.9/_osx_support.py'>,\n",
       "  'pydoc': <module 'pydoc' from '/Users/paighewold/opt/anaconda3/lib/python3.9/pydoc.py'>,\n",
       "  'bdb': <module 'bdb' from '/Users/paighewold/opt/anaconda3/lib/python3.9/bdb.py'>,\n",
       "  'IPython.utils': <module 'IPython.utils' from '/Users/paighewold/opt/anaconda3/lib/python3.9/site-packages/IPython/utils/__init__.py'>,\n",
       "  'IPython.utils.ipstruct': <module 'IPython.utils.ipstruct' from '/Users/paighewold/opt/anaconda3/lib/python3.9/site-packages/IPython/utils/ipstruct.py'>,\n",
       "  'IPython.utils.coloransi': <module 'IPython.utils.coloransi' from '/Users/paighewold/opt/anaconda3/lib/python3.9/site-packages/IPython/utils/coloransi.py'>,\n",
       "  'pygments': <module 'pygments' from '/Users/paighewold/opt/anaconda3/lib/python3.9/site-packages/pygments/__init__.py'>,\n",
       "  'IPython.utils.colorable': <module 'IPython.utils.colorable' from '/Users/paighewold/opt/anaconda3/lib/python3.9/site-packages/IPython/utils/colorable.py'>,\n",
       "  'IPython.utils.PyColorize': <module 'IPython.utils.PyColorize' from '/Users/paighewold/opt/anaconda3/lib/python3.9/site-packages/IPython/utils/PyColorize.py'>,\n",
       "  'locale': <module 'locale' from '/Users/paighewold/opt/anaconda3/lib/python3.9/locale.py'>,\n",
       "  'IPython.utils.encoding': <module 'IPython.utils.encoding' from '/Users/paighewold/opt/anaconda3/lib/python3.9/site-packages/IPython/utils/encoding.py'>,\n",
       "  'IPython.utils.py3compat': <module 'IPython.utils.py3compat' from '/Users/paighewold/opt/anaconda3/lib/python3.9/site-packages/IPython/utils/py3compat.py'>,\n",
       "  'IPython.core.excolors': <module 'IPython.core.excolors' from '/Users/paighewold/opt/anaconda3/lib/python3.9/site-packages/IPython/core/excolors.py'>,\n",
       "  'IPython.testing': <module 'IPython.testing' from '/Users/paighewold/opt/anaconda3/lib/python3.9/site-packages/IPython/testing/__init__.py'>,\n",
       "  'IPython.testing.skipdoctest': <module 'IPython.testing.skipdoctest' from '/Users/paighewold/opt/anaconda3/lib/python3.9/site-packages/IPython/testing/skipdoctest.py'>,\n",
       "  'cmd': <module 'cmd' from '/Users/paighewold/opt/anaconda3/lib/python3.9/cmd.py'>,\n",
       "  'codeop': <module 'codeop' from '/Users/paighewold/opt/anaconda3/lib/python3.9/codeop.py'>,\n",
       "  'code': <module 'code' from '/Users/paighewold/opt/anaconda3/lib/python3.9/code.py'>,\n",
       "  'pdb': <module 'pdb' from '/Users/paighewold/opt/anaconda3/lib/python3.9/pdb.py'>,\n",
       "  'IPython.core.debugger': <module 'IPython.core.debugger' from '/Users/paighewold/opt/anaconda3/lib/python3.9/site-packages/IPython/core/debugger.py'>,\n",
       "  'IPython.core.display_trap': <module 'IPython.core.display_trap' from '/Users/paighewold/opt/anaconda3/lib/python3.9/site-packages/IPython/core/display_trap.py'>,\n",
       "  'pexpect.exceptions': <module 'pexpect.exceptions' from '/Users/paighewold/opt/anaconda3/lib/python3.9/site-packages/pexpect/exceptions.py'>,\n",
       "  'pexpect.utils': <module 'pexpect.utils' from '/Users/paighewold/opt/anaconda3/lib/python3.9/site-packages/pexpect/utils.py'>,\n",
       "  'pexpect.expect': <module 'pexpect.expect' from '/Users/paighewold/opt/anaconda3/lib/python3.9/site-packages/pexpect/expect.py'>,\n",
       "  'tty': <module 'tty' from '/Users/paighewold/opt/anaconda3/lib/python3.9/tty.py'>,\n",
       "  'pty': <module 'pty' from '/Users/paighewold/opt/anaconda3/lib/python3.9/pty.py'>,\n",
       "  'fcntl': <module 'fcntl' from '/Users/paighewold/opt/anaconda3/lib/python3.9/lib-dynload/fcntl.cpython-39-darwin.so'>,\n",
       "  'resource': <module 'resource' from '/Users/paighewold/opt/anaconda3/lib/python3.9/lib-dynload/resource.cpython-39-darwin.so'>,\n",
       "  'ptyprocess.util': <module 'ptyprocess.util' from '/Users/paighewold/opt/anaconda3/lib/python3.9/site-packages/ptyprocess/util.py'>,\n",
       "  'ptyprocess.ptyprocess': <module 'ptyprocess.ptyprocess' from '/Users/paighewold/opt/anaconda3/lib/python3.9/site-packages/ptyprocess/ptyprocess.py'>,\n",
       "  'ptyprocess': <module 'ptyprocess' from '/Users/paighewold/opt/anaconda3/lib/python3.9/site-packages/ptyprocess/__init__.py'>,\n",
       "  'pexpect.spawnbase': <module 'pexpect.spawnbase' from '/Users/paighewold/opt/anaconda3/lib/python3.9/site-packages/pexpect/spawnbase.py'>,\n",
       "  'pexpect.pty_spawn': <module 'pexpect.pty_spawn' from '/Users/paighewold/opt/anaconda3/lib/python3.9/site-packages/pexpect/pty_spawn.py'>,\n",
       "  'pexpect.run': <module 'pexpect.run' from '/Users/paighewold/opt/anaconda3/lib/python3.9/site-packages/pexpect/run.py'>,\n",
       "  'pexpect': <module 'pexpect' from '/Users/paighewold/opt/anaconda3/lib/python3.9/site-packages/pexpect/__init__.py'>,\n",
       "  'shlex': <module 'shlex' from '/Users/paighewold/opt/anaconda3/lib/python3.9/shlex.py'>,\n",
       "  'IPython.utils._process_common': <module 'IPython.utils._process_common' from '/Users/paighewold/opt/anaconda3/lib/python3.9/site-packages/IPython/utils/_process_common.py'>,\n",
       "  'IPython.utils._process_posix': <module 'IPython.utils._process_posix' from '/Users/paighewold/opt/anaconda3/lib/python3.9/site-packages/IPython/utils/_process_posix.py'>,\n",
       "  'IPython.utils.process': <module 'IPython.utils.process' from '/Users/paighewold/opt/anaconda3/lib/python3.9/site-packages/IPython/utils/process.py'>,\n",
       "  'IPython.utils.decorators': <module 'IPython.utils.decorators' from '/Users/paighewold/opt/anaconda3/lib/python3.9/site-packages/IPython/utils/decorators.py'>,\n",
       "  'IPython.utils.path': <module 'IPython.utils.path' from '/Users/paighewold/opt/anaconda3/lib/python3.9/site-packages/IPython/utils/path.py'>,\n",
       "  'IPython.utils.data': <module 'IPython.utils.data' from '/Users/paighewold/opt/anaconda3/lib/python3.9/site-packages/IPython/utils/data.py'>,\n",
       "  'IPython.utils.terminal': <module 'IPython.utils.terminal' from '/Users/paighewold/opt/anaconda3/lib/python3.9/site-packages/IPython/utils/terminal.py'>,\n",
       "  'IPython.core.ultratb': <module 'IPython.core.ultratb' from '/Users/paighewold/opt/anaconda3/lib/python3.9/site-packages/IPython/core/ultratb.py'>,\n",
       "  'IPython.utils._sysinfo': <module 'IPython.utils._sysinfo' from '/Users/paighewold/opt/anaconda3/lib/python3.9/site-packages/IPython/utils/_sysinfo.py'>,\n",
       "  'IPython.utils.sysinfo': <module 'IPython.utils.sysinfo' from '/Users/paighewold/opt/anaconda3/lib/python3.9/site-packages/IPython/utils/sysinfo.py'>,\n",
       "  'IPython.core.crashhandler': <module 'IPython.core.crashhandler' from '/Users/paighewold/opt/anaconda3/lib/python3.9/site-packages/IPython/core/crashhandler.py'>,\n",
       "  'IPython.utils.importstring': <module 'IPython.utils.importstring' from '/Users/paighewold/opt/anaconda3/lib/python3.9/site-packages/IPython/utils/importstring.py'>,\n",
       "  'IPython.paths': <module 'IPython.paths' from '/Users/paighewold/opt/anaconda3/lib/python3.9/site-packages/IPython/paths.py'>,\n",
       "  'IPython.core.profiledir': <module 'IPython.core.profiledir' from '/Users/paighewold/opt/anaconda3/lib/python3.9/site-packages/IPython/core/profiledir.py'>,\n",
       "  'IPython.core.application': <module 'IPython.core.application' from '/Users/paighewold/opt/anaconda3/lib/python3.9/site-packages/IPython/core/application.py'>,\n",
       "  'IPython.terminal': <module 'IPython.terminal' from '/Users/paighewold/opt/anaconda3/lib/python3.9/site-packages/IPython/terminal/__init__.py'>,\n",
       "  '_hashlib': <module '_hashlib' from '/Users/paighewold/opt/anaconda3/lib/python3.9/lib-dynload/_hashlib.cpython-39-darwin.so'>,\n",
       "  '_blake2': <module '_blake2' from '/Users/paighewold/opt/anaconda3/lib/python3.9/lib-dynload/_blake2.cpython-39-darwin.so'>,\n",
       "  'hashlib': <module 'hashlib' from '/Users/paighewold/opt/anaconda3/lib/python3.9/hashlib.py'>,\n",
       "  'IPython.core.compilerop': <module 'IPython.core.compilerop' from '/Users/paighewold/opt/anaconda3/lib/python3.9/site-packages/IPython/core/compilerop.py'>,\n",
       "  'IPython.core.error': <module 'IPython.core.error' from '/Users/paighewold/opt/anaconda3/lib/python3.9/site-packages/IPython/core/error.py'>,\n",
       "  'IPython.utils.text': <module 'IPython.utils.text' from '/Users/paighewold/opt/anaconda3/lib/python3.9/site-packages/IPython/utils/text.py'>,\n",
       "  'IPython.core.magic_arguments': <module 'IPython.core.magic_arguments' from '/Users/paighewold/opt/anaconda3/lib/python3.9/site-packages/IPython/core/magic_arguments.py'>,\n",
       "  'getopt': <module 'getopt' from '/Users/paighewold/opt/anaconda3/lib/python3.9/getopt.py'>,\n",
       "  'mimetypes': <module 'mimetypes' from '/Users/paighewold/opt/anaconda3/lib/python3.9/mimetypes.py'>,\n",
       "  'IPython.core.display': <module 'IPython.core.display' from '/Users/paighewold/opt/anaconda3/lib/python3.9/site-packages/IPython/core/display.py'>,\n",
       "  'IPython.core.page': <module 'IPython.core.page' from '/Users/paighewold/opt/anaconda3/lib/python3.9/site-packages/IPython/core/page.py'>,\n",
       "  'IPython.lib.security': <module 'IPython.lib.security' from '/Users/paighewold/opt/anaconda3/lib/python3.9/site-packages/IPython/lib/security.py'>,\n",
       "  'IPython.lib': <module 'IPython.lib' from '/Users/paighewold/opt/anaconda3/lib/python3.9/site-packages/IPython/lib/__init__.py'>,\n",
       "  'IPython.lib.pretty': <module 'IPython.lib.pretty' from '/Users/paighewold/opt/anaconda3/lib/python3.9/site-packages/IPython/lib/pretty.py'>,\n",
       "  'IPython.utils.openpy': <module 'IPython.utils.openpy' from '/Users/paighewold/opt/anaconda3/lib/python3.9/site-packages/IPython/utils/openpy.py'>,\n",
       "  'IPython.utils.dir2': <module 'IPython.utils.dir2' from '/Users/paighewold/opt/anaconda3/lib/python3.9/site-packages/IPython/utils/dir2.py'>,\n",
       "  'IPython.utils.wildcard': <module 'IPython.utils.wildcard' from '/Users/paighewold/opt/anaconda3/lib/python3.9/site-packages/IPython/utils/wildcard.py'>,\n",
       "  'pygments.lexers._mapping': <module 'pygments.lexers._mapping' from '/Users/paighewold/opt/anaconda3/lib/python3.9/site-packages/pygments/lexers/_mapping.py'>,\n",
       "  'pygments.modeline': <module 'pygments.modeline' from '/Users/paighewold/opt/anaconda3/lib/python3.9/site-packages/pygments/modeline.py'>,\n",
       "  'pygments.plugin': <module 'pygments.plugin' from '/Users/paighewold/opt/anaconda3/lib/python3.9/site-packages/pygments/plugin.py'>,\n",
       "  'pygments.util': <module 'pygments.util' from '/Users/paighewold/opt/anaconda3/lib/python3.9/site-packages/pygments/util.py'>,\n",
       "  'pygments.lexers': <module 'pygments.lexers' from '/Users/paighewold/opt/anaconda3/lib/python3.9/site-packages/pygments/lexers/__init__.py'>,\n",
       "  'pygments.filter': <module 'pygments.filter' from '/Users/paighewold/opt/anaconda3/lib/python3.9/site-packages/pygments/filter.py'>,\n",
       "  'pygments.token': <module 'pygments.token' from '/Users/paighewold/opt/anaconda3/lib/python3.9/site-packages/pygments/token.py'>,\n",
       "  'pygments.filters': <module 'pygments.filters' from '/Users/paighewold/opt/anaconda3/lib/python3.9/site-packages/pygments/filters/__init__.py'>,\n",
       "  'pygments.regexopt': <module 'pygments.regexopt' from '/Users/paighewold/opt/anaconda3/lib/python3.9/site-packages/pygments/regexopt.py'>,\n",
       "  'pygments.lexer': <module 'pygments.lexer' from '/Users/paighewold/opt/anaconda3/lib/python3.9/site-packages/pygments/lexer.py'>,\n",
       "  'pygments.unistring': <module 'pygments.unistring' from '/Users/paighewold/opt/anaconda3/lib/python3.9/site-packages/pygments/unistring.py'>,\n",
       "  'pygments.lexers.python': <module 'pygments.lexers.python' from '/Users/paighewold/opt/anaconda3/lib/python3.9/site-packages/pygments/lexers/python.py'>,\n",
       "  'pygments.formatters._mapping': <module 'pygments.formatters._mapping' from '/Users/paighewold/opt/anaconda3/lib/python3.9/site-packages/pygments/formatters/_mapping.py'>,\n",
       "  'pygments.formatters': <module 'pygments.formatters' from '/Users/paighewold/opt/anaconda3/lib/python3.9/site-packages/pygments/formatters/__init__.py'>,\n",
       "  'pygments.styles': <module 'pygments.styles' from '/Users/paighewold/opt/anaconda3/lib/python3.9/site-packages/pygments/styles/__init__.py'>,\n",
       "  'pygments.formatter': <module 'pygments.formatter' from '/Users/paighewold/opt/anaconda3/lib/python3.9/site-packages/pygments/formatter.py'>,\n",
       "  'pygments.formatters.html': <module 'pygments.formatters.html' from '/Users/paighewold/opt/anaconda3/lib/python3.9/site-packages/pygments/formatters/html.py'>,\n",
       "  'IPython.core.oinspect': <module 'IPython.core.oinspect' from '/Users/paighewold/opt/anaconda3/lib/python3.9/site-packages/IPython/core/oinspect.py'>,\n",
       "  'IPython.core.inputtransformer2': <module 'IPython.core.inputtransformer2' from '/Users/paighewold/opt/anaconda3/lib/python3.9/site-packages/IPython/core/inputtransformer2.py'>,\n",
       "  'decorator': <module 'decorator' from '/Users/paighewold/opt/anaconda3/lib/python3.9/site-packages/decorator.py'>,\n",
       "  'IPython.core.magic': <module 'IPython.core.magic' from '/Users/paighewold/opt/anaconda3/lib/python3.9/site-packages/IPython/core/magic.py'>,\n",
       "  'pickleshare': <module 'pickleshare' from '/Users/paighewold/opt/anaconda3/lib/python3.9/site-packages/pickleshare.py'>,\n",
       "  'IPython.core.autocall': <module 'IPython.core.autocall' from '/Users/paighewold/opt/anaconda3/lib/python3.9/site-packages/IPython/core/autocall.py'>,\n",
       "  'IPython.core.macro': <module 'IPython.core.macro' from '/Users/paighewold/opt/anaconda3/lib/python3.9/site-packages/IPython/core/macro.py'>,\n",
       "  'IPython.core.splitinput': <module 'IPython.core.splitinput' from '/Users/paighewold/opt/anaconda3/lib/python3.9/site-packages/IPython/core/splitinput.py'>,\n",
       "  'IPython.core.prefilter': <module 'IPython.core.prefilter' from '/Users/paighewold/opt/anaconda3/lib/python3.9/site-packages/IPython/core/prefilter.py'>,\n",
       "  'IPython.core.alias': <module 'IPython.core.alias' from '/Users/paighewold/opt/anaconda3/lib/python3.9/site-packages/IPython/core/alias.py'>,\n",
       "  'IPython.core.builtin_trap': <module 'IPython.core.builtin_trap' from '/Users/paighewold/opt/anaconda3/lib/python3.9/site-packages/IPython/core/builtin_trap.py'>,\n",
       "  'backcall.backcall': <module 'backcall.backcall' from '/Users/paighewold/opt/anaconda3/lib/python3.9/site-packages/backcall/backcall.py'>,\n",
       "  'backcall': <module 'backcall' from '/Users/paighewold/opt/anaconda3/lib/python3.9/site-packages/backcall/__init__.py'>,\n",
       "  'IPython.core.events': <module 'IPython.core.events' from '/Users/paighewold/opt/anaconda3/lib/python3.9/site-packages/IPython/core/events.py'>,\n",
       "  'IPython.core.displayhook': <module 'IPython.core.displayhook' from '/Users/paighewold/opt/anaconda3/lib/python3.9/site-packages/IPython/core/displayhook.py'>,\n",
       "  'IPython.core.displaypub': <module 'IPython.core.displaypub' from '/Users/paighewold/opt/anaconda3/lib/python3.9/site-packages/IPython/core/displaypub.py'>,\n",
       "  'IPython.core.extensions': <module 'IPython.core.extensions' from '/Users/paighewold/opt/anaconda3/lib/python3.9/site-packages/IPython/core/extensions.py'>,\n",
       "  'IPython.utils.sentinel': <module 'IPython.utils.sentinel' from '/Users/paighewold/opt/anaconda3/lib/python3.9/site-packages/IPython/utils/sentinel.py'>,\n",
       "  'IPython.core.formatters': <module 'IPython.core.formatters' from '/Users/paighewold/opt/anaconda3/lib/python3.9/site-packages/IPython/core/formatters.py'>,\n",
       "  '_sqlite3': <module '_sqlite3' from '/Users/paighewold/opt/anaconda3/lib/python3.9/lib-dynload/_sqlite3.cpython-39-darwin.so'>,\n",
       "  'sqlite3.dbapi2': <module 'sqlite3.dbapi2' from '/Users/paighewold/opt/anaconda3/lib/python3.9/sqlite3/dbapi2.py'>,\n",
       "  'sqlite3': <module 'sqlite3' from '/Users/paighewold/opt/anaconda3/lib/python3.9/sqlite3/__init__.py'>,\n",
       "  'IPython.core.history': <module 'IPython.core.history' from '/Users/paighewold/opt/anaconda3/lib/python3.9/site-packages/IPython/core/history.py'>,\n",
       "  'IPython.core.logger': <module 'IPython.core.logger' from '/Users/paighewold/opt/anaconda3/lib/python3.9/site-packages/IPython/core/logger.py'>,\n",
       "  'IPython.core.payload': <module 'IPython.core.payload' from '/Users/paighewold/opt/anaconda3/lib/python3.9/site-packages/IPython/core/payload.py'>,\n",
       "  'IPython.core.usage': <module 'IPython.core.usage' from '/Users/paighewold/opt/anaconda3/lib/python3.9/site-packages/IPython/core/usage.py'>,\n",
       "  'IPython.lib.display': <module 'IPython.lib.display' from '/Users/paighewold/opt/anaconda3/lib/python3.9/site-packages/IPython/lib/display.py'>,\n",
       "  'IPython.display': <module 'IPython.display' from '/Users/paighewold/opt/anaconda3/lib/python3.9/site-packages/IPython/display.py'>,\n",
       "  'IPython.utils.capture': <module 'IPython.utils.capture' from '/Users/paighewold/opt/anaconda3/lib/python3.9/site-packages/IPython/utils/capture.py'>,\n",
       "  'IPython.utils.io': <module 'IPython.utils.io' from '/Users/paighewold/opt/anaconda3/lib/python3.9/site-packages/IPython/utils/io.py'>,\n",
       "  'IPython.core.hooks': <module 'IPython.core.hooks' from '/Users/paighewold/opt/anaconda3/lib/python3.9/site-packages/IPython/core/hooks.py'>,\n",
       "  'IPython.utils.strdispatch': <module 'IPython.utils.strdispatch' from '/Users/paighewold/opt/anaconda3/lib/python3.9/site-packages/IPython/utils/strdispatch.py'>,\n",
       "  'IPython.utils.syspathcontext': <module 'IPython.utils.syspathcontext' from '/Users/paighewold/opt/anaconda3/lib/python3.9/site-packages/IPython/utils/syspathcontext.py'>,\n",
       "  'IPython.utils.tempdir': <module 'IPython.utils.tempdir' from '/Users/paighewold/opt/anaconda3/lib/python3.9/site-packages/IPython/utils/tempdir.py'>,\n",
       "  'IPython.utils.contexts': <module 'IPython.utils.contexts' from '/Users/paighewold/opt/anaconda3/lib/python3.9/site-packages/IPython/utils/contexts.py'>,\n",
       "  'IPython.core.async_helpers': <module 'IPython.core.async_helpers' from '/Users/paighewold/opt/anaconda3/lib/python3.9/site-packages/IPython/core/async_helpers.py'>,\n",
       "  'IPython.core.interactiveshell': <module 'IPython.core.interactiveshell' from '/Users/paighewold/opt/anaconda3/lib/python3.9/site-packages/IPython/core/interactiveshell.py'>,\n",
       "  'prompt_toolkit.application.current': <module 'prompt_toolkit.application.current' from '/Users/paighewold/opt/anaconda3/lib/python3.9/site-packages/prompt_toolkit/application/current.py'>,\n",
       "  'prompt_toolkit.eventloop.utils': <module 'prompt_toolkit.eventloop.utils' from '/Users/paighewold/opt/anaconda3/lib/python3.9/site-packages/prompt_toolkit/eventloop/utils.py'>,\n",
       "  'prompt_toolkit.eventloop.async_generator': <module 'prompt_toolkit.eventloop.async_generator' from '/Users/paighewold/opt/anaconda3/lib/python3.9/site-packages/prompt_toolkit/eventloop/async_generator.py'>,\n",
       "  'wcwidth.table_wide': <module 'wcwidth.table_wide' from '/Users/paighewold/opt/anaconda3/lib/python3.9/site-packages/wcwidth/table_wide.py'>,\n",
       "  'wcwidth.table_zero': <module 'wcwidth.table_zero' from '/Users/paighewold/opt/anaconda3/lib/python3.9/site-packages/wcwidth/table_zero.py'>,\n",
       "  'wcwidth.unicode_versions': <module 'wcwidth.unicode_versions' from '/Users/paighewold/opt/anaconda3/lib/python3.9/site-packages/wcwidth/unicode_versions.py'>,\n",
       "  'wcwidth.wcwidth': <module 'wcwidth.wcwidth' from '/Users/paighewold/opt/anaconda3/lib/python3.9/site-packages/wcwidth/wcwidth.py'>,\n",
       "  'wcwidth': <module 'wcwidth' from '/Users/paighewold/opt/anaconda3/lib/python3.9/site-packages/wcwidth/__init__.py'>,\n",
       "  'prompt_toolkit.utils': <module 'prompt_toolkit.utils' from '/Users/paighewold/opt/anaconda3/lib/python3.9/site-packages/prompt_toolkit/utils.py'>,\n",
       "  'prompt_toolkit.eventloop.inputhook': <module 'prompt_toolkit.eventloop.inputhook' from '/Users/paighewold/opt/anaconda3/lib/python3.9/site-packages/prompt_toolkit/eventloop/inputhook.py'>,\n",
       "  'prompt_toolkit.eventloop': <module 'prompt_toolkit.eventloop' from '/Users/paighewold/opt/anaconda3/lib/python3.9/site-packages/prompt_toolkit/eventloop/__init__.py'>,\n",
       "  'prompt_toolkit.application.run_in_terminal': <module 'prompt_toolkit.application.run_in_terminal' from '/Users/paighewold/opt/anaconda3/lib/python3.9/site-packages/prompt_toolkit/application/run_in_terminal.py'>,\n",
       "  'prompt_toolkit.selection': <module 'prompt_toolkit.selection' from '/Users/paighewold/opt/anaconda3/lib/python3.9/site-packages/prompt_toolkit/selection.py'>,\n",
       "  'prompt_toolkit.clipboard.base': <module 'prompt_toolkit.clipboard.base' from '/Users/paighewold/opt/anaconda3/lib/python3.9/site-packages/prompt_toolkit/clipboard/base.py'>,\n",
       "  'prompt_toolkit.clipboard.in_memory': <module 'prompt_toolkit.clipboard.in_memory' from '/Users/paighewold/opt/anaconda3/lib/python3.9/site-packages/prompt_toolkit/clipboard/in_memory.py'>,\n",
       "  'prompt_toolkit.clipboard': <module 'prompt_toolkit.clipboard' from '/Users/paighewold/opt/anaconda3/lib/python3.9/site-packages/prompt_toolkit/clipboard/__init__.py'>,\n",
       "  'prompt_toolkit.cache': <module 'prompt_toolkit.cache' from '/Users/paighewold/opt/anaconda3/lib/python3.9/site-packages/prompt_toolkit/cache.py'>,\n",
       "  'prompt_toolkit.enums': <module 'prompt_toolkit.enums' from '/Users/paighewold/opt/anaconda3/lib/python3.9/site-packages/prompt_toolkit/enums.py'>,\n",
       "  'prompt_toolkit.filters.base': <module 'prompt_toolkit.filters.base' from '/Users/paighewold/opt/anaconda3/lib/python3.9/site-packages/prompt_toolkit/filters/base.py'>,\n",
       "  'prompt_toolkit.filters.app': <module 'prompt_toolkit.filters.app' from '/Users/paighewold/opt/anaconda3/lib/python3.9/site-packages/prompt_toolkit/filters/app.py'>,\n",
       "  'prompt_toolkit.filters.cli': <module 'prompt_toolkit.filters.cli' from '/Users/paighewold/opt/anaconda3/lib/python3.9/site-packages/prompt_toolkit/filters/cli.py'>,\n",
       "  'prompt_toolkit.filters.utils': <module 'prompt_toolkit.filters.utils' from '/Users/paighewold/opt/anaconda3/lib/python3.9/site-packages/prompt_toolkit/filters/utils.py'>,\n",
       "  'prompt_toolkit.filters': <module 'prompt_toolkit.filters' from '/Users/paighewold/opt/anaconda3/lib/python3.9/site-packages/prompt_toolkit/filters/__init__.py'>,\n",
       "  'prompt_toolkit.document': <module 'prompt_toolkit.document' from '/Users/paighewold/opt/anaconda3/lib/python3.9/site-packages/prompt_toolkit/document.py'>,\n",
       "  'prompt_toolkit.auto_suggest': <module 'prompt_toolkit.auto_suggest' from '/Users/paighewold/opt/anaconda3/lib/python3.9/site-packages/prompt_toolkit/auto_suggest.py'>,\n",
       "  'prompt_toolkit.data_structures': <module 'prompt_toolkit.data_structures' from '/Users/paighewold/opt/anaconda3/lib/python3.9/site-packages/prompt_toolkit/data_structures.py'>,\n",
       "  'prompt_toolkit.styles.base': <module 'prompt_toolkit.styles.base' from '/Users/paighewold/opt/anaconda3/lib/python3.9/site-packages/prompt_toolkit/styles/base.py'>,\n",
       "  'prompt_toolkit.styles.named_colors': <module 'prompt_toolkit.styles.named_colors' from '/Users/paighewold/opt/anaconda3/lib/python3.9/site-packages/prompt_toolkit/styles/named_colors.py'>,\n",
       "  'prompt_toolkit.styles.style': <module 'prompt_toolkit.styles.style' from '/Users/paighewold/opt/anaconda3/lib/python3.9/site-packages/prompt_toolkit/styles/style.py'>,\n",
       "  'prompt_toolkit.styles.defaults': <module 'prompt_toolkit.styles.defaults' from '/Users/paighewold/opt/anaconda3/lib/python3.9/site-packages/prompt_toolkit/styles/defaults.py'>,\n",
       "  'prompt_toolkit.styles.pygments': <module 'prompt_toolkit.styles.pygments' from '/Users/paighewold/opt/anaconda3/lib/python3.9/site-packages/prompt_toolkit/styles/pygments.py'>,\n",
       "  'colorsys': <module 'colorsys' from '/Users/paighewold/opt/anaconda3/lib/python3.9/colorsys.py'>,\n",
       "  'prompt_toolkit.styles.style_transformation': <module 'prompt_toolkit.styles.style_transformation' from '/Users/paighewold/opt/anaconda3/lib/python3.9/site-packages/prompt_toolkit/styles/style_transformation.py'>,\n",
       "  'prompt_toolkit.styles': <module 'prompt_toolkit.styles' from '/Users/paighewold/opt/anaconda3/lib/python3.9/site-packages/prompt_toolkit/styles/__init__.py'>,\n",
       "  'prompt_toolkit.output.color_depth': <module 'prompt_toolkit.output.color_depth' from '/Users/paighewold/opt/anaconda3/lib/python3.9/site-packages/prompt_toolkit/output/color_depth.py'>,\n",
       "  'prompt_toolkit.output.base': <module 'prompt_toolkit.output.base' from '/Users/paighewold/opt/anaconda3/lib/python3.9/site-packages/prompt_toolkit/output/base.py'>,\n",
       "  'prompt_toolkit.output.defaults': <module 'prompt_toolkit.output.defaults' from '/Users/paighewold/opt/anaconda3/lib/python3.9/site-packages/prompt_toolkit/output/defaults.py'>,\n",
       "  'prompt_toolkit.output': <module 'prompt_toolkit.output' from '/Users/paighewold/opt/anaconda3/lib/python3.9/site-packages/prompt_toolkit/output/__init__.py'>,\n",
       "  'prompt_toolkit.output.vt100': <module 'prompt_toolkit.output.vt100' from '/Users/paighewold/opt/anaconda3/lib/python3.9/site-packages/prompt_toolkit/output/vt100.py'>,\n",
       "  'prompt_toolkit.mouse_events': <module 'prompt_toolkit.mouse_events' from '/Users/paighewold/opt/anaconda3/lib/python3.9/site-packages/prompt_toolkit/mouse_events.py'>,\n",
       "  'prompt_toolkit.formatted_text.base': <module 'prompt_toolkit.formatted_text.base' from '/Users/paighewold/opt/anaconda3/lib/python3.9/site-packages/prompt_toolkit/formatted_text/base.py'>,\n",
       "  'prompt_toolkit.formatted_text.ansi': <module 'prompt_toolkit.formatted_text.ansi' from '/Users/paighewold/opt/anaconda3/lib/python3.9/site-packages/prompt_toolkit/formatted_text/ansi.py'>,\n",
       "  'xml': <module 'xml' from '/Users/paighewold/opt/anaconda3/lib/python3.9/xml/__init__.py'>,\n",
       "  'xml.dom.domreg': <module 'xml.dom.domreg' from '/Users/paighewold/opt/anaconda3/lib/python3.9/xml/dom/domreg.py'>,\n",
       "  'xml.dom': <module 'xml.dom' from '/Users/paighewold/opt/anaconda3/lib/python3.9/xml/dom/__init__.py'>,\n",
       "  'xml.dom.minicompat': <module 'xml.dom.minicompat' from '/Users/paighewold/opt/anaconda3/lib/python3.9/xml/dom/minicompat.py'>,\n",
       "  'xml.dom.NodeFilter': <module 'xml.dom.NodeFilter' from '/Users/paighewold/opt/anaconda3/lib/python3.9/xml/dom/NodeFilter.py'>,\n",
       "  'xml.dom.xmlbuilder': <module 'xml.dom.xmlbuilder' from '/Users/paighewold/opt/anaconda3/lib/python3.9/xml/dom/xmlbuilder.py'>,\n",
       "  'xml.dom.minidom': <module 'xml.dom.minidom' from '/Users/paighewold/opt/anaconda3/lib/python3.9/xml/dom/minidom.py'>,\n",
       "  'prompt_toolkit.formatted_text.html': <module 'prompt_toolkit.formatted_text.html' from '/Users/paighewold/opt/anaconda3/lib/python3.9/site-packages/prompt_toolkit/formatted_text/html.py'>,\n",
       "  'prompt_toolkit.formatted_text.pygments': <module 'prompt_toolkit.formatted_text.pygments' from '/Users/paighewold/opt/anaconda3/lib/python3.9/site-packages/prompt_toolkit/formatted_text/pygments.py'>,\n",
       "  'prompt_toolkit.formatted_text.utils': <module 'prompt_toolkit.formatted_text.utils' from '/Users/paighewold/opt/anaconda3/lib/python3.9/site-packages/prompt_toolkit/formatted_text/utils.py'>,\n",
       "  'prompt_toolkit.formatted_text': <module 'prompt_toolkit.formatted_text' from '/Users/paighewold/opt/anaconda3/lib/python3.9/site-packages/prompt_toolkit/formatted_text/__init__.py'>,\n",
       "  'prompt_toolkit.completion.base': <module 'prompt_toolkit.completion.base' from '/Users/paighewold/opt/anaconda3/lib/python3.9/site-packages/prompt_toolkit/completion/base.py'>,\n",
       "  'prompt_toolkit.completion.deduplicate': <module 'prompt_toolkit.completion.deduplicate' from '/Users/paighewold/opt/anaconda3/lib/python3.9/site-packages/prompt_toolkit/completion/deduplicate.py'>,\n",
       "  'prompt_toolkit.completion.filesystem': <module 'prompt_toolkit.completion.filesystem' from '/Users/paighewold/opt/anaconda3/lib/python3.9/site-packages/prompt_toolkit/completion/filesystem.py'>,\n",
       "  'prompt_toolkit.completion.word_completer': <module 'prompt_toolkit.completion.word_completer' from '/Users/paighewold/opt/anaconda3/lib/python3.9/site-packages/prompt_toolkit/completion/word_completer.py'>,\n",
       "  'prompt_toolkit.completion.fuzzy_completer': <module 'prompt_toolkit.completion.fuzzy_completer' from '/Users/paighewold/opt/anaconda3/lib/python3.9/site-packages/prompt_toolkit/completion/fuzzy_completer.py'>,\n",
       "  'prompt_toolkit.completion.nested': <module 'prompt_toolkit.completion.nested' from '/Users/paighewold/opt/anaconda3/lib/python3.9/site-packages/prompt_toolkit/completion/nested.py'>,\n",
       "  'prompt_toolkit.completion': <module 'prompt_toolkit.completion' from '/Users/paighewold/opt/anaconda3/lib/python3.9/site-packages/prompt_toolkit/completion/__init__.py'>,\n",
       "  'prompt_toolkit.history': <module 'prompt_toolkit.history' from '/Users/paighewold/opt/anaconda3/lib/python3.9/site-packages/prompt_toolkit/history.py'>,\n",
       "  'prompt_toolkit.keys': <module 'prompt_toolkit.keys' from '/Users/paighewold/opt/anaconda3/lib/python3.9/site-packages/prompt_toolkit/keys.py'>,\n",
       "  'prompt_toolkit.key_binding.key_bindings': <module 'prompt_toolkit.key_binding.key_bindings' from '/Users/paighewold/opt/anaconda3/lib/python3.9/site-packages/prompt_toolkit/key_binding/key_bindings.py'>,\n",
       "  'prompt_toolkit.key_binding.key_processor': <module 'prompt_toolkit.key_binding.key_processor' from '/Users/paighewold/opt/anaconda3/lib/python3.9/site-packages/prompt_toolkit/key_binding/key_processor.py'>,\n",
       "  'prompt_toolkit.key_binding': <module 'prompt_toolkit.key_binding' from '/Users/paighewold/opt/anaconda3/lib/python3.9/site-packages/prompt_toolkit/key_binding/__init__.py'>,\n",
       "  'prompt_toolkit.key_binding.vi_state': <module 'prompt_toolkit.key_binding.vi_state' from '/Users/paighewold/opt/anaconda3/lib/python3.9/site-packages/prompt_toolkit/key_binding/vi_state.py'>,\n",
       "  'prompt_toolkit.search': <module 'prompt_toolkit.search' from '/Users/paighewold/opt/anaconda3/lib/python3.9/site-packages/prompt_toolkit/search.py'>,\n",
       "  'prompt_toolkit.validation': <module 'prompt_toolkit.validation' from '/Users/paighewold/opt/anaconda3/lib/python3.9/site-packages/prompt_toolkit/validation.py'>,\n",
       "  'prompt_toolkit.buffer': <module 'prompt_toolkit.buffer' from '/Users/paighewold/opt/anaconda3/lib/python3.9/site-packages/prompt_toolkit/buffer.py'>,\n",
       "  'prompt_toolkit.input.base': <module 'prompt_toolkit.input.base' from '/Users/paighewold/opt/anaconda3/lib/python3.9/site-packages/prompt_toolkit/input/base.py'>,\n",
       "  'prompt_toolkit.input.defaults': <module 'prompt_toolkit.input.defaults' from '/Users/paighewold/opt/anaconda3/lib/python3.9/site-packages/prompt_toolkit/input/defaults.py'>,\n",
       "  'prompt_toolkit.input': <module 'prompt_toolkit.input' from '/Users/paighewold/opt/anaconda3/lib/python3.9/site-packages/prompt_toolkit/input/__init__.py'>,\n",
       "  'prompt_toolkit.input.typeahead': <module 'prompt_toolkit.input.typeahead' from '/Users/paighewold/opt/anaconda3/lib/python3.9/site-packages/prompt_toolkit/input/typeahead.py'>,\n",
       "  'prompt_toolkit.key_binding.bindings': <module 'prompt_toolkit.key_binding.bindings' from '/Users/paighewold/opt/anaconda3/lib/python3.9/site-packages/prompt_toolkit/key_binding/bindings/__init__.py'>,\n",
       "  'prompt_toolkit.key_binding.bindings.scroll': <module 'prompt_toolkit.key_binding.bindings.scroll' from '/Users/paighewold/opt/anaconda3/lib/python3.9/site-packages/prompt_toolkit/key_binding/bindings/scroll.py'>,\n",
       "  'prompt_toolkit.key_binding.bindings.page_navigation': <module 'prompt_toolkit.key_binding.bindings.page_navigation' from '/Users/paighewold/opt/anaconda3/lib/python3.9/site-packages/prompt_toolkit/key_binding/bindings/page_navigation.py'>,\n",
       "  'prompt_toolkit.lexers.base': <module 'prompt_toolkit.lexers.base' from '/Users/paighewold/opt/anaconda3/lib/python3.9/site-packages/prompt_toolkit/lexers/base.py'>,\n",
       "  'prompt_toolkit.lexers.pygments': <module 'prompt_toolkit.lexers.pygments' from '/Users/paighewold/opt/anaconda3/lib/python3.9/site-packages/prompt_toolkit/lexers/pygments.py'>,\n",
       "  'prompt_toolkit.lexers': <module 'prompt_toolkit.lexers' from '/Users/paighewold/opt/anaconda3/lib/python3.9/site-packages/prompt_toolkit/lexers/__init__.py'>,\n",
       "  'prompt_toolkit.layout.utils': <module 'prompt_toolkit.layout.utils' from '/Users/paighewold/opt/anaconda3/lib/python3.9/site-packages/prompt_toolkit/layout/utils.py'>,\n",
       "  'prompt_toolkit.layout.processors': <module 'prompt_toolkit.layout.processors' from '/Users/paighewold/opt/anaconda3/lib/python3.9/site-packages/prompt_toolkit/layout/processors.py'>,\n",
       "  'prompt_toolkit.layout.controls': <module 'prompt_toolkit.layout.controls' from '/Users/paighewold/opt/anaconda3/lib/python3.9/site-packages/prompt_toolkit/layout/controls.py'>,\n",
       "  'prompt_toolkit.layout.dimension': <module 'prompt_toolkit.layout.dimension' from '/Users/paighewold/opt/anaconda3/lib/python3.9/site-packages/prompt_toolkit/layout/dimension.py'>,\n",
       "  'prompt_toolkit.layout.margins': <module 'prompt_toolkit.layout.margins' from '/Users/paighewold/opt/anaconda3/lib/python3.9/site-packages/prompt_toolkit/layout/margins.py'>,\n",
       "  'prompt_toolkit.layout.mouse_handlers': <module 'prompt_toolkit.layout.mouse_handlers' from '/Users/paighewold/opt/anaconda3/lib/python3.9/site-packages/prompt_toolkit/layout/mouse_handlers.py'>,\n",
       "  'prompt_toolkit.layout.screen': <module 'prompt_toolkit.layout.screen' from '/Users/paighewold/opt/anaconda3/lib/python3.9/site-packages/prompt_toolkit/layout/screen.py'>,\n",
       "  'prompt_toolkit.layout.containers': <module 'prompt_toolkit.layout.containers' from '/Users/paighewold/opt/anaconda3/lib/python3.9/site-packages/prompt_toolkit/layout/containers.py'>,\n",
       "  'prompt_toolkit.layout.layout': <module 'prompt_toolkit.layout.layout' from '/Users/paighewold/opt/anaconda3/lib/python3.9/site-packages/prompt_toolkit/layout/layout.py'>,\n",
       "  'prompt_toolkit.layout.menus': <module 'prompt_toolkit.layout.menus' from '/Users/paighewold/opt/anaconda3/lib/python3.9/site-packages/prompt_toolkit/layout/menus.py'>,\n",
       "  'prompt_toolkit.layout.scrollable_pane': <module 'prompt_toolkit.layout.scrollable_pane' from '/Users/paighewold/opt/anaconda3/lib/python3.9/site-packages/prompt_toolkit/layout/scrollable_pane.py'>,\n",
       "  'prompt_toolkit.layout': <module 'prompt_toolkit.layout' from '/Users/paighewold/opt/anaconda3/lib/python3.9/site-packages/prompt_toolkit/layout/__init__.py'>,\n",
       "  'prompt_toolkit.key_binding.bindings.completion': <module 'prompt_toolkit.key_binding.bindings.completion' from '/Users/paighewold/opt/anaconda3/lib/python3.9/site-packages/prompt_toolkit/key_binding/bindings/completion.py'>,\n",
       "  'prompt_toolkit.key_binding.bindings.named_commands': <module 'prompt_toolkit.key_binding.bindings.named_commands' from '/Users/paighewold/opt/anaconda3/lib/python3.9/site-packages/prompt_toolkit/key_binding/bindings/named_commands.py'>,\n",
       "  'prompt_toolkit.key_binding.bindings.basic': <module 'prompt_toolkit.key_binding.bindings.basic' from '/Users/paighewold/opt/anaconda3/lib/python3.9/site-packages/prompt_toolkit/key_binding/bindings/basic.py'>,\n",
       "  'prompt_toolkit.key_binding.bindings.cpr': <module 'prompt_toolkit.key_binding.bindings.cpr' from '/Users/paighewold/opt/anaconda3/lib/python3.9/site-packages/prompt_toolkit/key_binding/bindings/cpr.py'>,\n",
       "  'prompt_toolkit.key_binding.bindings.emacs': <module 'prompt_toolkit.key_binding.bindings.emacs' from '/Users/paighewold/opt/anaconda3/lib/python3.9/site-packages/prompt_toolkit/key_binding/bindings/emacs.py'>,\n",
       "  'prompt_toolkit.key_binding.bindings.mouse': <module 'prompt_toolkit.key_binding.bindings.mouse' from '/Users/paighewold/opt/anaconda3/lib/python3.9/site-packages/prompt_toolkit/key_binding/bindings/mouse.py'>,\n",
       "  'prompt_toolkit.input.ansi_escape_sequences': <module 'prompt_toolkit.input.ansi_escape_sequences' from '/Users/paighewold/opt/anaconda3/lib/python3.9/site-packages/prompt_toolkit/input/ansi_escape_sequences.py'>,\n",
       "  'prompt_toolkit.input.vt100_parser': <module 'prompt_toolkit.input.vt100_parser' from '/Users/paighewold/opt/anaconda3/lib/python3.9/site-packages/prompt_toolkit/input/vt100_parser.py'>,\n",
       "  'prompt_toolkit.key_binding.digraphs': <module 'prompt_toolkit.key_binding.digraphs' from '/Users/paighewold/opt/anaconda3/lib/python3.9/site-packages/prompt_toolkit/key_binding/digraphs.py'>,\n",
       "  'prompt_toolkit.key_binding.bindings.vi': <module 'prompt_toolkit.key_binding.bindings.vi' from '/Users/paighewold/opt/anaconda3/lib/python3.9/site-packages/prompt_toolkit/key_binding/bindings/vi.py'>,\n",
       "  'prompt_toolkit.key_binding.defaults': <module 'prompt_toolkit.key_binding.defaults' from '/Users/paighewold/opt/anaconda3/lib/python3.9/site-packages/prompt_toolkit/key_binding/defaults.py'>,\n",
       "  'prompt_toolkit.key_binding.emacs_state': <module 'prompt_toolkit.key_binding.emacs_state' from '/Users/paighewold/opt/anaconda3/lib/python3.9/site-packages/prompt_toolkit/key_binding/emacs_state.py'>,\n",
       "  'prompt_toolkit.layout.dummy': <module 'prompt_toolkit.layout.dummy' from '/Users/paighewold/opt/anaconda3/lib/python3.9/site-packages/prompt_toolkit/layout/dummy.py'>,\n",
       "  'prompt_toolkit.renderer': <module 'prompt_toolkit.renderer' from '/Users/paighewold/opt/anaconda3/lib/python3.9/site-packages/prompt_toolkit/renderer.py'>,\n",
       "  'prompt_toolkit.application.application': <module 'prompt_toolkit.application.application' from '/Users/paighewold/opt/anaconda3/lib/python3.9/site-packages/prompt_toolkit/application/application.py'>,\n",
       "  'prompt_toolkit.application.dummy': <module 'prompt_toolkit.application.dummy' from '/Users/paighewold/opt/anaconda3/lib/python3.9/site-packages/prompt_toolkit/application/dummy.py'>,\n",
       "  'prompt_toolkit.application': <module 'prompt_toolkit.application' from '/Users/paighewold/opt/anaconda3/lib/python3.9/site-packages/prompt_toolkit/application/__init__.py'>,\n",
       "  'prompt_toolkit.key_binding.bindings.focus': <module 'prompt_toolkit.key_binding.bindings.focus' from '/Users/paighewold/opt/anaconda3/lib/python3.9/site-packages/prompt_toolkit/key_binding/bindings/focus.py'>,\n",
       "  'prompt_toolkit.widgets.toolbars': <module 'prompt_toolkit.widgets.toolbars' from '/Users/paighewold/opt/anaconda3/lib/python3.9/site-packages/prompt_toolkit/widgets/toolbars.py'>,\n",
       "  'prompt_toolkit.widgets.base': <module 'prompt_toolkit.widgets.base' from '/Users/paighewold/opt/anaconda3/lib/python3.9/site-packages/prompt_toolkit/widgets/base.py'>,\n",
       "  'prompt_toolkit.widgets.dialogs': <module 'prompt_toolkit.widgets.dialogs' from '/Users/paighewold/opt/anaconda3/lib/python3.9/site-packages/prompt_toolkit/widgets/dialogs.py'>,\n",
       "  'prompt_toolkit.widgets.menus': <module 'prompt_toolkit.widgets.menus' from '/Users/paighewold/opt/anaconda3/lib/python3.9/site-packages/prompt_toolkit/widgets/menus.py'>,\n",
       "  'prompt_toolkit.widgets': <module 'prompt_toolkit.widgets' from '/Users/paighewold/opt/anaconda3/lib/python3.9/site-packages/prompt_toolkit/widgets/__init__.py'>,\n",
       "  'prompt_toolkit.shortcuts.dialogs': <module 'prompt_toolkit.shortcuts.dialogs' from '/Users/paighewold/opt/anaconda3/lib/python3.9/site-packages/prompt_toolkit/shortcuts/dialogs.py'>,\n",
       "  'prompt_toolkit.shortcuts.progress_bar.formatters': <module 'prompt_toolkit.shortcuts.progress_bar.formatters' from '/Users/paighewold/opt/anaconda3/lib/python3.9/site-packages/prompt_toolkit/shortcuts/progress_bar/formatters.py'>,\n",
       "  'prompt_toolkit.shortcuts.progress_bar.base': <module 'prompt_toolkit.shortcuts.progress_bar.base' from '/Users/paighewold/opt/anaconda3/lib/python3.9/site-packages/prompt_toolkit/shortcuts/progress_bar/base.py'>,\n",
       "  'prompt_toolkit.shortcuts.progress_bar': <module 'prompt_toolkit.shortcuts.progress_bar' from '/Users/paighewold/opt/anaconda3/lib/python3.9/site-packages/prompt_toolkit/shortcuts/progress_bar/__init__.py'>,\n",
       "  'prompt_toolkit.key_binding.bindings.auto_suggest': <module 'prompt_toolkit.key_binding.bindings.auto_suggest' from '/Users/paighewold/opt/anaconda3/lib/python3.9/site-packages/prompt_toolkit/key_binding/bindings/auto_suggest.py'>,\n",
       "  'prompt_toolkit.key_binding.bindings.open_in_editor': <module 'prompt_toolkit.key_binding.bindings.open_in_editor' from '/Users/paighewold/opt/anaconda3/lib/python3.9/site-packages/prompt_toolkit/key_binding/bindings/open_in_editor.py'>,\n",
       "  'prompt_toolkit.shortcuts.prompt': <module 'prompt_toolkit.shortcuts.prompt' from '/Users/paighewold/opt/anaconda3/lib/python3.9/site-packages/prompt_toolkit/shortcuts/prompt.py'>,\n",
       "  'prompt_toolkit.shortcuts.utils': <module 'prompt_toolkit.shortcuts.utils' from '/Users/paighewold/opt/anaconda3/lib/python3.9/site-packages/prompt_toolkit/shortcuts/utils.py'>,\n",
       "  'prompt_toolkit.shortcuts': <module 'prompt_toolkit.shortcuts' from '/Users/paighewold/opt/anaconda3/lib/python3.9/site-packages/prompt_toolkit/shortcuts/__init__.py'>,\n",
       "  'prompt_toolkit': <module 'prompt_toolkit' from '/Users/paighewold/opt/anaconda3/lib/python3.9/site-packages/prompt_toolkit/__init__.py'>,\n",
       "  'prompt_toolkit.patch_stdout': <module 'prompt_toolkit.patch_stdout' from '/Users/paighewold/opt/anaconda3/lib/python3.9/site-packages/prompt_toolkit/patch_stdout.py'>,\n",
       "  'pygments.style': <module 'pygments.style' from '/Users/paighewold/opt/anaconda3/lib/python3.9/site-packages/pygments/style.py'>,\n",
       "  'unicodedata': <module 'unicodedata' from '/Users/paighewold/opt/anaconda3/lib/python3.9/lib-dynload/unicodedata.cpython-39-darwin.so'>,\n",
       "  'IPython.core.latex_symbols': <module 'IPython.core.latex_symbols' from '/Users/paighewold/opt/anaconda3/lib/python3.9/site-packages/IPython/core/latex_symbols.py'>,\n",
       "  'IPython.utils.generics': <module 'IPython.utils.generics' from '/Users/paighewold/opt/anaconda3/lib/python3.9/site-packages/IPython/utils/generics.py'>,\n",
       "  'parso.utils': <module 'parso.utils' from '/Users/paighewold/opt/anaconda3/lib/python3.9/site-packages/parso/utils.py'>,\n",
       "  'parso.tree': <module 'parso.tree' from '/Users/paighewold/opt/anaconda3/lib/python3.9/site-packages/parso/tree.py'>,\n",
       "  'parso.python': <module 'parso.python' from '/Users/paighewold/opt/anaconda3/lib/python3.9/site-packages/parso/python/__init__.py'>,\n",
       "  'parso.python.token': <module 'parso.python.token' from '/Users/paighewold/opt/anaconda3/lib/python3.9/site-packages/parso/python/token.py'>,\n",
       "  'parso.python.tokenize': <module 'parso.python.tokenize' from '/Users/paighewold/opt/anaconda3/lib/python3.9/site-packages/parso/python/tokenize.py'>,\n",
       "  'parso.pgen2.grammar_parser': <module 'parso.pgen2.grammar_parser' from '/Users/paighewold/opt/anaconda3/lib/python3.9/site-packages/parso/pgen2/grammar_parser.py'>,\n",
       "  'parso.pgen2.generator': <module 'parso.pgen2.generator' from '/Users/paighewold/opt/anaconda3/lib/python3.9/site-packages/parso/pgen2/generator.py'>,\n",
       "  'parso.pgen2': <module 'parso.pgen2' from '/Users/paighewold/opt/anaconda3/lib/python3.9/site-packages/parso/pgen2/__init__.py'>,\n",
       "  'parso.parser': <module 'parso.parser' from '/Users/paighewold/opt/anaconda3/lib/python3.9/site-packages/parso/parser.py'>,\n",
       "  'parso._compatibility': <module 'parso._compatibility' from '/Users/paighewold/opt/anaconda3/lib/python3.9/site-packages/parso/_compatibility.py'>,\n",
       "  'difflib': <module 'difflib' from '/Users/paighewold/opt/anaconda3/lib/python3.9/difflib.py'>,\n",
       "  'parso.python.prefix': <module 'parso.python.prefix' from '/Users/paighewold/opt/anaconda3/lib/python3.9/site-packages/parso/python/prefix.py'>,\n",
       "  'parso.python.tree': <module 'parso.python.tree' from '/Users/paighewold/opt/anaconda3/lib/python3.9/site-packages/parso/python/tree.py'>,\n",
       "  'parso.python.parser': <module 'parso.python.parser' from '/Users/paighewold/opt/anaconda3/lib/python3.9/site-packages/parso/python/parser.py'>,\n",
       "  'parso.python.diff': <module 'parso.python.diff' from '/Users/paighewold/opt/anaconda3/lib/python3.9/site-packages/parso/python/diff.py'>,\n",
       "  'gc': <module 'gc' (built-in)>,\n",
       "  'parso.cache': <module 'parso.cache' from '/Users/paighewold/opt/anaconda3/lib/python3.9/site-packages/parso/cache.py'>,\n",
       "  'parso.normalizer': <module 'parso.normalizer' from '/Users/paighewold/opt/anaconda3/lib/python3.9/site-packages/parso/normalizer.py'>,\n",
       "  'parso.python.errors': <module 'parso.python.errors' from '/Users/paighewold/opt/anaconda3/lib/python3.9/site-packages/parso/python/errors.py'>,\n",
       "  'parso.python.pep8': <module 'parso.python.pep8' from '/Users/paighewold/opt/anaconda3/lib/python3.9/site-packages/parso/python/pep8.py'>,\n",
       "  'parso.file_io': <module 'parso.file_io' from '/Users/paighewold/opt/anaconda3/lib/python3.9/site-packages/parso/file_io.py'>,\n",
       "  'parso.grammar': <module 'parso.grammar' from '/Users/paighewold/opt/anaconda3/lib/python3.9/site-packages/parso/grammar.py'>,\n",
       "  'parso': <module 'parso' from '/Users/paighewold/opt/anaconda3/lib/python3.9/site-packages/parso/__init__.py'>,\n",
       "  'jedi._compatibility': <module 'jedi._compatibility' from '/Users/paighewold/opt/anaconda3/lib/python3.9/site-packages/jedi/_compatibility.py'>,\n",
       "  'jedi.parser_utils': <module 'jedi.parser_utils' from '/Users/paighewold/opt/anaconda3/lib/python3.9/site-packages/jedi/parser_utils.py'>,\n",
       "  'jedi.debug': <module 'jedi.debug' from '/Users/paighewold/opt/anaconda3/lib/python3.9/site-packages/jedi/debug.py'>,\n",
       "  'jedi.settings': <module 'jedi.settings' from '/Users/paighewold/opt/anaconda3/lib/python3.9/site-packages/jedi/settings.py'>,\n",
       "  'jedi.cache': <module 'jedi.cache' from '/Users/paighewold/opt/anaconda3/lib/python3.9/site-packages/jedi/cache.py'>,\n",
       "  'jedi.file_io': <module 'jedi.file_io' from '/Users/paighewold/opt/anaconda3/lib/python3.9/site-packages/jedi/file_io.py'>,\n",
       "  'jedi.inference.cache': <module 'jedi.inference.cache' from '/Users/paighewold/opt/anaconda3/lib/python3.9/site-packages/jedi/inference/cache.py'>,\n",
       "  'jedi.inference.helpers': <module 'jedi.inference.helpers' from '/Users/paighewold/opt/anaconda3/lib/python3.9/site-packages/jedi/inference/helpers.py'>,\n",
       "  'jedi.inference.utils': <module 'jedi.inference.utils' from '/Users/paighewold/opt/anaconda3/lib/python3.9/site-packages/jedi/inference/utils.py'>,\n",
       "  'jedi.inference.base_value': <module 'jedi.inference.base_value' from '/Users/paighewold/opt/anaconda3/lib/python3.9/site-packages/jedi/inference/base_value.py'>,\n",
       "  'jedi.inference.sys_path': <module 'jedi.inference.sys_path' from '/Users/paighewold/opt/anaconda3/lib/python3.9/site-packages/jedi/inference/sys_path.py'>,\n",
       "  'jedi.inference.recursion': <module 'jedi.inference.recursion' from '/Users/paighewold/opt/anaconda3/lib/python3.9/site-packages/jedi/inference/recursion.py'>,\n",
       "  'jedi.inference.flow_analysis': <module 'jedi.inference.flow_analysis' from '/Users/paighewold/opt/anaconda3/lib/python3.9/site-packages/jedi/inference/flow_analysis.py'>,\n",
       "  'jedi.common': <module 'jedi.common' from '/Users/paighewold/opt/anaconda3/lib/python3.9/site-packages/jedi/common.py'>,\n",
       "  'jedi.inference.lazy_value': <module 'jedi.inference.lazy_value' from '/Users/paighewold/opt/anaconda3/lib/python3.9/site-packages/jedi/inference/lazy_value.py'>,\n",
       "  'jedi.inference.docstrings': <module 'jedi.inference.docstrings' from '/Users/paighewold/opt/anaconda3/lib/python3.9/site-packages/jedi/inference/docstrings.py'>,\n",
       "  'jedi.plugins': <module 'jedi.plugins' from '/Users/paighewold/opt/anaconda3/lib/python3.9/site-packages/jedi/plugins/__init__.py'>,\n",
       "  'jedi.inference.names': <module 'jedi.inference.names' from '/Users/paighewold/opt/anaconda3/lib/python3.9/site-packages/jedi/inference/names.py'>,\n",
       "  'jedi.inference.filters': <module 'jedi.inference.filters' from '/Users/paighewold/opt/anaconda3/lib/python3.9/site-packages/jedi/inference/filters.py'>,\n",
       "  'jedi.inference.compiled.getattr_static': <module 'jedi.inference.compiled.getattr_static' from '/Users/paighewold/opt/anaconda3/lib/python3.9/site-packages/jedi/inference/compiled/getattr_static.py'>,\n",
       "  'jedi.inference.compiled.access': <module 'jedi.inference.compiled.access' from '/Users/paighewold/opt/anaconda3/lib/python3.9/site-packages/jedi/inference/compiled/access.py'>,\n",
       "  'jedi.inference.signature': <module 'jedi.inference.signature' from '/Users/paighewold/opt/anaconda3/lib/python3.9/site-packages/jedi/inference/signature.py'>,\n",
       "  'jedi.inference.context': <module 'jedi.inference.context' from '/Users/paighewold/opt/anaconda3/lib/python3.9/site-packages/jedi/inference/context.py'>,\n",
       "  'jedi.inference.compiled.value': <module 'jedi.inference.compiled.value' from '/Users/paighewold/opt/anaconda3/lib/python3.9/site-packages/jedi/inference/compiled/value.py'>,\n",
       "  'jedi.inference.compiled': <module 'jedi.inference.compiled' from '/Users/paighewold/opt/anaconda3/lib/python3.9/site-packages/jedi/inference/compiled/__init__.py'>,\n",
       "  'jedi.inference.analysis': <module 'jedi.inference.analysis' from '/Users/paighewold/opt/anaconda3/lib/python3.9/site-packages/jedi/inference/analysis.py'>,\n",
       "  'jedi.inference.gradual': <module 'jedi.inference.gradual' from '/Users/paighewold/opt/anaconda3/lib/python3.9/site-packages/jedi/inference/gradual/__init__.py'>,\n",
       "  'jedi.inference.value.module': <module 'jedi.inference.value.module' from '/Users/paighewold/opt/anaconda3/lib/python3.9/site-packages/jedi/inference/value/module.py'>,\n",
       "  'jedi.inference.value.dynamic_arrays': <module 'jedi.inference.value.dynamic_arrays' from '/Users/paighewold/opt/anaconda3/lib/python3.9/site-packages/jedi/inference/value/dynamic_arrays.py'>,\n",
       "  'jedi.inference.value.iterable': <module 'jedi.inference.value.iterable' from '/Users/paighewold/opt/anaconda3/lib/python3.9/site-packages/jedi/inference/value/iterable.py'>,\n",
       "  'jedi.inference.arguments': <module 'jedi.inference.arguments' from '/Users/paighewold/opt/anaconda3/lib/python3.9/site-packages/jedi/inference/arguments.py'>,\n",
       "  'jedi.inference.parser_cache': <module 'jedi.inference.parser_cache' from '/Users/paighewold/opt/anaconda3/lib/python3.9/site-packages/jedi/inference/parser_cache.py'>,\n",
       "  'jedi.inference.gradual.generics': <module 'jedi.inference.gradual.generics' from '/Users/paighewold/opt/anaconda3/lib/python3.9/site-packages/jedi/inference/gradual/generics.py'>,\n",
       "  'jedi.inference.value.function': <module 'jedi.inference.value.function' from '/Users/paighewold/opt/anaconda3/lib/python3.9/site-packages/jedi/inference/value/function.py'>,\n",
       "  'jedi.inference.value.klass': <module 'jedi.inference.value.klass' from '/Users/paighewold/opt/anaconda3/lib/python3.9/site-packages/jedi/inference/value/klass.py'>,\n",
       "  'jedi.inference.value.instance': <module 'jedi.inference.value.instance' from '/Users/paighewold/opt/anaconda3/lib/python3.9/site-packages/jedi/inference/value/instance.py'>,\n",
       "  'jedi.inference.value': <module 'jedi.inference.value' from '/Users/paighewold/opt/anaconda3/lib/python3.9/site-packages/jedi/inference/value/__init__.py'>,\n",
       "  'jedi.inference.gradual.base': <module 'jedi.inference.gradual.base' from '/Users/paighewold/opt/anaconda3/lib/python3.9/site-packages/jedi/inference/gradual/base.py'>,\n",
       "  'jedi.inference.gradual.type_var': <module 'jedi.inference.gradual.type_var' from '/Users/paighewold/opt/anaconda3/lib/python3.9/site-packages/jedi/inference/gradual/type_var.py'>,\n",
       "  'jedi.inference.gradual.typing': <module 'jedi.inference.gradual.typing' from '/Users/paighewold/opt/anaconda3/lib/python3.9/site-packages/jedi/inference/gradual/typing.py'>,\n",
       "  'jedi.inference.gradual.stub_value': <module 'jedi.inference.gradual.stub_value' from '/Users/paighewold/opt/anaconda3/lib/python3.9/site-packages/jedi/inference/gradual/stub_value.py'>,\n",
       "  'jedi.inference.gradual.typeshed': <module 'jedi.inference.gradual.typeshed' from '/Users/paighewold/opt/anaconda3/lib/python3.9/site-packages/jedi/inference/gradual/typeshed.py'>,\n",
       "  'jedi.inference.compiled.subprocess.functions': <module 'jedi.inference.compiled.subprocess.functions' from '/Users/paighewold/opt/anaconda3/lib/python3.9/site-packages/jedi/inference/compiled/subprocess/functions.py'>,\n",
       "  'jedi.api.exceptions': <module 'jedi.api.exceptions' from '/Users/paighewold/opt/anaconda3/lib/python3.9/site-packages/jedi/api/exceptions.py'>,\n",
       "  'jedi.inference.compiled.subprocess': <module 'jedi.inference.compiled.subprocess' from '/Users/paighewold/opt/anaconda3/lib/python3.9/site-packages/jedi/inference/compiled/subprocess/__init__.py'>,\n",
       "  'jedi.inference.imports': <module 'jedi.inference.imports' from '/Users/paighewold/opt/anaconda3/lib/python3.9/site-packages/jedi/inference/imports.py'>,\n",
       "  'jedi.inference.param': <module 'jedi.inference.param' from '/Users/paighewold/opt/anaconda3/lib/python3.9/site-packages/jedi/inference/param.py'>,\n",
       "  'jedi.inference.gradual.annotation': <module 'jedi.inference.gradual.annotation' from '/Users/paighewold/opt/anaconda3/lib/python3.9/site-packages/jedi/inference/gradual/annotation.py'>,\n",
       "  'jedi.inference.value.decorator': <module 'jedi.inference.value.decorator' from '/Users/paighewold/opt/anaconda3/lib/python3.9/site-packages/jedi/inference/value/decorator.py'>,\n",
       "  'jedi.inference.syntax_tree': <module 'jedi.inference.syntax_tree' from '/Users/paighewold/opt/anaconda3/lib/python3.9/site-packages/jedi/inference/syntax_tree.py'>,\n",
       "  'jedi.inference': <module 'jedi.inference' from '/Users/paighewold/opt/anaconda3/lib/python3.9/site-packages/jedi/inference/__init__.py'>,\n",
       "  'jedi.inference.gradual.conversion': <module 'jedi.inference.gradual.conversion' from '/Users/paighewold/opt/anaconda3/lib/python3.9/site-packages/jedi/inference/gradual/conversion.py'>,\n",
       "  'jedi.inference.compiled.mixed': <module 'jedi.inference.compiled.mixed' from '/Users/paighewold/opt/anaconda3/lib/python3.9/site-packages/jedi/inference/compiled/mixed.py'>,\n",
       "  'pydoc_data': <module 'pydoc_data' from '/Users/paighewold/opt/anaconda3/lib/python3.9/pydoc_data/__init__.py'>,\n",
       "  'pydoc_data.topics': <module 'pydoc_data.topics' from '/Users/paighewold/opt/anaconda3/lib/python3.9/pydoc_data/topics.py'>,\n",
       "  'jedi.api.keywords': <module 'jedi.api.keywords' from '/Users/paighewold/opt/anaconda3/lib/python3.9/site-packages/jedi/api/keywords.py'>,\n",
       "  'jedi.api.completion_cache': <module 'jedi.api.completion_cache' from '/Users/paighewold/opt/anaconda3/lib/python3.9/site-packages/jedi/api/completion_cache.py'>,\n",
       "  'jedi.api.helpers': <module 'jedi.api.helpers' from '/Users/paighewold/opt/anaconda3/lib/python3.9/site-packages/jedi/api/helpers.py'>,\n",
       "  'jedi.api.classes': <module 'jedi.api.classes' from '/Users/paighewold/opt/anaconda3/lib/python3.9/site-packages/jedi/api/classes.py'>,\n",
       "  'jedi.api.interpreter': <module 'jedi.api.interpreter' from '/Users/paighewold/opt/anaconda3/lib/python3.9/site-packages/jedi/api/interpreter.py'>,\n",
       "  'jedi.api.strings': <module 'jedi.api.strings' from '/Users/paighewold/opt/anaconda3/lib/python3.9/site-packages/jedi/api/strings.py'>,\n",
       "  'jedi.api.file_name': <module 'jedi.api.file_name' from '/Users/paighewold/opt/anaconda3/lib/python3.9/site-packages/jedi/api/file_name.py'>,\n",
       "  'jedi.api.completion': <module 'jedi.api.completion' from '/Users/paighewold/opt/anaconda3/lib/python3.9/site-packages/jedi/api/completion.py'>,\n",
       "  'filecmp': <module 'filecmp' from '/Users/paighewold/opt/anaconda3/lib/python3.9/filecmp.py'>,\n",
       "  'jedi.api.environment': <module 'jedi.api.environment' from '/Users/paighewold/opt/anaconda3/lib/python3.9/site-packages/jedi/api/environment.py'>,\n",
       "  'jedi.inference.references': <module 'jedi.inference.references' from '/Users/paighewold/opt/anaconda3/lib/python3.9/site-packages/jedi/inference/references.py'>,\n",
       "  'jedi.api.project': <module 'jedi.api.project' from '/Users/paighewold/opt/anaconda3/lib/python3.9/site-packages/jedi/api/project.py'>,\n",
       "  'jedi.api.errors': <module 'jedi.api.errors' from '/Users/paighewold/opt/anaconda3/lib/python3.9/site-packages/jedi/api/errors.py'>,\n",
       "  'jedi.api.refactoring': <module 'jedi.api.refactoring' from '/Users/paighewold/opt/anaconda3/lib/python3.9/site-packages/jedi/api/refactoring/__init__.py'>,\n",
       "  'jedi.api.refactoring.extract': <module 'jedi.api.refactoring.extract' from '/Users/paighewold/opt/anaconda3/lib/python3.9/site-packages/jedi/api/refactoring/extract.py'>,\n",
       "  'jedi.inference.gradual.utils': <module 'jedi.inference.gradual.utils' from '/Users/paighewold/opt/anaconda3/lib/python3.9/site-packages/jedi/inference/gradual/utils.py'>,\n",
       "  'jedi.api': <module 'jedi.api' from '/Users/paighewold/opt/anaconda3/lib/python3.9/site-packages/jedi/api/__init__.py'>,\n",
       "  'jedi.plugins.stdlib': <module 'jedi.plugins.stdlib' from '/Users/paighewold/opt/anaconda3/lib/python3.9/site-packages/jedi/plugins/stdlib.py'>,\n",
       "  'jedi.plugins.flask': <module 'jedi.plugins.flask' from '/Users/paighewold/opt/anaconda3/lib/python3.9/site-packages/jedi/plugins/flask.py'>,\n",
       "  'jedi.plugins.pytest': <module 'jedi.plugins.pytest' from '/Users/paighewold/opt/anaconda3/lib/python3.9/site-packages/jedi/plugins/pytest.py'>,\n",
       "  'jedi.plugins.django': <module 'jedi.plugins.django' from '/Users/paighewold/opt/anaconda3/lib/python3.9/site-packages/jedi/plugins/django.py'>,\n",
       "  'jedi.plugins.registry': <module 'jedi.plugins.registry' from '/Users/paighewold/opt/anaconda3/lib/python3.9/site-packages/jedi/plugins/registry.py'>,\n",
       "  'jedi': <module 'jedi' from '/Users/paighewold/opt/anaconda3/lib/python3.9/site-packages/jedi/__init__.py'>,\n",
       "  'IPython.core.completer': <module 'IPython.core.completer' from '/Users/paighewold/opt/anaconda3/lib/python3.9/site-packages/IPython/core/completer.py'>,\n",
       "  'IPython.terminal.ptutils': <module 'IPython.terminal.ptutils' from '/Users/paighewold/opt/anaconda3/lib/python3.9/site-packages/IPython/terminal/ptutils.py'>,\n",
       "  'IPython.terminal.shortcuts': <module 'IPython.terminal.shortcuts' from '/Users/paighewold/opt/anaconda3/lib/python3.9/site-packages/IPython/terminal/shortcuts.py'>,\n",
       "  'IPython.terminal.debugger': <module 'IPython.terminal.debugger' from '/Users/paighewold/opt/anaconda3/lib/python3.9/site-packages/IPython/terminal/debugger.py'>,\n",
       "  'IPython.lib.clipboard': <module 'IPython.lib.clipboard' from '/Users/paighewold/opt/anaconda3/lib/python3.9/site-packages/IPython/lib/clipboard.py'>,\n",
       "  'IPython.terminal.magics': <module 'IPython.terminal.magics' from '/Users/paighewold/opt/anaconda3/lib/python3.9/site-packages/IPython/terminal/magics.py'>,\n",
       "  'IPython.terminal.pt_inputhooks': <module 'IPython.terminal.pt_inputhooks' from '/Users/paighewold/opt/anaconda3/lib/python3.9/site-packages/IPython/terminal/pt_inputhooks/__init__.py'>,\n",
       "  'IPython.terminal.prompts': <module 'IPython.terminal.prompts' from '/Users/paighewold/opt/anaconda3/lib/python3.9/site-packages/IPython/terminal/prompts.py'>,\n",
       "  'IPython.terminal.interactiveshell': <module 'IPython.terminal.interactiveshell' from '/Users/paighewold/opt/anaconda3/lib/python3.9/site-packages/IPython/terminal/interactiveshell.py'>,\n",
       "  'IPython.core.magics.auto': <module 'IPython.core.magics.auto' from '/Users/paighewold/opt/anaconda3/lib/python3.9/site-packages/IPython/core/magics/auto.py'>,\n",
       "  'IPython.core.magics.basic': <module 'IPython.core.magics.basic' from '/Users/paighewold/opt/anaconda3/lib/python3.9/site-packages/IPython/core/magics/basic.py'>,\n",
       "  'email': <module 'email' from '/Users/paighewold/opt/anaconda3/lib/python3.9/email/__init__.py'>,\n",
       "  'http': <module 'http' from '/Users/paighewold/opt/anaconda3/lib/python3.9/http/__init__.py'>,\n",
       "  'email.errors': <module 'email.errors' from '/Users/paighewold/opt/anaconda3/lib/python3.9/email/errors.py'>,\n",
       "  'email.quoprimime': <module 'email.quoprimime' from '/Users/paighewold/opt/anaconda3/lib/python3.9/email/quoprimime.py'>,\n",
       "  'email.base64mime': <module 'email.base64mime' from '/Users/paighewold/opt/anaconda3/lib/python3.9/email/base64mime.py'>,\n",
       "  'quopri': <module 'quopri' from '/Users/paighewold/opt/anaconda3/lib/python3.9/quopri.py'>,\n",
       "  'email.encoders': <module 'email.encoders' from '/Users/paighewold/opt/anaconda3/lib/python3.9/email/encoders.py'>,\n",
       "  'email.charset': <module 'email.charset' from '/Users/paighewold/opt/anaconda3/lib/python3.9/email/charset.py'>,\n",
       "  'email.header': <module 'email.header' from '/Users/paighewold/opt/anaconda3/lib/python3.9/email/header.py'>,\n",
       "  'calendar': <module 'calendar' from '/Users/paighewold/opt/anaconda3/lib/python3.9/calendar.py'>,\n",
       "  'email._parseaddr': <module 'email._parseaddr' from '/Users/paighewold/opt/anaconda3/lib/python3.9/email/_parseaddr.py'>,\n",
       "  'email.utils': <module 'email.utils' from '/Users/paighewold/opt/anaconda3/lib/python3.9/email/utils.py'>,\n",
       "  'email._policybase': <module 'email._policybase' from '/Users/paighewold/opt/anaconda3/lib/python3.9/email/_policybase.py'>,\n",
       "  'email.feedparser': <module 'email.feedparser' from '/Users/paighewold/opt/anaconda3/lib/python3.9/email/feedparser.py'>,\n",
       "  'email.parser': <module 'email.parser' from '/Users/paighewold/opt/anaconda3/lib/python3.9/email/parser.py'>,\n",
       "  'uu': <module 'uu' from '/Users/paighewold/opt/anaconda3/lib/python3.9/uu.py'>,\n",
       "  'email._encoded_words': <module 'email._encoded_words' from '/Users/paighewold/opt/anaconda3/lib/python3.9/email/_encoded_words.py'>,\n",
       "  'email.iterators': <module 'email.iterators' from '/Users/paighewold/opt/anaconda3/lib/python3.9/email/iterators.py'>,\n",
       "  'email.message': <module 'email.message' from '/Users/paighewold/opt/anaconda3/lib/python3.9/email/message.py'>,\n",
       "  'http.client': <module 'http.client' from '/Users/paighewold/opt/anaconda3/lib/python3.9/http/client.py'>,\n",
       "  'urllib.response': <module 'urllib.response' from '/Users/paighewold/opt/anaconda3/lib/python3.9/urllib/response.py'>,\n",
       "  'urllib.error': <module 'urllib.error' from '/Users/paighewold/opt/anaconda3/lib/python3.9/urllib/error.py'>,\n",
       "  '_scproxy': <module '_scproxy' from '/Users/paighewold/opt/anaconda3/lib/python3.9/lib-dynload/_scproxy.cpython-39-darwin.so'>,\n",
       "  'urllib.request': <module 'urllib.request' from '/Users/paighewold/opt/anaconda3/lib/python3.9/urllib/request.py'>,\n",
       "  'IPython.core.magics.code': <module 'IPython.core.magics.code' from '/Users/paighewold/opt/anaconda3/lib/python3.9/site-packages/IPython/core/magics/code.py'>,\n",
       "  'IPython.core.magics.config': <module 'IPython.core.magics.config' from '/Users/paighewold/opt/anaconda3/lib/python3.9/site-packages/IPython/core/magics/config.py'>,\n",
       "  'IPython.core.magics.display': <module 'IPython.core.magics.display' from '/Users/paighewold/opt/anaconda3/lib/python3.9/site-packages/IPython/core/magics/display.py'>,\n",
       "  'timeit': <module 'timeit' from '/Users/paighewold/opt/anaconda3/lib/python3.9/timeit.py'>,\n",
       "  '_lsprof': <module '_lsprof' from '/Users/paighewold/opt/anaconda3/lib/python3.9/lib-dynload/_lsprof.cpython-39-darwin.so'>,\n",
       "  'profile': <module 'profile' from '/Users/paighewold/opt/anaconda3/lib/python3.9/profile.py'>,\n",
       "  'cProfile': <module 'cProfile' from '/Users/paighewold/opt/anaconda3/lib/python3.9/cProfile.py'>,\n",
       "  'dataclasses': <module 'dataclasses' from '/Users/paighewold/opt/anaconda3/lib/python3.9/dataclasses.py'>,\n",
       "  'pstats': <module 'pstats' from '/Users/paighewold/opt/anaconda3/lib/python3.9/pstats.py'>,\n",
       "  'IPython.utils.module_paths': <module 'IPython.utils.module_paths' from '/Users/paighewold/opt/anaconda3/lib/python3.9/site-packages/IPython/utils/module_paths.py'>,\n",
       "  'IPython.utils.timing': <module 'IPython.utils.timing' from '/Users/paighewold/opt/anaconda3/lib/python3.9/site-packages/IPython/utils/timing.py'>,\n",
       "  'IPython.core.magics.execution': <module 'IPython.core.magics.execution' from '/Users/paighewold/opt/anaconda3/lib/python3.9/site-packages/IPython/core/magics/execution.py'>,\n",
       "  'IPython.core.magics.extension': <module 'IPython.core.magics.extension' from '/Users/paighewold/opt/anaconda3/lib/python3.9/site-packages/IPython/core/magics/extension.py'>,\n",
       "  'IPython.core.magics.history': <module 'IPython.core.magics.history' from '/Users/paighewold/opt/anaconda3/lib/python3.9/site-packages/IPython/core/magics/history.py'>,\n",
       "  'IPython.core.magics.logging': <module 'IPython.core.magics.logging' from '/Users/paighewold/opt/anaconda3/lib/python3.9/site-packages/IPython/core/magics/logging.py'>,\n",
       "  'IPython.core.magics.namespace': <module 'IPython.core.magics.namespace' from '/Users/paighewold/opt/anaconda3/lib/python3.9/site-packages/IPython/core/magics/namespace.py'>,\n",
       "  'IPython.core.magics.osm': <module 'IPython.core.magics.osm' from '/Users/paighewold/opt/anaconda3/lib/python3.9/site-packages/IPython/core/magics/osm.py'>,\n",
       "  'IPython.core.magics.packaging': <module 'IPython.core.magics.packaging' from '/Users/paighewold/opt/anaconda3/lib/python3.9/site-packages/IPython/core/magics/packaging.py'>,\n",
       "  'IPython.core.pylabtools': <module 'IPython.core.pylabtools' from '/Users/paighewold/opt/anaconda3/lib/python3.9/site-packages/IPython/core/pylabtools.py'>,\n",
       "  'IPython.core.magics.pylab': <module 'IPython.core.magics.pylab' from '/Users/paighewold/opt/anaconda3/lib/python3.9/site-packages/IPython/core/magics/pylab.py'>,\n",
       "  'IPython.lib.backgroundjobs': <module 'IPython.lib.backgroundjobs' from '/Users/paighewold/opt/anaconda3/lib/python3.9/site-packages/IPython/lib/backgroundjobs.py'>,\n",
       "  'IPython.core.magics.script': <module 'IPython.core.magics.script' from '/Users/paighewold/opt/anaconda3/lib/python3.9/site-packages/IPython/core/magics/script.py'>,\n",
       "  'IPython.core.magics': <module 'IPython.core.magics' from '/Users/paighewold/opt/anaconda3/lib/python3.9/site-packages/IPython/core/magics/__init__.py'>,\n",
       "  'IPython.core.shellapp': <module 'IPython.core.shellapp' from '/Users/paighewold/opt/anaconda3/lib/python3.9/site-packages/IPython/core/shellapp.py'>,\n",
       "  'IPython.extensions': <module 'IPython.extensions' from '/Users/paighewold/opt/anaconda3/lib/python3.9/site-packages/IPython/extensions/__init__.py'>,\n",
       "  'IPython.extensions.storemagic': <module 'IPython.extensions.storemagic' from '/Users/paighewold/opt/anaconda3/lib/python3.9/site-packages/IPython/extensions/storemagic.py'>,\n",
       "  'IPython.terminal.ipapp': <module 'IPython.terminal.ipapp' from '/Users/paighewold/opt/anaconda3/lib/python3.9/site-packages/IPython/terminal/ipapp.py'>,\n",
       "  'IPython.terminal.embed': <module 'IPython.terminal.embed' from '/Users/paighewold/opt/anaconda3/lib/python3.9/site-packages/IPython/terminal/embed.py'>,\n",
       "  'IPython.utils.frame': <module 'IPython.utils.frame' from '/Users/paighewold/opt/anaconda3/lib/python3.9/site-packages/IPython/utils/frame.py'>,\n",
       "  'IPython': <module 'IPython' from '/Users/paighewold/opt/anaconda3/lib/python3.9/site-packages/IPython/__init__.py'>,\n",
       "  'ipython_genutils._version': <module 'ipython_genutils._version' from '/Users/paighewold/opt/anaconda3/lib/python3.9/site-packages/ipython_genutils/_version.py'>,\n",
       "  'ipython_genutils': <module 'ipython_genutils' from '/Users/paighewold/opt/anaconda3/lib/python3.9/site-packages/ipython_genutils/__init__.py'>,\n",
       "  'ipython_genutils.encoding': <module 'ipython_genutils.encoding' from '/Users/paighewold/opt/anaconda3/lib/python3.9/site-packages/ipython_genutils/encoding.py'>,\n",
       "  'ipython_genutils.py3compat': <module 'ipython_genutils.py3compat' from '/Users/paighewold/opt/anaconda3/lib/python3.9/site-packages/ipython_genutils/py3compat.py'>,\n",
       "  'ipython_genutils.path': <module 'ipython_genutils.path' from '/Users/paighewold/opt/anaconda3/lib/python3.9/site-packages/ipython_genutils/path.py'>,\n",
       "  'imp': <module 'imp' from '/Users/paighewold/opt/anaconda3/lib/python3.9/imp.py'>,\n",
       "  'hmac': <module 'hmac' from '/Users/paighewold/opt/anaconda3/lib/python3.9/hmac.py'>,\n",
       "  'dateutil._version': <module 'dateutil._version' from '/Users/paighewold/opt/anaconda3/lib/python3.9/site-packages/dateutil/_version.py'>,\n",
       "  'dateutil': <module 'dateutil' from '/Users/paighewold/opt/anaconda3/lib/python3.9/site-packages/dateutil/__init__.py'>,\n",
       "  'six': <module 'six' from '/Users/paighewold/opt/anaconda3/lib/python3.9/site-packages/six.py'>,\n",
       "  '_decimal': <module '_decimal' from '/Users/paighewold/opt/anaconda3/lib/python3.9/lib-dynload/_decimal.cpython-39-darwin.so'>,\n",
       "  'decimal': <module 'decimal' from '/Users/paighewold/opt/anaconda3/lib/python3.9/decimal.py'>,\n",
       "  'dateutil._common': <module 'dateutil._common' from '/Users/paighewold/opt/anaconda3/lib/python3.9/site-packages/dateutil/_common.py'>,\n",
       "  'dateutil.relativedelta': <module 'dateutil.relativedelta' from '/Users/paighewold/opt/anaconda3/lib/python3.9/site-packages/dateutil/relativedelta.py'>,\n",
       "  'six.moves': <module 'six.moves' (<six._SixMetaPathImporter object at 0x7fd1570cd190>)>,\n",
       "  'dateutil.tz._common': <module 'dateutil.tz._common' from '/Users/paighewold/opt/anaconda3/lib/python3.9/site-packages/dateutil/tz/_common.py'>,\n",
       "  'dateutil.tz._factories': <module 'dateutil.tz._factories' from '/Users/paighewold/opt/anaconda3/lib/python3.9/site-packages/dateutil/tz/_factories.py'>,\n",
       "  'dateutil.tz.tz': <module 'dateutil.tz.tz' from '/Users/paighewold/opt/anaconda3/lib/python3.9/site-packages/dateutil/tz/tz.py'>,\n",
       "  'dateutil.tz': <module 'dateutil.tz' from '/Users/paighewold/opt/anaconda3/lib/python3.9/site-packages/dateutil/tz/__init__.py'>,\n",
       "  'dateutil.parser._parser': <module 'dateutil.parser._parser' from '/Users/paighewold/opt/anaconda3/lib/python3.9/site-packages/dateutil/parser/_parser.py'>,\n",
       "  'dateutil.parser.isoparser': <module 'dateutil.parser.isoparser' from '/Users/paighewold/opt/anaconda3/lib/python3.9/site-packages/dateutil/parser/isoparser.py'>,\n",
       "  'dateutil.parser': <module 'dateutil.parser' from '/Users/paighewold/opt/anaconda3/lib/python3.9/site-packages/dateutil/parser/__init__.py'>,\n",
       "  '_strptime': <module '_strptime' from '/Users/paighewold/opt/anaconda3/lib/python3.9/_strptime.py'>,\n",
       "  'jupyter_client.jsonutil': <module 'jupyter_client.jsonutil' from '/Users/paighewold/opt/anaconda3/lib/python3.9/site-packages/jupyter_client/jsonutil.py'>,\n",
       "  'jupyter_client.adapter': <module 'jupyter_client.adapter' from '/Users/paighewold/opt/anaconda3/lib/python3.9/site-packages/jupyter_client/adapter.py'>,\n",
       "  'jupyter_client.session': <module 'jupyter_client.session' from '/Users/paighewold/opt/anaconda3/lib/python3.9/site-packages/jupyter_client/session.py'>,\n",
       "  'ipykernel.iostream': <module 'ipykernel.iostream' from '/Users/paighewold/opt/anaconda3/lib/python3.9/site-packages/ipykernel/iostream.py'>,\n",
       "  'ipykernel.control': <module 'ipykernel.control' from '/Users/paighewold/opt/anaconda3/lib/python3.9/site-packages/ipykernel/control.py'>,\n",
       "  'ipykernel.heartbeat': <module 'ipykernel.heartbeat' from '/Users/paighewold/opt/anaconda3/lib/python3.9/site-packages/ipykernel/heartbeat.py'>,\n",
       "  'IPython.utils.tokenutil': <module 'IPython.utils.tokenutil' from '/Users/paighewold/opt/anaconda3/lib/python3.9/site-packages/IPython/utils/tokenutil.py'>,\n",
       "  'tornado.locks': <module 'tornado.locks' from '/Users/paighewold/opt/anaconda3/lib/python3.9/site-packages/tornado/locks.py'>,\n",
       "  'tornado.queues': <module 'tornado.queues' from '/Users/paighewold/opt/anaconda3/lib/python3.9/site-packages/tornado/queues.py'>,\n",
       "  'ipykernel.jsonutil': <module 'ipykernel.jsonutil' from '/Users/paighewold/opt/anaconda3/lib/python3.9/site-packages/ipykernel/jsonutil.py'>,\n",
       "  'ipykernel.kernelbase': <module 'ipykernel.kernelbase' from '/Users/paighewold/opt/anaconda3/lib/python3.9/site-packages/ipykernel/kernelbase.py'>,\n",
       "  'ipykernel.comm.comm': <module 'ipykernel.comm.comm' from '/Users/paighewold/opt/anaconda3/lib/python3.9/site-packages/ipykernel/comm/comm.py'>,\n",
       "  'ipykernel.comm.manager': <module 'ipykernel.comm.manager' from '/Users/paighewold/opt/anaconda3/lib/python3.9/site-packages/ipykernel/comm/manager.py'>,\n",
       "  'ipykernel.comm': <module 'ipykernel.comm' from '/Users/paighewold/opt/anaconda3/lib/python3.9/site-packages/ipykernel/comm/__init__.py'>,\n",
       "  'IPython.core.payloadpage': <module 'IPython.core.payloadpage' from '/Users/paighewold/opt/anaconda3/lib/python3.9/site-packages/IPython/core/payloadpage.py'>,\n",
       "  'ipykernel.displayhook': <module 'ipykernel.displayhook' from '/Users/paighewold/opt/anaconda3/lib/python3.9/site-packages/ipykernel/displayhook.py'>,\n",
       "  'ipykernel.zmqshell': <module 'ipykernel.zmqshell' from '/Users/paighewold/opt/anaconda3/lib/python3.9/site-packages/ipykernel/zmqshell.py'>,\n",
       "  'distutils': <module 'distutils' from '/Users/paighewold/opt/anaconda3/lib/python3.9/distutils/__init__.py'>,\n",
       "  'distutils.version': <module 'distutils.version' from '/Users/paighewold/opt/anaconda3/lib/python3.9/distutils/version.py'>,\n",
       "  'ipykernel.eventloops': <module 'ipykernel.eventloops' from '/Users/paighewold/opt/anaconda3/lib/python3.9/site-packages/ipykernel/eventloops.py'>,\n",
       "  'ipykernel.compiler': <module 'ipykernel.compiler' from '/Users/paighewold/opt/anaconda3/lib/python3.9/site-packages/ipykernel/compiler.py'>,\n",
       "  'debugpy._version': <module 'debugpy._version' from '/Users/paighewold/opt/anaconda3/lib/python3.9/site-packages/debugpy/_version.py'>,\n",
       "  'debugpy.common': <module 'debugpy.common' from '/Users/paighewold/opt/anaconda3/lib/python3.9/site-packages/debugpy/common/__init__.py'>,\n",
       "  'debugpy.common.json': <module 'debugpy.common.json' from '/Users/paighewold/opt/anaconda3/lib/python3.9/site-packages/debugpy/common/json.py'>,\n",
       "  'debugpy.common.fmt': <module 'debugpy.common.fmt' from '/Users/paighewold/opt/anaconda3/lib/python3.9/site-packages/debugpy/common/fmt.py'>,\n",
       "  'debugpy.common.compat': <module 'debugpy.common.compat' from '/Users/paighewold/opt/anaconda3/lib/python3.9/site-packages/debugpy/common/compat.py'>,\n",
       "  'debugpy': <module 'debugpy' from '/Users/paighewold/opt/anaconda3/lib/python3.9/site-packages/debugpy/__init__.py'>,\n",
       "  'debugpy._vendored._util': <module 'debugpy._vendored._util' from '/Users/paighewold/opt/anaconda3/lib/python3.9/site-packages/debugpy/_vendored/_util.py'>,\n",
       "  'debugpy._vendored': <module 'debugpy._vendored' from '/Users/paighewold/opt/anaconda3/lib/python3.9/site-packages/debugpy/_vendored/__init__.py'>,\n",
       "  '_pydevd_bundle': <module '_pydevd_bundle' from '/Users/paighewold/opt/anaconda3/lib/python3.9/site-packages/debugpy/_vendored/pydevd/_pydevd_bundle/__init__.py'>,\n",
       "  'encodings.ascii': <module 'encodings.ascii' from '/Users/paighewold/opt/anaconda3/lib/python3.9/encodings/ascii.py'>,\n",
       "  'stringprep': <module 'stringprep' from '/Users/paighewold/opt/anaconda3/lib/python3.9/stringprep.py'>,\n",
       "  'encodings.idna': <module 'encodings.idna' from '/Users/paighewold/opt/anaconda3/lib/python3.9/encodings/idna.py'>,\n",
       "  '_pydevd_bundle.pydevd_vm_type': <module '_pydevd_bundle.pydevd_vm_type' from '/Users/paighewold/opt/anaconda3/lib/python3.9/site-packages/debugpy/_vendored/pydevd/_pydevd_bundle/pydevd_vm_type.py'>,\n",
       "  '_pydev_imps': <module '_pydev_imps' from '/Users/paighewold/opt/anaconda3/lib/python3.9/site-packages/debugpy/_vendored/pydevd/_pydev_imps/__init__.py'>,\n",
       "  'xmlrpc': <module 'xmlrpc' from '/Users/paighewold/opt/anaconda3/lib/python3.9/xmlrpc/__init__.py'>,\n",
       "  'xml.parsers': <module 'xml.parsers' from '/Users/paighewold/opt/anaconda3/lib/python3.9/xml/parsers/__init__.py'>,\n",
       "  'pyexpat.errors': <module 'pyexpat.errors'>,\n",
       "  'pyexpat.model': <module 'pyexpat.model'>,\n",
       "  'pyexpat': <module 'pyexpat' from '/Users/paighewold/opt/anaconda3/lib/python3.9/lib-dynload/pyexpat.cpython-39-darwin.so'>,\n",
       "  'xml.parsers.expat.model': <module 'pyexpat.model'>,\n",
       "  'xml.parsers.expat.errors': <module 'pyexpat.errors'>,\n",
       "  'xml.parsers.expat': <module 'xml.parsers.expat' from '/Users/paighewold/opt/anaconda3/lib/python3.9/xml/parsers/expat.py'>,\n",
       "  'gzip': <module 'gzip' from '/Users/paighewold/opt/anaconda3/lib/python3.9/gzip.py'>,\n",
       "  'xmlrpc.client': <module 'xmlrpc.client' from '/Users/paighewold/opt/anaconda3/lib/python3.9/xmlrpc/client.py'>,\n",
       "  'socketserver': <module 'socketserver' from '/Users/paighewold/opt/anaconda3/lib/python3.9/socketserver.py'>,\n",
       "  'http.server': <module 'http.server' from '/Users/paighewold/opt/anaconda3/lib/python3.9/http/server.py'>,\n",
       "  'xmlrpc.server': <module 'xmlrpc.server' from '/Users/paighewold/opt/anaconda3/lib/python3.9/xmlrpc/server.py'>,\n",
       "  '_pydev_imps._pydev_saved_modules': <module '_pydev_imps._pydev_saved_modules' from '/Users/paighewold/opt/anaconda3/lib/python3.9/site-packages/debugpy/_vendored/pydevd/_pydev_imps/_pydev_saved_modules.py'>,\n",
       "  '_pydevd_bundle.pydevd_constants': <module '_pydevd_bundle.pydevd_constants' from '/Users/paighewold/opt/anaconda3/lib/python3.9/site-packages/debugpy/_vendored/pydevd/_pydevd_bundle/pydevd_constants.py'>,\n",
       "  '_pydev_bundle': <module '_pydev_bundle' from '/Users/paighewold/opt/anaconda3/lib/python3.9/site-packages/debugpy/_vendored/pydevd/_pydev_bundle/__init__.py'>,\n",
       "  '_pydev_runfiles': <module '_pydev_runfiles' from '/Users/paighewold/opt/anaconda3/lib/python3.9/site-packages/debugpy/_vendored/pydevd/_pydev_runfiles/__init__.py'>,\n",
       "  '_pydevd_frame_eval': <module '_pydevd_frame_eval' from '/Users/paighewold/opt/anaconda3/lib/python3.9/site-packages/debugpy/_vendored/pydevd/_pydevd_frame_eval/__init__.py'>,\n",
       "  'pydev_ipython': <module 'pydev_ipython' from '/Users/paighewold/opt/anaconda3/lib/python3.9/site-packages/debugpy/_vendored/pydevd/pydev_ipython/__init__.py'>,\n",
       "  'pydevd_concurrency_analyser': <module 'pydevd_concurrency_analyser' from '/Users/paighewold/opt/anaconda3/lib/python3.9/site-packages/debugpy/_vendored/pydevd/pydevd_concurrency_analyser/__init__.py'>,\n",
       "  'zipfile': <module 'zipfile' from '/Users/paighewold/opt/anaconda3/lib/python3.9/zipfile.py'>,\n",
       "  'plistlib': <module 'plistlib' from '/Users/paighewold/opt/anaconda3/lib/python3.9/plistlib.py'>,\n",
       "  'pkg_resources.extern': <module 'pkg_resources.extern' from '/Users/paighewold/opt/anaconda3/lib/python3.9/site-packages/pkg_resources/extern/__init__.py'>,\n",
       "  'pkg_resources._vendor': <module 'pkg_resources._vendor' from '/Users/paighewold/opt/anaconda3/lib/python3.9/site-packages/pkg_resources/_vendor/__init__.py'>,\n",
       "  'pkg_resources._vendor.appdirs': <module 'pkg_resources.extern.appdirs' (<pkg_resources.extern.VendorImporter object at 0x7fd1572e9190>)>,\n",
       "  'pkg_resources.extern.appdirs': <module 'pkg_resources.extern.appdirs' (<pkg_resources.extern.VendorImporter object at 0x7fd1572e9190>)>,\n",
       "  'pkg_resources._vendor.packaging.__about__': <module 'pkg_resources._vendor.packaging.__about__' from '/Users/paighewold/opt/anaconda3/lib/python3.9/site-packages/pkg_resources/_vendor/packaging/__about__.py'>,\n",
       "  'pkg_resources._vendor.packaging': <module 'pkg_resources.extern.packaging' (<pkg_resources.extern.VendorImporter object at 0x7fd1572e9190>)>,\n",
       "  'pkg_resources.extern.packaging': <module 'pkg_resources.extern.packaging' (<pkg_resources.extern.VendorImporter object at 0x7fd1572e9190>)>,\n",
       "  'pkg_resources.extern.packaging._structures': <module 'pkg_resources.extern.packaging._structures' from '/Users/paighewold/opt/anaconda3/lib/python3.9/site-packages/pkg_resources/_vendor/packaging/_structures.py'>,\n",
       "  'pkg_resources.extern.packaging._typing': <module 'pkg_resources.extern.packaging._typing' from '/Users/paighewold/opt/anaconda3/lib/python3.9/site-packages/pkg_resources/_vendor/packaging/_typing.py'>,\n",
       "  'pkg_resources.extern.packaging.version': <module 'pkg_resources.extern.packaging.version' from '/Users/paighewold/opt/anaconda3/lib/python3.9/site-packages/pkg_resources/_vendor/packaging/version.py'>,\n",
       "  'pkg_resources.extern.packaging._compat': <module 'pkg_resources.extern.packaging._compat' from '/Users/paighewold/opt/anaconda3/lib/python3.9/site-packages/pkg_resources/_vendor/packaging/_compat.py'>,\n",
       "  'pkg_resources.extern.packaging.utils': <module 'pkg_resources.extern.packaging.utils' from '/Users/paighewold/opt/anaconda3/lib/python3.9/site-packages/pkg_resources/_vendor/packaging/utils.py'>,\n",
       "  'pkg_resources.extern.packaging.specifiers': <module 'pkg_resources.extern.packaging.specifiers' from '/Users/paighewold/opt/anaconda3/lib/python3.9/site-packages/pkg_resources/_vendor/packaging/specifiers.py'>,\n",
       "  'pkg_resources._vendor.pyparsing': <module 'pkg_resources.extern.pyparsing' (<pkg_resources.extern.VendorImporter object at 0x7fd1572e9190>)>,\n",
       "  'pkg_resources.extern.pyparsing': <module 'pkg_resources.extern.pyparsing' (<pkg_resources.extern.VendorImporter object at 0x7fd1572e9190>)>,\n",
       "  'pkg_resources.extern.packaging.markers': <module 'pkg_resources.extern.packaging.markers' from '/Users/paighewold/opt/anaconda3/lib/python3.9/site-packages/pkg_resources/_vendor/packaging/markers.py'>,\n",
       "  'pkg_resources.extern.packaging.requirements': <module 'pkg_resources.extern.packaging.requirements' from '/Users/paighewold/opt/anaconda3/lib/python3.9/site-packages/pkg_resources/_vendor/packaging/requirements.py'>,\n",
       "  'encodings.cp437': <module 'encodings.cp437' from '/Users/paighewold/opt/anaconda3/lib/python3.9/encodings/cp437.py'>,\n",
       "  'pkg_resources': <module 'pkg_resources' from '/Users/paighewold/opt/anaconda3/lib/python3.9/site-packages/pkg_resources/__init__.py'>,\n",
       "  'pydevd_plugins': <module 'pydevd_plugins' from '/Users/paighewold/opt/anaconda3/lib/python3.9/site-packages/debugpy/_vendored/pydevd/pydevd_plugins/__init__.py'>,\n",
       "  '_pydev_bundle.pydev_log': <module '_pydev_bundle.pydev_log' from '/Users/paighewold/opt/anaconda3/lib/python3.9/site-packages/debugpy/_vendored/pydevd/_pydev_bundle/pydev_log.py'>,\n",
       "  '_pydev_bundle._pydev_filesystem_encoding': <module '_pydev_bundle._pydev_filesystem_encoding' from '/Users/paighewold/opt/anaconda3/lib/python3.9/site-packages/debugpy/_vendored/pydevd/_pydev_bundle/_pydev_filesystem_encoding.py'>,\n",
       "  '_pydevd_bundle.pydevd_comm_constants': <module '_pydevd_bundle.pydevd_comm_constants' from '/Users/paighewold/opt/anaconda3/lib/python3.9/site-packages/debugpy/_vendored/pydevd/_pydevd_bundle/pydevd_comm_constants.py'>,\n",
       "  'pydevd_file_utils': <module 'pydevd_file_utils' from '/Users/paighewold/opt/anaconda3/lib/python3.9/site-packages/debugpy/_vendored/pydevd/pydevd_file_utils.py'>,\n",
       "  '_pydev_imps._pydev_execfile': <module '_pydev_imps._pydev_execfile' from '/Users/paighewold/opt/anaconda3/lib/python3.9/site-packages/debugpy/_vendored/pydevd/_pydev_imps/_pydev_execfile.py'>,\n",
       "  '_pydevd_bundle.pydevd_exec2': <module '_pydevd_bundle.pydevd_exec2' from '/Users/paighewold/opt/anaconda3/lib/python3.9/site-packages/debugpy/_vendored/pydevd/_pydevd_bundle/pydevd_exec2.py'>,\n",
       "  '_pydev_bundle.pydev_imports': <module '_pydev_bundle.pydev_imports' from '/Users/paighewold/opt/anaconda3/lib/python3.9/site-packages/debugpy/_vendored/pydevd/_pydev_bundle/pydev_imports.py'>,\n",
       "  '_pydev_bundle.pydev_is_thread_alive': <module '_pydev_bundle.pydev_is_thread_alive' from '/Users/paighewold/opt/anaconda3/lib/python3.9/site-packages/debugpy/_vendored/pydevd/_pydev_bundle/pydev_is_thread_alive.py'>,\n",
       "  '_pydev_bundle.pydev_override': <module '_pydev_bundle.pydev_override' from '/Users/paighewold/opt/anaconda3/lib/python3.9/site-packages/debugpy/_vendored/pydevd/_pydev_bundle/pydev_override.py'>,\n",
       "  'pydevd_plugins.extensions': <module 'pydevd_plugins.extensions' from '/Users/paighewold/opt/anaconda3/lib/python3.9/site-packages/debugpy/_vendored/pydevd/pydevd_plugins/extensions/__init__.py'>,\n",
       "  '_pydevd_bundle.pydevd_extension_utils': <module '_pydevd_bundle.pydevd_extension_utils' from '/Users/paighewold/opt/anaconda3/lib/python3.9/site-packages/debugpy/_vendored/pydevd/_pydevd_bundle/pydevd_extension_utils.py'>,\n",
       "  '_pydevd_bundle.pydevd_frame_utils': <module '_pydevd_bundle.pydevd_frame_utils' from '/Users/paighewold/opt/anaconda3/lib/python3.9/site-packages/debugpy/_vendored/pydevd/_pydevd_bundle/pydevd_frame_utils.py'>,\n",
       "  '_pydevd_bundle.pydevd_filtering': <module '_pydevd_bundle.pydevd_filtering' from '/Users/paighewold/opt/anaconda3/lib/python3.9/site-packages/debugpy/_vendored/pydevd/_pydevd_bundle/pydevd_filtering.py'>,\n",
       "  '_pydevd_bundle.pydevd_io': <module '_pydevd_bundle.pydevd_io' from '/Users/paighewold/opt/anaconda3/lib/python3.9/site-packages/debugpy/_vendored/pydevd/_pydevd_bundle/pydevd_io.py'>,\n",
       "  '_pydevd_bundle.pydevd_utils': <module '_pydevd_bundle.pydevd_utils' from '/Users/paighewold/opt/anaconda3/lib/python3.9/site-packages/debugpy/_vendored/pydevd/_pydevd_bundle/pydevd_utils.py'>,\n",
       "  '_pydev_bundle._pydev_tipper_common': <module '_pydev_bundle._pydev_tipper_common' from '/Users/paighewold/opt/anaconda3/lib/python3.9/site-packages/debugpy/_vendored/pydevd/_pydev_bundle/_pydev_tipper_common.py'>,\n",
       "  '_pydev_bundle._pydev_imports_tipper': <module '_pydev_bundle._pydev_imports_tipper' from '/Users/paighewold/opt/anaconda3/lib/python3.9/site-packages/debugpy/_vendored/pydevd/_pydev_bundle/_pydev_imports_tipper.py'>,\n",
       "  '_pydev_bundle._pydev_calltip_util': <module '_pydev_bundle._pydev_calltip_util' from '/Users/paighewold/opt/anaconda3/lib/python3.9/site-packages/debugpy/_vendored/pydevd/_pydev_bundle/_pydev_calltip_util.py'>,\n",
       "  '_pydevd_bundle.pydevd_safe_repr': <module '_pydevd_bundle.pydevd_safe_repr' from '/Users/paighewold/opt/anaconda3/lib/python3.9/site-packages/debugpy/_vendored/pydevd/_pydevd_bundle/pydevd_safe_repr.py'>,\n",
       "  '_pydevd_bundle.pydevd_resolver': <module '_pydevd_bundle.pydevd_resolver' from '/Users/paighewold/opt/anaconda3/lib/python3.9/site-packages/debugpy/_vendored/pydevd/_pydevd_bundle/pydevd_resolver.py'>,\n",
       "  '_pydevd_bundle.pydevd_extension_api': <module '_pydevd_bundle.pydevd_extension_api' from '/Users/paighewold/opt/anaconda3/lib/python3.9/site-packages/debugpy/_vendored/pydevd/_pydevd_bundle/pydevd_extension_api.py'>,\n",
       "  '_pydevd_bundle.pydevd_xml': <module '_pydevd_bundle.pydevd_xml' from '/Users/paighewold/opt/anaconda3/lib/python3.9/site-packages/debugpy/_vendored/pydevd/_pydevd_bundle/pydevd_xml.py'>,\n",
       "  '_pydevd_bundle.pydevd_dont_trace': <module '_pydevd_bundle.pydevd_dont_trace' from '/Users/paighewold/opt/anaconda3/lib/python3.9/site-packages/debugpy/_vendored/pydevd/_pydevd_bundle/pydevd_dont_trace.py'>,\n",
       "  '_pydevd_frame_eval.vendored': <module '_pydevd_frame_eval.vendored' from '/Users/paighewold/opt/anaconda3/lib/python3.9/site-packages/debugpy/_vendored/pydevd/_pydevd_frame_eval/vendored/__init__.py'>,\n",
       "  '_pydevd_frame_eval.vendored.bytecode.flags': <module '_pydevd_frame_eval.vendored.bytecode.flags' from '/Users/paighewold/opt/anaconda3/lib/python3.9/site-packages/debugpy/_vendored/pydevd/_pydevd_frame_eval/vendored/bytecode/flags.py'>,\n",
       "  '_pydevd_frame_eval.vendored.bytecode.instr': <module '_pydevd_frame_eval.vendored.bytecode.instr' from '/Users/paighewold/opt/anaconda3/lib/python3.9/site-packages/debugpy/_vendored/pydevd/_pydevd_frame_eval/vendored/bytecode/instr.py'>,\n",
       "  '_pydevd_frame_eval.vendored.bytecode.bytecode': <module '_pydevd_frame_eval.vendored.bytecode.bytecode' from '/Users/paighewold/opt/anaconda3/lib/python3.9/site-packages/debugpy/_vendored/pydevd/_pydevd_frame_eval/vendored/bytecode/bytecode.py'>,\n",
       "  '_pydevd_frame_eval.vendored.bytecode.concrete': <module '_pydevd_frame_eval.vendored.bytecode.concrete' from '/Users/paighewold/opt/anaconda3/lib/python3.9/site-packages/debugpy/_vendored/pydevd/_pydevd_frame_eval/vendored/bytecode/concrete.py'>,\n",
       "  '_pydevd_frame_eval.vendored.bytecode.cfg': <module '_pydevd_frame_eval.vendored.bytecode.cfg' from '/Users/paighewold/opt/anaconda3/lib/python3.9/site-packages/debugpy/_vendored/pydevd/_pydevd_frame_eval/vendored/bytecode/cfg.py'>,\n",
       "  '_pydevd_frame_eval.vendored.bytecode': <module '_pydevd_frame_eval.vendored.bytecode' from '/Users/paighewold/opt/anaconda3/lib/python3.9/site-packages/debugpy/_vendored/pydevd/_pydevd_frame_eval/vendored/bytecode/__init__.py'>,\n",
       "  '_pydevd_bundle.pydevd_bytecode_utils': <module '_pydevd_bundle.pydevd_bytecode_utils' from '/Users/paighewold/opt/anaconda3/lib/python3.9/site-packages/debugpy/_vendored/pydevd/_pydevd_bundle/pydevd_bytecode_utils.py'>,\n",
       "  '_pydevd_bundle.pydevd_cython': <module '_pydevd_bundle.pydevd_cython' from '/Users/paighewold/opt/anaconda3/lib/python3.9/site-packages/debugpy/_vendored/pydevd/_pydevd_bundle/pydevd_cython.cpython-39-darwin.so'>,\n",
       "  '_pydevd_bundle.pydevd_cython_wrapper': <module '_pydevd_bundle.pydevd_cython_wrapper' from '/Users/paighewold/opt/anaconda3/lib/python3.9/site-packages/debugpy/_vendored/pydevd/_pydevd_bundle/pydevd_cython_wrapper.py'>,\n",
       "  '_pydevd_bundle.pydevd_additional_thread_info': <module '_pydevd_bundle.pydevd_additional_thread_info' from '/Users/paighewold/opt/anaconda3/lib/python3.9/site-packages/debugpy/_vendored/pydevd/_pydevd_bundle/pydevd_additional_thread_info.py'>,\n",
       "  '_pydevd_bundle.pydevd_thread_lifecycle': <module '_pydevd_bundle.pydevd_thread_lifecycle' from '/Users/paighewold/opt/anaconda3/lib/python3.9/site-packages/debugpy/_vendored/pydevd/_pydevd_bundle/pydevd_thread_lifecycle.py'>,\n",
       "  '_pydevd_bundle.pydevd_save_locals': <module '_pydevd_bundle.pydevd_save_locals' from '/Users/paighewold/opt/anaconda3/lib/python3.9/site-packages/debugpy/_vendored/pydevd/_pydevd_bundle/pydevd_save_locals.py'>,\n",
       "  '_pydevd_bundle.pydevd_defaults': <module '_pydevd_bundle.pydevd_defaults' from '/Users/paighewold/opt/anaconda3/lib/python3.9/site-packages/debugpy/_vendored/pydevd/_pydevd_bundle/pydevd_defaults.py'>,\n",
       "  '_pydev_bundle.pydev_monkey': <module '_pydev_bundle.pydev_monkey' from '/Users/paighewold/opt/anaconda3/lib/python3.9/site-packages/debugpy/_vendored/pydevd/_pydev_bundle/pydev_monkey.py'>,\n",
       "  'pydevd_tracing': <module 'pydevd_tracing' from '/Users/paighewold/opt/anaconda3/lib/python3.9/site-packages/debugpy/_vendored/pydevd/pydevd_tracing.py'>,\n",
       "  '_pydevd_bundle.pydevd_daemon_thread': <module '_pydevd_bundle.pydevd_daemon_thread' from '/Users/paighewold/opt/anaconda3/lib/python3.9/site-packages/debugpy/_vendored/pydevd/_pydevd_bundle/pydevd_daemon_thread.py'>,\n",
       "  '_pydevd_bundle.pydevd_timeout': <module '_pydevd_bundle.pydevd_timeout' from '/Users/paighewold/opt/anaconda3/lib/python3.9/site-packages/debugpy/_vendored/pydevd/_pydevd_bundle/pydevd_timeout.py'>,\n",
       "  '_pydevd_bundle.pydevd_vars': <module '_pydevd_bundle.pydevd_vars' from '/Users/paighewold/opt/anaconda3/lib/python3.9/site-packages/debugpy/_vendored/pydevd/_pydevd_bundle/pydevd_vars.py'>,\n",
       "  '_pydev_bundle.pydev_console_utils': <module '_pydev_bundle.pydev_console_utils' from '/Users/paighewold/opt/anaconda3/lib/python3.9/site-packages/debugpy/_vendored/pydevd/_pydev_bundle/pydev_console_utils.py'>,\n",
       "  '_pydevd_bundle.pydevd_import_class': <module '_pydevd_bundle.pydevd_import_class' from '/Users/paighewold/opt/anaconda3/lib/python3.9/site-packages/debugpy/_vendored/pydevd/_pydevd_bundle/pydevd_import_class.py'>,\n",
       "  '_pydevd_bundle.pydevd_breakpoints': <module '_pydevd_bundle.pydevd_breakpoints' from '/Users/paighewold/opt/anaconda3/lib/python3.9/site-packages/debugpy/_vendored/pydevd/_pydevd_bundle/pydevd_breakpoints.py'>,\n",
       "  '_pydevd_bundle.pydevd_custom_frames': <module '_pydevd_bundle.pydevd_custom_frames' from '/Users/paighewold/opt/anaconda3/lib/python3.9/site-packages/debugpy/_vendored/pydevd/_pydevd_bundle/pydevd_custom_frames.py'>,\n",
       "  '_pydevd_bundle.pydevd_dont_trace_files': <module '_pydevd_bundle.pydevd_dont_trace_files' from '/Users/paighewold/opt/anaconda3/lib/python3.9/site-packages/debugpy/_vendored/pydevd/_pydevd_bundle/pydevd_dont_trace_files.py'>,\n",
       "  '_pydevd_bundle.pydevd_net_command': <module '_pydevd_bundle.pydevd_net_command' from '/Users/paighewold/opt/anaconda3/lib/python3.9/site-packages/debugpy/_vendored/pydevd/_pydevd_bundle/pydevd_net_command.py'>,\n",
       "  '_pydev_bundle.pydev_umd': <module '_pydev_bundle.pydev_umd' from '/Users/paighewold/opt/anaconda3/lib/python3.9/site-packages/debugpy/_vendored/pydevd/_pydev_bundle/pydev_umd.py'>,\n",
       "  'pydevconsole': <module 'pydevconsole' from '/Users/paighewold/opt/anaconda3/lib/python3.9/site-packages/debugpy/_vendored/pydevd/pydevconsole.py'>,\n",
       "  '_pydev_bundle._pydev_completer': <module '_pydev_bundle._pydev_completer' from '/Users/paighewold/opt/anaconda3/lib/python3.9/site-packages/debugpy/_vendored/pydevd/_pydev_bundle/_pydev_completer.py'>,\n",
       "  '_pydevd_bundle.pydevd_net_command_factory_xml': <module '_pydevd_bundle.pydevd_net_command_factory_xml' from '/Users/paighewold/opt/anaconda3/lib/python3.9/site-packages/debugpy/_vendored/pydevd/_pydevd_bundle/pydevd_net_command_factory_xml.py'>,\n",
       "  '_pydevd_bundle.pydevd_frame': <module '_pydevd_bundle.pydevd_frame' from '/Users/paighewold/opt/anaconda3/lib/python3.9/site-packages/debugpy/_vendored/pydevd/_pydevd_bundle/pydevd_frame.py'>,\n",
       "  '_pydevd_bundle.pydevd_additional_thread_info_regular': <module '_pydevd_bundle.pydevd_additional_thread_info_regular' from '/Users/paighewold/opt/anaconda3/lib/python3.9/site-packages/debugpy/_vendored/pydevd/_pydevd_bundle/pydevd_additional_thread_info_regular.py'>,\n",
       "  '_pydevd_bundle.pydevd_trace_dispatch': <module '_pydevd_bundle.pydevd_trace_dispatch' from '/Users/paighewold/opt/anaconda3/lib/python3.9/site-packages/debugpy/_vendored/pydevd/_pydevd_bundle/pydevd_trace_dispatch.py'>,\n",
       "  '_pydevd_frame_eval.pydevd_frame_eval_main': <module '_pydevd_frame_eval.pydevd_frame_eval_main' from '/Users/paighewold/opt/anaconda3/lib/python3.9/site-packages/debugpy/_vendored/pydevd/_pydevd_frame_eval/pydevd_frame_eval_main.py'>,\n",
       "  '_pydevd_bundle.pydevd_source_mapping': <module '_pydevd_bundle.pydevd_source_mapping' from '/Users/paighewold/opt/anaconda3/lib/python3.9/site-packages/debugpy/_vendored/pydevd/_pydevd_bundle/pydevd_source_mapping.py'>,\n",
       "  'pydevd_concurrency_analyser.pydevd_thread_wrappers': <module 'pydevd_concurrency_analyser.pydevd_thread_wrappers' from '/Users/paighewold/opt/anaconda3/lib/python3.9/site-packages/debugpy/_vendored/pydevd/pydevd_concurrency_analyser/pydevd_thread_wrappers.py'>,\n",
       "  'pydevd_concurrency_analyser.pydevd_concurrency_logger': <module 'pydevd_concurrency_analyser.pydevd_concurrency_logger' from '/Users/paighewold/opt/anaconda3/lib/python3.9/site-packages/debugpy/_vendored/pydevd/pydevd_concurrency_analyser/pydevd_concurrency_logger.py'>,\n",
       "  '_pydevd_bundle._debug_adapter': <module '_pydevd_bundle._debug_adapter' from '/Users/paighewold/opt/anaconda3/lib/python3.9/site-packages/debugpy/_vendored/pydevd/_pydevd_bundle/_debug_adapter/__init__.py'>,\n",
       "  '_pydevd_bundle._debug_adapter.pydevd_schema_log': <module '_pydevd_bundle._debug_adapter.pydevd_schema_log' from '/Users/paighewold/opt/anaconda3/lib/python3.9/site-packages/debugpy/_vendored/pydevd/_pydevd_bundle/_debug_adapter/pydevd_schema_log.py'>,\n",
       "  '_pydevd_bundle._debug_adapter.pydevd_base_schema': <module '_pydevd_bundle._debug_adapter.pydevd_base_schema' from '/Users/paighewold/opt/anaconda3/lib/python3.9/site-packages/debugpy/_vendored/pydevd/_pydevd_bundle/_debug_adapter/pydevd_base_schema.py'>,\n",
       "  '_pydevd_bundle._debug_adapter.pydevd_schema': <module '_pydevd_bundle._debug_adapter.pydevd_schema' from '/Users/paighewold/opt/anaconda3/lib/python3.9/site-packages/debugpy/_vendored/pydevd/_pydevd_bundle/_debug_adapter/pydevd_schema.py'>,\n",
       "  '_pydevd_bundle.pydevd_reload': <module '_pydevd_bundle.pydevd_reload' from '/Users/paighewold/opt/anaconda3/lib/python3.9/site-packages/debugpy/_vendored/pydevd/_pydevd_bundle/pydevd_reload.py'>,\n",
       "  '_pydev_bundle.fsnotify': <module '_pydev_bundle.fsnotify' from '/Users/paighewold/opt/anaconda3/lib/python3.9/site-packages/debugpy/_vendored/pydevd/_pydev_bundle/fsnotify/__init__.py'>,\n",
       "  '_pydevd_bundle.pydevd_console': <module '_pydevd_bundle.pydevd_console' from '/Users/paighewold/opt/anaconda3/lib/python3.9/site-packages/debugpy/_vendored/pydevd/_pydevd_bundle/pydevd_console.py'>,\n",
       "  '_pydevd_bundle.pydevd_comm': <module '_pydevd_bundle.pydevd_comm' from '/Users/paighewold/opt/anaconda3/lib/python3.9/site-packages/debugpy/_vendored/pydevd/_pydevd_bundle/pydevd_comm.py'>,\n",
       "  '_pydevd_bundle.pydevd_net_command_factory_json': <module '_pydevd_bundle.pydevd_net_command_factory_json' from '/Users/paighewold/opt/anaconda3/lib/python3.9/site-packages/debugpy/_vendored/pydevd/_pydevd_bundle/pydevd_net_command_factory_json.py'>,\n",
       "  '_pydevd_bundle.pydevd_collect_bytecode_info': <module '_pydevd_bundle.pydevd_collect_bytecode_info' from '/Users/paighewold/opt/anaconda3/lib/python3.9/site-packages/debugpy/_vendored/pydevd/_pydevd_bundle/pydevd_collect_bytecode_info.py'>,\n",
       "  '_pydevd_bundle.pydevd_api': <module '_pydevd_bundle.pydevd_api' from '/Users/paighewold/opt/anaconda3/lib/python3.9/site-packages/debugpy/_vendored/pydevd/_pydevd_bundle/pydevd_api.py'>,\n",
       "  '_pydevd_bundle.pydevd_json_debug_options': <module '_pydevd_bundle.pydevd_json_debug_options' from '/Users/paighewold/opt/anaconda3/lib/python3.9/site-packages/debugpy/_vendored/pydevd/_pydevd_bundle/pydevd_json_debug_options.py'>,\n",
       "  '_pydevd_bundle.pydevd_process_net_command_json': <module '_pydevd_bundle.pydevd_process_net_command_json' from '/Users/paighewold/opt/anaconda3/lib/python3.9/site-packages/debugpy/_vendored/pydevd/_pydevd_bundle/pydevd_process_net_command_json.py'>,\n",
       "  '_pydevd_bundle.pydevd_traceproperty': <module '_pydevd_bundle.pydevd_traceproperty' from '/Users/paighewold/opt/anaconda3/lib/python3.9/site-packages/debugpy/_vendored/pydevd/_pydevd_bundle/pydevd_traceproperty.py'>,\n",
       "  '_pydevd_bundle.pydevd_process_net_command': <module '_pydevd_bundle.pydevd_process_net_command' from '/Users/paighewold/opt/anaconda3/lib/python3.9/site-packages/debugpy/_vendored/pydevd/_pydevd_bundle/pydevd_process_net_command.py'>,\n",
       "  '_pydevd_bundle.pydevd_suspended_frames': <module '_pydevd_bundle.pydevd_suspended_frames' from '/Users/paighewold/opt/anaconda3/lib/python3.9/site-packages/debugpy/_vendored/pydevd/_pydevd_bundle/pydevd_suspended_frames.py'>,\n",
       "  '_pydevd_bundle.pydevd_trace_api': <module '_pydevd_bundle.pydevd_trace_api' from '/Users/paighewold/opt/anaconda3/lib/python3.9/site-packages/debugpy/_vendored/pydevd/_pydevd_bundle/pydevd_trace_api.py'>,\n",
       "  'pydevd_plugins.django_debug': <module 'pydevd_plugins.django_debug' from '/Users/paighewold/opt/anaconda3/lib/python3.9/site-packages/debugpy/_vendored/pydevd/pydevd_plugins/django_debug.py'>,\n",
       "  'pydevd_plugins.jinja2_debug': <module 'pydevd_plugins.jinja2_debug' from '/Users/paighewold/opt/anaconda3/lib/python3.9/site-packages/debugpy/_vendored/pydevd/pydevd_plugins/jinja2_debug.py'>,\n",
       "  '_pydevd_bundle.pydevd_plugin_utils': <module '_pydevd_bundle.pydevd_plugin_utils' from '/Users/paighewold/opt/anaconda3/lib/python3.9/site-packages/debugpy/_vendored/pydevd/_pydevd_bundle/pydevd_plugin_utils.py'>,\n",
       "  'pydevd_plugins.extensions.types': <module 'pydevd_plugins.extensions.types' from '/Users/paighewold/opt/anaconda3/lib/python3.9/site-packages/debugpy/_vendored/pydevd/pydevd_plugins/extensions/types/__init__.py'>,\n",
       "  'pydevd_plugins.extensions.types.pydevd_helpers': <module 'pydevd_plugins.extensions.types.pydevd_helpers' from '/Users/paighewold/opt/anaconda3/lib/python3.9/site-packages/debugpy/_vendored/pydevd/pydevd_plugins/extensions/types/pydevd_helpers.py'>,\n",
       "  'pydevd_plugins.extensions.types.pydevd_plugin_numpy_types': <module 'pydevd_plugins.extensions.types.pydevd_plugin_numpy_types' from '/Users/paighewold/opt/anaconda3/lib/python3.9/site-packages/debugpy/_vendored/pydevd/pydevd_plugins/extensions/types/pydevd_plugin_numpy_types.py'>,\n",
       "  'pydevd_plugins.extensions.types.pydevd_plugins_django_form_str': <module 'pydevd_plugins.extensions.types.pydevd_plugins_django_form_str' from '/Users/paighewold/opt/anaconda3/lib/python3.9/site-packages/debugpy/_vendored/pydevd/pydevd_plugins/extensions/types/pydevd_plugins_django_form_str.py'>,\n",
       "  'pydevd': <module 'pydevd' from '/Users/paighewold/opt/anaconda3/lib/python3.9/site-packages/debugpy/_vendored/pydevd/pydevd.py'>,\n",
       "  'debugpy._vendored.force_pydevd': <module 'debugpy._vendored.force_pydevd' from '/Users/paighewold/opt/anaconda3/lib/python3.9/site-packages/debugpy/_vendored/force_pydevd.py'>,\n",
       "  'debugpy.server': <module 'debugpy.server' from '/Users/paighewold/opt/anaconda3/lib/python3.9/site-packages/debugpy/server/__init__.py'>,\n",
       "  'debugpy.adapter': <module 'debugpy.adapter' from '/Users/paighewold/opt/anaconda3/lib/python3.9/site-packages/debugpy/adapter/__init__.py'>,\n",
       "  'debugpy.common.timestamp': <module 'debugpy.common.timestamp' from '/Users/paighewold/opt/anaconda3/lib/python3.9/site-packages/debugpy/common/timestamp.py'>,\n",
       "  'debugpy.common.util': <module 'debugpy.common.util' from '/Users/paighewold/opt/anaconda3/lib/python3.9/site-packages/debugpy/common/util.py'>,\n",
       "  'debugpy.common.log': <module 'debugpy.common.log' from '/Users/paighewold/opt/anaconda3/lib/python3.9/site-packages/debugpy/common/log.py'>,\n",
       "  'debugpy.common.sockets': <module 'debugpy.common.sockets' from '/Users/paighewold/opt/anaconda3/lib/python3.9/site-packages/debugpy/common/sockets.py'>,\n",
       "  'debugpy.server.api': <module 'debugpy.server.api' from '/Users/paighewold/opt/anaconda3/lib/python3.9/site-packages/debugpy/server/api.py'>,\n",
       "  'ipykernel.debugger': <module 'ipykernel.debugger' from '/Users/paighewold/opt/anaconda3/lib/python3.9/site-packages/ipykernel/debugger.py'>,\n",
       "  'ipykernel.ipkernel': <module 'ipykernel.ipkernel' from '/Users/paighewold/opt/anaconda3/lib/python3.9/site-packages/ipykernel/ipkernel.py'>,\n",
       "  'ipykernel.parentpoller': <module 'ipykernel.parentpoller' from '/Users/paighewold/opt/anaconda3/lib/python3.9/site-packages/ipykernel/parentpoller.py'>,\n",
       "  'ipykernel.kernelapp': <module 'ipykernel.kernelapp' from '/Users/paighewold/opt/anaconda3/lib/python3.9/site-packages/ipykernel/kernelapp.py'>,\n",
       "  'faulthandler': <module 'faulthandler' (built-in)>,\n",
       "  'IPython.core.completerlib': <module 'IPython.core.completerlib' from '/Users/paighewold/opt/anaconda3/lib/python3.9/site-packages/IPython/core/completerlib.py'>,\n",
       "  'ctypes.macholib': <module 'ctypes.macholib' from '/Users/paighewold/opt/anaconda3/lib/python3.9/ctypes/macholib/__init__.py'>,\n",
       "  'ctypes.macholib.framework': <module 'ctypes.macholib.framework' from '/Users/paighewold/opt/anaconda3/lib/python3.9/ctypes/macholib/framework.py'>,\n",
       "  'ctypes.macholib.dylib': <module 'ctypes.macholib.dylib' from '/Users/paighewold/opt/anaconda3/lib/python3.9/ctypes/macholib/dylib.py'>,\n",
       "  'ctypes.macholib.dyld': <module 'ctypes.macholib.dyld' from '/Users/paighewold/opt/anaconda3/lib/python3.9/ctypes/macholib/dyld.py'>,\n",
       "  'ctypes.util': <module 'ctypes.util' from '/Users/paighewold/opt/anaconda3/lib/python3.9/ctypes/util.py'>,\n",
       "  'appnope._nope': <module 'appnope._nope' from '/Users/paighewold/opt/anaconda3/lib/python3.9/site-packages/appnope/_nope.py'>,\n",
       "  'appnope': <module 'appnope' from '/Users/paighewold/opt/anaconda3/lib/python3.9/site-packages/appnope/__init__.py'>,\n",
       "  'storemagic': <module 'storemagic' from '/Users/paighewold/opt/anaconda3/lib/python3.9/site-packages/IPython/extensions/storemagic.py'>},\n",
       " 'stderr': <ipykernel.iostream.OutStream at 0x7fd157995a30>,\n",
       " '__stderr__': <_io.TextIOWrapper name='<stderr>' mode='w' encoding='utf-8'>,\n",
       " '__displayhook__': <function sys.displayhook(object, /)>,\n",
       " '__excepthook__': <function sys.excepthook(exctype, value, traceback, /)>,\n",
       " '__breakpointhook__': <function sys.breakpointhook>,\n",
       " '__unraisablehook__': <function sys.unraisablehook(unraisable, /)>,\n",
       " 'version': '3.9.7 (default, Sep 16 2021, 08:50:36) \\n[Clang 10.0.0 ]',\n",
       " 'hexversion': 50923504,\n",
       " '_git': ('CPython', '', ''),\n",
       " '_framework': '',\n",
       " 'api_version': 1013,\n",
       " 'copyright': 'Copyright (c) 2001-2021 Python Software Foundation.\\nAll Rights Reserved.\\n\\nCopyright (c) 2000 BeOpen.com.\\nAll Rights Reserved.\\n\\nCopyright (c) 1995-2001 Corporation for National Research Initiatives.\\nAll Rights Reserved.\\n\\nCopyright (c) 1991-1995 Stichting Mathematisch Centrum, Amsterdam.\\nAll Rights Reserved.',\n",
       " 'platform': 'darwin',\n",
       " 'maxsize': 9223372036854775807,\n",
       " 'float_info': sys.float_info(max=1.7976931348623157e+308, max_exp=1024, max_10_exp=308, min=2.2250738585072014e-308, min_exp=-1021, min_10_exp=-307, dig=15, mant_dig=53, epsilon=2.220446049250313e-16, radix=2, rounds=1),\n",
       " 'int_info': sys.int_info(bits_per_digit=30, sizeof_digit=4),\n",
       " 'hash_info': sys.hash_info(width=64, modulus=2305843009213693951, inf=314159, nan=0, imag=1000003, algorithm='siphash24', hash_bits=64, seed_bits=128, cutoff=0),\n",
       " 'maxunicode': 1114111,\n",
       " 'builtin_module_names': ('_abc',\n",
       "  '_ast',\n",
       "  '_codecs',\n",
       "  '_collections',\n",
       "  '_functools',\n",
       "  '_imp',\n",
       "  '_io',\n",
       "  '_locale',\n",
       "  '_operator',\n",
       "  '_peg_parser',\n",
       "  '_signal',\n",
       "  '_sre',\n",
       "  '_stat',\n",
       "  '_string',\n",
       "  '_symtable',\n",
       "  '_thread',\n",
       "  '_tracemalloc',\n",
       "  '_warnings',\n",
       "  '_weakref',\n",
       "  'atexit',\n",
       "  'builtins',\n",
       "  'errno',\n",
       "  'faulthandler',\n",
       "  'gc',\n",
       "  'itertools',\n",
       "  'marshal',\n",
       "  'posix',\n",
       "  'pwd',\n",
       "  'sys',\n",
       "  'time',\n",
       "  'xxsubtype'),\n",
       " 'byteorder': 'little',\n",
       " 'abiflags': '',\n",
       " 'version_info': sys.version_info(major=3, minor=9, micro=7, releaselevel='final', serial=0),\n",
       " 'implementation': namespace(name='cpython',\n",
       "           cache_tag='cpython-39',\n",
       "           version=sys.version_info(major=3, minor=9, micro=7, releaselevel='final', serial=0),\n",
       "           hexversion=50923504,\n",
       "           _multiarch='darwin'),\n",
       " 'flags': sys.flags(debug=0, inspect=0, interactive=0, optimize=0, dont_write_bytecode=0, no_user_site=0, no_site=0, ignore_environment=0, verbose=0, bytes_warning=0, quiet=0, hash_randomization=1, isolated=0, dev_mode=False, utf8_mode=0),\n",
       " 'float_repr_style': 'short',\n",
       " 'thread_info': sys.thread_info(name='pthread', lock='mutex+cond', version=None),\n",
       " 'meta_path': [_frozen_importlib.BuiltinImporter,\n",
       "  _frozen_importlib.FrozenImporter,\n",
       "  _frozen_importlib_external.PathFinder,\n",
       "  <six._SixMetaPathImporter at 0x7fd1570cd190>,\n",
       "  <pkg_resources.extern.VendorImporter at 0x7fd1572e9190>],\n",
       " 'path_importer_cache': {'/Users/paighewold/opt/anaconda3/lib/python39.zip': None,\n",
       "  '/Users/paighewold/opt/anaconda3/lib/python3.9': FileFinder('/Users/paighewold/opt/anaconda3/lib/python3.9'),\n",
       "  '/Users/paighewold/opt/anaconda3/lib/python3.9/encodings': FileFinder('/Users/paighewold/opt/anaconda3/lib/python3.9/encodings'),\n",
       "  '/Users/paighewold/opt/anaconda3/lib/python3.9/importlib': FileFinder('/Users/paighewold/opt/anaconda3/lib/python3.9/importlib'),\n",
       "  '/Users/paighewold/opt/anaconda3/lib/python3.9/lib-dynload': FileFinder('/Users/paighewold/opt/anaconda3/lib/python3.9/lib-dynload'),\n",
       "  '/Users/paighewold/opt/anaconda3/lib/python3.9/collections': FileFinder('/Users/paighewold/opt/anaconda3/lib/python3.9/collections'),\n",
       "  '/Users/paighewold/opt/anaconda3/lib/python3.9/site-packages': FileFinder('/Users/paighewold/opt/anaconda3/lib/python3.9/site-packages'),\n",
       "  '/Users/paighewold/opt/anaconda3/lib/python3.9/site-packages/aeosa': FileFinder('/Users/paighewold/opt/anaconda3/lib/python3.9/site-packages/aeosa'),\n",
       "  '/Users/paighewold/opt/anaconda3/lib/python3.9/site-packages/locket-0.2.1-py3.9.egg': <zipimporter object \"/Users/paighewold/opt/anaconda3/lib/python3.9/site-packages/locket-0.2.1-py3.9.egg/\">,\n",
       "  '/Users/paighewold/Desktop/ECON411/Wold Github/In Class Projects': FileFinder('/Users/paighewold/Desktop/ECON411/Wold Github/In Class Projects'),\n",
       "  '/Users/paighewold/opt/anaconda3/lib/python3.9/site-packages/ipykernel': FileFinder('/Users/paighewold/opt/anaconda3/lib/python3.9/site-packages/ipykernel'),\n",
       "  '/Users/paighewold/opt/anaconda3/lib/python3.9/json': FileFinder('/Users/paighewold/opt/anaconda3/lib/python3.9/json'),\n",
       "  '/Users/paighewold/opt/anaconda3/lib/python3.9/site-packages/jupyter_client': FileFinder('/Users/paighewold/opt/anaconda3/lib/python3.9/site-packages/jupyter_client'),\n",
       "  '/Users/paighewold/opt/anaconda3/lib/python3.9/ctypes': FileFinder('/Users/paighewold/opt/anaconda3/lib/python3.9/ctypes'),\n",
       "  '/Users/paighewold/opt/anaconda3/lib/python3.9/site-packages/zmq': FileFinder('/Users/paighewold/opt/anaconda3/lib/python3.9/site-packages/zmq'),\n",
       "  '/Users/paighewold/opt/anaconda3/lib/python3.9/site-packages/zmq/backend': FileFinder('/Users/paighewold/opt/anaconda3/lib/python3.9/site-packages/zmq/backend'),\n",
       "  '/Users/paighewold/opt/anaconda3/lib/python3.9/site-packages/zmq/backend/cython': FileFinder('/Users/paighewold/opt/anaconda3/lib/python3.9/site-packages/zmq/backend/cython'),\n",
       "  '/Users/paighewold/opt/anaconda3/lib/python3.9/site-packages/zmq/sugar': FileFinder('/Users/paighewold/opt/anaconda3/lib/python3.9/site-packages/zmq/sugar'),\n",
       "  '/Users/paighewold/opt/anaconda3/lib/python3.9/site-packages/zmq/utils': FileFinder('/Users/paighewold/opt/anaconda3/lib/python3.9/site-packages/zmq/utils'),\n",
       "  '/Users/paighewold/opt/anaconda3/lib/python3.9/site-packages/traitlets': FileFinder('/Users/paighewold/opt/anaconda3/lib/python3.9/site-packages/traitlets'),\n",
       "  '/Users/paighewold/opt/anaconda3/lib/python3.9/site-packages/traitlets/utils': FileFinder('/Users/paighewold/opt/anaconda3/lib/python3.9/site-packages/traitlets/utils'),\n",
       "  '/Users/paighewold/opt/anaconda3/lib/python3.9/site-packages/traitlets/config': FileFinder('/Users/paighewold/opt/anaconda3/lib/python3.9/site-packages/traitlets/config'),\n",
       "  '/Users/paighewold/opt/anaconda3/lib/python3.9/site-packages/jupyter_core': FileFinder('/Users/paighewold/opt/anaconda3/lib/python3.9/site-packages/jupyter_core'),\n",
       "  '/Users/paighewold/opt/anaconda3/lib/python3.9/urllib': FileFinder('/Users/paighewold/opt/anaconda3/lib/python3.9/urllib'),\n",
       "  '/Users/paighewold/opt/anaconda3/lib/python3.9/asyncio': FileFinder('/Users/paighewold/opt/anaconda3/lib/python3.9/asyncio'),\n",
       "  '/Users/paighewold/opt/anaconda3/lib/python3.9/concurrent': FileFinder('/Users/paighewold/opt/anaconda3/lib/python3.9/concurrent'),\n",
       "  '/Users/paighewold/opt/anaconda3/lib/python3.9/concurrent/futures': FileFinder('/Users/paighewold/opt/anaconda3/lib/python3.9/concurrent/futures'),\n",
       "  '/Users/paighewold/opt/anaconda3/lib/python3.9/site-packages/jupyter_client/blocking': FileFinder('/Users/paighewold/opt/anaconda3/lib/python3.9/site-packages/jupyter_client/blocking'),\n",
       "  '/Users/paighewold/opt/anaconda3/lib/python3.9/site-packages/jupyter_client/asynchronous': FileFinder('/Users/paighewold/opt/anaconda3/lib/python3.9/site-packages/jupyter_client/asynchronous'),\n",
       "  '/Users/paighewold/opt/anaconda3/lib/python3.9/site-packages/tornado': FileFinder('/Users/paighewold/opt/anaconda3/lib/python3.9/site-packages/tornado'),\n",
       "  '/Users/paighewold/opt/anaconda3/lib/python3.9/logging': FileFinder('/Users/paighewold/opt/anaconda3/lib/python3.9/logging'),\n",
       "  '/Users/paighewold/opt/anaconda3/lib/python3.9/html': FileFinder('/Users/paighewold/opt/anaconda3/lib/python3.9/html'),\n",
       "  '/Users/paighewold/opt/anaconda3/lib/python3.9/site-packages/colorama': FileFinder('/Users/paighewold/opt/anaconda3/lib/python3.9/site-packages/colorama'),\n",
       "  '/Users/paighewold/opt/anaconda3/lib/python3.9/site-packages/zmq/eventloop': FileFinder('/Users/paighewold/opt/anaconda3/lib/python3.9/site-packages/zmq/eventloop'),\n",
       "  '/Users/paighewold/opt/anaconda3/lib/python3.9/site-packages/tornado/platform': FileFinder('/Users/paighewold/opt/anaconda3/lib/python3.9/site-packages/tornado/platform'),\n",
       "  '/Users/paighewold/opt/anaconda3/lib/python3.9/site-packages/IPython': FileFinder('/Users/paighewold/opt/anaconda3/lib/python3.9/site-packages/IPython'),\n",
       "  '/Users/paighewold/opt/anaconda3/lib/python3.9/site-packages/IPython/core': FileFinder('/Users/paighewold/opt/anaconda3/lib/python3.9/site-packages/IPython/core'),\n",
       "  '/Users/paighewold/opt/anaconda3/lib/python3.9/site-packages/IPython/utils': FileFinder('/Users/paighewold/opt/anaconda3/lib/python3.9/site-packages/IPython/utils'),\n",
       "  '/Users/paighewold/opt/anaconda3/lib/python3.9/site-packages/IPython/testing': FileFinder('/Users/paighewold/opt/anaconda3/lib/python3.9/site-packages/IPython/testing'),\n",
       "  '/Users/paighewold/opt/anaconda3/lib/python3.9/site-packages/pexpect': FileFinder('/Users/paighewold/opt/anaconda3/lib/python3.9/site-packages/pexpect'),\n",
       "  '/Users/paighewold/opt/anaconda3/lib/python3.9/site-packages/ptyprocess': FileFinder('/Users/paighewold/opt/anaconda3/lib/python3.9/site-packages/ptyprocess'),\n",
       "  '/Users/paighewold/opt/anaconda3/lib/python3.9/site-packages/IPython/terminal': FileFinder('/Users/paighewold/opt/anaconda3/lib/python3.9/site-packages/IPython/terminal'),\n",
       "  '/Users/paighewold/opt/anaconda3/lib/python3.9/site-packages/IPython/extensions': FileFinder('/Users/paighewold/opt/anaconda3/lib/python3.9/site-packages/IPython/extensions'),\n",
       "  '/Users/paighewold/opt/anaconda3/lib/python3.9/site-packages/IPython/lib': FileFinder('/Users/paighewold/opt/anaconda3/lib/python3.9/site-packages/IPython/lib'),\n",
       "  '/Users/paighewold/opt/anaconda3/lib/python3.9/site-packages/pygments': FileFinder('/Users/paighewold/opt/anaconda3/lib/python3.9/site-packages/pygments'),\n",
       "  '/Users/paighewold/opt/anaconda3/lib/python3.9/site-packages/pygments/lexers': FileFinder('/Users/paighewold/opt/anaconda3/lib/python3.9/site-packages/pygments/lexers'),\n",
       "  '/Users/paighewold/opt/anaconda3/lib/python3.9/site-packages/pygments/formatters': FileFinder('/Users/paighewold/opt/anaconda3/lib/python3.9/site-packages/pygments/formatters'),\n",
       "  '/Users/paighewold/opt/anaconda3/lib/python3.9/site-packages/backcall': FileFinder('/Users/paighewold/opt/anaconda3/lib/python3.9/site-packages/backcall'),\n",
       "  '/Users/paighewold/opt/anaconda3/lib/python3.9/sqlite3': FileFinder('/Users/paighewold/opt/anaconda3/lib/python3.9/sqlite3'),\n",
       "  '/Users/paighewold/opt/anaconda3/lib/python3.9/site-packages/prompt_toolkit': FileFinder('/Users/paighewold/opt/anaconda3/lib/python3.9/site-packages/prompt_toolkit'),\n",
       "  '/Users/paighewold/opt/anaconda3/lib/python3.9/site-packages/prompt_toolkit/application': FileFinder('/Users/paighewold/opt/anaconda3/lib/python3.9/site-packages/prompt_toolkit/application'),\n",
       "  '/Users/paighewold/opt/anaconda3/lib/python3.9/site-packages/prompt_toolkit/eventloop': FileFinder('/Users/paighewold/opt/anaconda3/lib/python3.9/site-packages/prompt_toolkit/eventloop'),\n",
       "  '/Users/paighewold/opt/anaconda3/lib/python3.9/site-packages/wcwidth': FileFinder('/Users/paighewold/opt/anaconda3/lib/python3.9/site-packages/wcwidth'),\n",
       "  '/Users/paighewold/opt/anaconda3/lib/python3.9/site-packages/prompt_toolkit/clipboard': FileFinder('/Users/paighewold/opt/anaconda3/lib/python3.9/site-packages/prompt_toolkit/clipboard'),\n",
       "  '/Users/paighewold/opt/anaconda3/lib/python3.9/site-packages/prompt_toolkit/filters': FileFinder('/Users/paighewold/opt/anaconda3/lib/python3.9/site-packages/prompt_toolkit/filters'),\n",
       "  '/Users/paighewold/opt/anaconda3/lib/python3.9/site-packages/prompt_toolkit/completion': FileFinder('/Users/paighewold/opt/anaconda3/lib/python3.9/site-packages/prompt_toolkit/completion'),\n",
       "  '/Users/paighewold/opt/anaconda3/lib/python3.9/site-packages/prompt_toolkit/formatted_text': FileFinder('/Users/paighewold/opt/anaconda3/lib/python3.9/site-packages/prompt_toolkit/formatted_text'),\n",
       "  '/Users/paighewold/opt/anaconda3/lib/python3.9/site-packages/prompt_toolkit/output': FileFinder('/Users/paighewold/opt/anaconda3/lib/python3.9/site-packages/prompt_toolkit/output'),\n",
       "  '/Users/paighewold/opt/anaconda3/lib/python3.9/site-packages/prompt_toolkit/styles': FileFinder('/Users/paighewold/opt/anaconda3/lib/python3.9/site-packages/prompt_toolkit/styles'),\n",
       "  '/Users/paighewold/opt/anaconda3/lib/python3.9/xml': FileFinder('/Users/paighewold/opt/anaconda3/lib/python3.9/xml'),\n",
       "  '/Users/paighewold/opt/anaconda3/lib/python3.9/xml/dom': FileFinder('/Users/paighewold/opt/anaconda3/lib/python3.9/xml/dom'),\n",
       "  '/Users/paighewold/opt/anaconda3/lib/python3.9/site-packages/prompt_toolkit/key_binding': FileFinder('/Users/paighewold/opt/anaconda3/lib/python3.9/site-packages/prompt_toolkit/key_binding'),\n",
       "  '/Users/paighewold/opt/anaconda3/lib/python3.9/site-packages/prompt_toolkit/input': FileFinder('/Users/paighewold/opt/anaconda3/lib/python3.9/site-packages/prompt_toolkit/input'),\n",
       "  '/Users/paighewold/opt/anaconda3/lib/python3.9/site-packages/prompt_toolkit/key_binding/bindings': FileFinder('/Users/paighewold/opt/anaconda3/lib/python3.9/site-packages/prompt_toolkit/key_binding/bindings'),\n",
       "  '/Users/paighewold/opt/anaconda3/lib/python3.9/site-packages/prompt_toolkit/layout': FileFinder('/Users/paighewold/opt/anaconda3/lib/python3.9/site-packages/prompt_toolkit/layout'),\n",
       "  '/Users/paighewold/opt/anaconda3/lib/python3.9/site-packages/prompt_toolkit/lexers': FileFinder('/Users/paighewold/opt/anaconda3/lib/python3.9/site-packages/prompt_toolkit/lexers'),\n",
       "  '/Users/paighewold/opt/anaconda3/lib/python3.9/site-packages/prompt_toolkit/shortcuts': FileFinder('/Users/paighewold/opt/anaconda3/lib/python3.9/site-packages/prompt_toolkit/shortcuts'),\n",
       "  '/Users/paighewold/opt/anaconda3/lib/python3.9/site-packages/prompt_toolkit/widgets': FileFinder('/Users/paighewold/opt/anaconda3/lib/python3.9/site-packages/prompt_toolkit/widgets'),\n",
       "  '/Users/paighewold/opt/anaconda3/lib/python3.9/site-packages/prompt_toolkit/shortcuts/progress_bar': FileFinder('/Users/paighewold/opt/anaconda3/lib/python3.9/site-packages/prompt_toolkit/shortcuts/progress_bar'),\n",
       "  '/Users/paighewold/opt/anaconda3/lib/python3.9/site-packages/jedi': FileFinder('/Users/paighewold/opt/anaconda3/lib/python3.9/site-packages/jedi'),\n",
       "  '/Users/paighewold/opt/anaconda3/lib/python3.9/site-packages/parso': FileFinder('/Users/paighewold/opt/anaconda3/lib/python3.9/site-packages/parso'),\n",
       "  '/Users/paighewold/opt/anaconda3/lib/python3.9/site-packages/parso/pgen2': FileFinder('/Users/paighewold/opt/anaconda3/lib/python3.9/site-packages/parso/pgen2'),\n",
       "  '/Users/paighewold/opt/anaconda3/lib/python3.9/site-packages/parso/python': FileFinder('/Users/paighewold/opt/anaconda3/lib/python3.9/site-packages/parso/python'),\n",
       "  '/Users/paighewold/opt/anaconda3/lib/python3.9/site-packages/jedi/api': FileFinder('/Users/paighewold/opt/anaconda3/lib/python3.9/site-packages/jedi/api'),\n",
       "  '/Users/paighewold/opt/anaconda3/lib/python3.9/site-packages/jedi/inference': FileFinder('/Users/paighewold/opt/anaconda3/lib/python3.9/site-packages/jedi/inference'),\n",
       "  '/Users/paighewold/opt/anaconda3/lib/python3.9/site-packages/jedi/inference/compiled': FileFinder('/Users/paighewold/opt/anaconda3/lib/python3.9/site-packages/jedi/inference/compiled'),\n",
       "  '/Users/paighewold/opt/anaconda3/lib/python3.9/site-packages/jedi/inference/gradual': FileFinder('/Users/paighewold/opt/anaconda3/lib/python3.9/site-packages/jedi/inference/gradual'),\n",
       "  '/Users/paighewold/opt/anaconda3/lib/python3.9/site-packages/jedi/inference/value': FileFinder('/Users/paighewold/opt/anaconda3/lib/python3.9/site-packages/jedi/inference/value'),\n",
       "  '/Users/paighewold/opt/anaconda3/lib/python3.9/site-packages/jedi/inference/compiled/subprocess': FileFinder('/Users/paighewold/opt/anaconda3/lib/python3.9/site-packages/jedi/inference/compiled/subprocess'),\n",
       "  '/Users/paighewold/opt/anaconda3/lib/python3.9/pydoc_data': FileFinder('/Users/paighewold/opt/anaconda3/lib/python3.9/pydoc_data'),\n",
       "  '/Users/paighewold/opt/anaconda3/lib/python3.9/site-packages/jedi/api/refactoring': FileFinder('/Users/paighewold/opt/anaconda3/lib/python3.9/site-packages/jedi/api/refactoring'),\n",
       "  '/Users/paighewold/opt/anaconda3/lib/python3.9/site-packages/jedi/plugins': FileFinder('/Users/paighewold/opt/anaconda3/lib/python3.9/site-packages/jedi/plugins'),\n",
       "  '/Users/paighewold/opt/anaconda3/lib/python3.9/site-packages/IPython/core/magics': FileFinder('/Users/paighewold/opt/anaconda3/lib/python3.9/site-packages/IPython/core/magics'),\n",
       "  '/Users/paighewold/opt/anaconda3/lib/python3.9/http': FileFinder('/Users/paighewold/opt/anaconda3/lib/python3.9/http'),\n",
       "  '/Users/paighewold/opt/anaconda3/lib/python3.9/email': FileFinder('/Users/paighewold/opt/anaconda3/lib/python3.9/email'),\n",
       "  '/Users/paighewold/opt/anaconda3/lib/python3.9/site-packages/ipython_genutils': FileFinder('/Users/paighewold/opt/anaconda3/lib/python3.9/site-packages/ipython_genutils'),\n",
       "  '/Users/paighewold/opt/anaconda3/lib/python3.9/site-packages/dateutil': FileFinder('/Users/paighewold/opt/anaconda3/lib/python3.9/site-packages/dateutil'),\n",
       "  '/Users/paighewold/opt/anaconda3/lib/python3.9/site-packages/dateutil/parser': FileFinder('/Users/paighewold/opt/anaconda3/lib/python3.9/site-packages/dateutil/parser'),\n",
       "  '/Users/paighewold/opt/anaconda3/lib/python3.9/site-packages/dateutil/tz': FileFinder('/Users/paighewold/opt/anaconda3/lib/python3.9/site-packages/dateutil/tz'),\n",
       "  '/Users/paighewold/opt/anaconda3/lib/python3.9/site-packages/ipykernel/comm': FileFinder('/Users/paighewold/opt/anaconda3/lib/python3.9/site-packages/ipykernel/comm'),\n",
       "  '/Users/paighewold/opt/anaconda3/lib/python3.9/distutils': FileFinder('/Users/paighewold/opt/anaconda3/lib/python3.9/distutils'),\n",
       "  '/Users/paighewold/opt/anaconda3/lib/python3.9/site-packages/debugpy': FileFinder('/Users/paighewold/opt/anaconda3/lib/python3.9/site-packages/debugpy'),\n",
       "  '/Users/paighewold/opt/anaconda3/lib/python3.9/site-packages/debugpy/common': FileFinder('/Users/paighewold/opt/anaconda3/lib/python3.9/site-packages/debugpy/common'),\n",
       "  '/Users/paighewold/opt/anaconda3/lib/python3.9/site-packages/debugpy/_vendored': FileFinder('/Users/paighewold/opt/anaconda3/lib/python3.9/site-packages/debugpy/_vendored'),\n",
       "  '/Users/paighewold/opt/anaconda3/lib/python3.9/site-packages/debugpy/_vendored/pydevd': FileFinder('/Users/paighewold/opt/anaconda3/lib/python3.9/site-packages/debugpy/_vendored/pydevd'),\n",
       "  '/Users/paighewold/opt/anaconda3/lib/python3.9/site-packages/debugpy/_vendored/pydevd/_pydevd_bundle': FileFinder('/Users/paighewold/opt/anaconda3/lib/python3.9/site-packages/debugpy/_vendored/pydevd/_pydevd_bundle'),\n",
       "  '/Users/paighewold/opt/anaconda3/lib/python3.9/site-packages/debugpy/_vendored/pydevd/_pydev_imps': FileFinder('/Users/paighewold/opt/anaconda3/lib/python3.9/site-packages/debugpy/_vendored/pydevd/_pydev_imps'),\n",
       "  '/Users/paighewold/opt/anaconda3/lib/python3.9/xmlrpc': FileFinder('/Users/paighewold/opt/anaconda3/lib/python3.9/xmlrpc'),\n",
       "  '/Users/paighewold/opt/anaconda3/lib/python3.9/xml/parsers': FileFinder('/Users/paighewold/opt/anaconda3/lib/python3.9/xml/parsers'),\n",
       "  '/Users/paighewold/opt/anaconda3/lib/python3.9/site-packages/pkg_resources': FileFinder('/Users/paighewold/opt/anaconda3/lib/python3.9/site-packages/pkg_resources'),\n",
       "  '/Users/paighewold/opt/anaconda3/lib/python3.9/site-packages/pkg_resources/extern': FileFinder('/Users/paighewold/opt/anaconda3/lib/python3.9/site-packages/pkg_resources/extern'),\n",
       "  '/Users/paighewold/opt/anaconda3/lib/python3.9/site-packages/pkg_resources/_vendor': FileFinder('/Users/paighewold/opt/anaconda3/lib/python3.9/site-packages/pkg_resources/_vendor'),\n",
       "  '/Users/paighewold/opt/anaconda3/lib/python3.9/site-packages/pkg_resources/_vendor/packaging': FileFinder('/Users/paighewold/opt/anaconda3/lib/python3.9/site-packages/pkg_resources/_vendor/packaging'),\n",
       "  '/Users/paighewold/opt/anaconda3/lib/python3.9/site-packages/debugpy/_vendored/pydevd/_pydev_bundle': FileFinder('/Users/paighewold/opt/anaconda3/lib/python3.9/site-packages/debugpy/_vendored/pydevd/_pydev_bundle'),\n",
       "  '/Users/paighewold/opt/anaconda3/lib/python3.9/site-packages/debugpy/_vendored/pydevd/pydevd_plugins': FileFinder('/Users/paighewold/opt/anaconda3/lib/python3.9/site-packages/debugpy/_vendored/pydevd/pydevd_plugins'),\n",
       "  '/Users/paighewold/opt/anaconda3/lib/python3.9/site-packages/debugpy/_vendored/pydevd/_pydevd_frame_eval': FileFinder('/Users/paighewold/opt/anaconda3/lib/python3.9/site-packages/debugpy/_vendored/pydevd/_pydevd_frame_eval'),\n",
       "  '/Users/paighewold/opt/anaconda3/lib/python3.9/site-packages/debugpy/_vendored/pydevd/_pydevd_frame_eval/vendored': FileFinder('/Users/paighewold/opt/anaconda3/lib/python3.9/site-packages/debugpy/_vendored/pydevd/_pydevd_frame_eval/vendored'),\n",
       "  '/Users/paighewold/opt/anaconda3/lib/python3.9/site-packages/debugpy/_vendored/pydevd/_pydevd_frame_eval/vendored/bytecode': FileFinder('/Users/paighewold/opt/anaconda3/lib/python3.9/site-packages/debugpy/_vendored/pydevd/_pydevd_frame_eval/vendored/bytecode'),\n",
       "  '/Users/paighewold/opt/anaconda3/lib/python3.9/site-packages/debugpy/_vendored/pydevd/pydevd_concurrency_analyser': FileFinder('/Users/paighewold/opt/anaconda3/lib/python3.9/site-packages/debugpy/_vendored/pydevd/pydevd_concurrency_analyser'),\n",
       "  '/Users/paighewold/opt/anaconda3/lib/python3.9/site-packages/debugpy/_vendored/pydevd/_pydevd_bundle/_debug_adapter': FileFinder('/Users/paighewold/opt/anaconda3/lib/python3.9/site-packages/debugpy/_vendored/pydevd/_pydevd_bundle/_debug_adapter'),\n",
       "  '/Users/paighewold/opt/anaconda3/lib/python3.9/site-packages/debugpy/_vendored/pydevd/pydevd_plugins/extensions': FileFinder('/Users/paighewold/opt/anaconda3/lib/python3.9/site-packages/debugpy/_vendored/pydevd/pydevd_plugins/extensions'),\n",
       "  '/Users/paighewold/opt/anaconda3/lib/python3.9/site-packages/debugpy/_vendored/pydevd/pydevd_plugins/extensions/types': FileFinder('/Users/paighewold/opt/anaconda3/lib/python3.9/site-packages/debugpy/_vendored/pydevd/pydevd_plugins/extensions/types'),\n",
       "  '/Users/paighewold/opt/anaconda3/lib/python3.9/site-packages/debugpy/server': FileFinder('/Users/paighewold/opt/anaconda3/lib/python3.9/site-packages/debugpy/server'),\n",
       "  '/Users/paighewold/.ipython': FileFinder('/Users/paighewold/.ipython'),\n",
       "  '/Users/paighewold/opt/anaconda3/lib/python3.9/site-packages/appnope': FileFinder('/Users/paighewold/opt/anaconda3/lib/python3.9/site-packages/appnope'),\n",
       "  '/Users/paighewold/opt/anaconda3/lib/python3.9/ctypes/macholib': FileFinder('/Users/paighewold/opt/anaconda3/lib/python3.9/ctypes/macholib'),\n",
       "  '/Users/paighewold/.ipython/extensions': FileFinder('/Users/paighewold/.ipython/extensions')},\n",
       " 'path_hooks': [zipimport.zipimporter,\n",
       "  <function _frozen_importlib_external.FileFinder.path_hook.<locals>.path_hook_for_FileFinder(path)>],\n",
       " 'path': ['/Users/paighewold/Desktop/ECON411/Wold Github/In Class Projects',\n",
       "  '/Users/paighewold/opt/anaconda3/lib/python39.zip',\n",
       "  '/Users/paighewold/opt/anaconda3/lib/python3.9',\n",
       "  '/Users/paighewold/opt/anaconda3/lib/python3.9/lib-dynload',\n",
       "  '',\n",
       "  '/Users/paighewold/opt/anaconda3/lib/python3.9/site-packages',\n",
       "  '/Users/paighewold/opt/anaconda3/lib/python3.9/site-packages/aeosa',\n",
       "  '/Users/paighewold/opt/anaconda3/lib/python3.9/site-packages/locket-0.2.1-py3.9.egg',\n",
       "  '/Users/paighewold/opt/anaconda3/lib/python3.9/site-packages/IPython/extensions',\n",
       "  '/Users/paighewold/.ipython'],\n",
       " 'executable': '/Users/paighewold/opt/anaconda3/bin/python',\n",
       " '_base_executable': '/Users/paighewold/opt/anaconda3/bin/python',\n",
       " 'prefix': '/Users/paighewold/opt/anaconda3',\n",
       " 'base_prefix': '/Users/paighewold/opt/anaconda3',\n",
       " 'exec_prefix': '/Users/paighewold/opt/anaconda3',\n",
       " 'base_exec_prefix': '/Users/paighewold/opt/anaconda3',\n",
       " 'platlibdir': 'lib',\n",
       " 'pycache_prefix': None,\n",
       " 'argv': ['/Users/paighewold/opt/anaconda3/lib/python3.9/site-packages/ipykernel_launcher.py',\n",
       "  '-f',\n",
       "  '/Users/paighewold/Library/Jupyter/runtime/kernel-7faa47c9-4773-45e5-a34b-18f99b5b3c11.json'],\n",
       " 'warnoptions': [],\n",
       " '_xoptions': {},\n",
       " 'dont_write_bytecode': False,\n",
       " '__stdin__': <_io.TextIOWrapper name='<stdin>' mode='r' encoding='utf-8'>,\n",
       " 'stdin': <_io.TextIOWrapper name='<stdin>' mode='r' encoding='utf-8'>,\n",
       " '__stdout__': <_io.TextIOWrapper name='<stdout>' mode='w' encoding='utf-8'>,\n",
       " 'stdout': <ipykernel.iostream.OutStream at 0x7fd157995af0>,\n",
       " '_home': None,\n",
       " '__interactivehook__': <function site.enablerlcompleter.<locals>.register_readline()>,\n",
       " 'ps1': 'In : ',\n",
       " 'ps2': '...: ',\n",
       " 'ps3': 'Out: ',\n",
       " 'last_type': TypeError,\n",
       " 'last_value': TypeError(\"unsupported operand type(s) for +: 'int' and 'str'\"),\n",
       " 'last_traceback': <traceback at 0x7fd157a5dbc0>}"
      ]
     },
     "execution_count": 41,
     "metadata": {},
     "output_type": "execute_result"
    }
   ],
   "source": [
    "# use .__dict__\n",
    "sys.__dict__"
   ]
  },
  {
   "cell_type": "code",
   "execution_count": 42,
   "id": "4154fc7b",
   "metadata": {},
   "outputs": [
    {
     "data": {
      "text/plain": [
       "['__breakpointhook__',\n",
       " '__displayhook__',\n",
       " '__doc__',\n",
       " '__excepthook__',\n",
       " '__interactivehook__',\n",
       " '__loader__',\n",
       " '__name__',\n",
       " '__package__',\n",
       " '__spec__',\n",
       " '__stderr__',\n",
       " '__stdin__',\n",
       " '__stdout__',\n",
       " '__unraisablehook__',\n",
       " '_base_executable',\n",
       " '_clear_type_cache',\n",
       " '_current_frames',\n",
       " '_debugmallocstats',\n",
       " '_framework',\n",
       " '_getframe',\n",
       " '_git',\n",
       " '_home',\n",
       " '_xoptions',\n",
       " 'abiflags',\n",
       " 'addaudithook',\n",
       " 'api_version',\n",
       " 'argv',\n",
       " 'audit',\n",
       " 'base_exec_prefix',\n",
       " 'base_prefix',\n",
       " 'breakpointhook',\n",
       " 'builtin_module_names',\n",
       " 'byteorder',\n",
       " 'call_tracing',\n",
       " 'copyright',\n",
       " 'displayhook',\n",
       " 'dont_write_bytecode',\n",
       " 'exc_info',\n",
       " 'excepthook',\n",
       " 'exec_prefix',\n",
       " 'executable',\n",
       " 'exit',\n",
       " 'flags',\n",
       " 'float_info',\n",
       " 'float_repr_style',\n",
       " 'get_asyncgen_hooks',\n",
       " 'get_coroutine_origin_tracking_depth',\n",
       " 'getallocatedblocks',\n",
       " 'getdefaultencoding',\n",
       " 'getdlopenflags',\n",
       " 'getfilesystemencodeerrors',\n",
       " 'getfilesystemencoding',\n",
       " 'getprofile',\n",
       " 'getrecursionlimit',\n",
       " 'getrefcount',\n",
       " 'getsizeof',\n",
       " 'getswitchinterval',\n",
       " 'gettrace',\n",
       " 'hash_info',\n",
       " 'hexversion',\n",
       " 'implementation',\n",
       " 'int_info',\n",
       " 'intern',\n",
       " 'is_finalizing',\n",
       " 'last_traceback',\n",
       " 'last_type',\n",
       " 'last_value',\n",
       " 'maxsize',\n",
       " 'maxunicode',\n",
       " 'meta_path',\n",
       " 'modules',\n",
       " 'path',\n",
       " 'path_hooks',\n",
       " 'path_importer_cache',\n",
       " 'platform',\n",
       " 'platlibdir',\n",
       " 'prefix',\n",
       " 'ps1',\n",
       " 'ps2',\n",
       " 'ps3',\n",
       " 'pycache_prefix',\n",
       " 'set_asyncgen_hooks',\n",
       " 'set_coroutine_origin_tracking_depth',\n",
       " 'setdlopenflags',\n",
       " 'setprofile',\n",
       " 'setrecursionlimit',\n",
       " 'setswitchinterval',\n",
       " 'settrace',\n",
       " 'stderr',\n",
       " 'stdin',\n",
       " 'stdout',\n",
       " 'thread_info',\n",
       " 'unraisablehook',\n",
       " 'version',\n",
       " 'version_info',\n",
       " 'warnoptions']"
      ]
     },
     "execution_count": 42,
     "metadata": {},
     "output_type": "execute_result"
    }
   ],
   "source": [
    "dir(sys)"
   ]
  },
  {
   "cell_type": "code",
   "execution_count": 44,
   "id": "40748d36",
   "metadata": {},
   "outputs": [
    {
     "data": {
      "text/plain": [
       "sys.float_info(max=1.7976931348623157e+308, max_exp=1024, max_10_exp=308, min=2.2250738585072014e-308, min_exp=-1021, min_10_exp=-307, dig=15, mant_dig=53, epsilon=2.220446049250313e-16, radix=2, rounds=1)"
      ]
     },
     "execution_count": 44,
     "metadata": {},
     "output_type": "execute_result"
    }
   ],
   "source": [
    "# gives all info about a float\n",
    "sys.float_info"
   ]
  },
  {
   "cell_type": "code",
   "execution_count": 47,
   "id": "15563499",
   "metadata": {},
   "outputs": [
    {
     "data": {
      "text/plain": [
       "8.98846567431158e+307"
      ]
     },
     "execution_count": 47,
     "metadata": {},
     "output_type": "execute_result"
    }
   ],
   "source": [
    "2.0 ** 1023"
   ]
  },
  {
   "cell_type": "code",
   "execution_count": 48,
   "id": "6435bc2b",
   "metadata": {},
   "outputs": [
    {
     "ename": "OverflowError",
     "evalue": "(34, 'Result too large')",
     "output_type": "error",
     "traceback": [
      "\u001b[0;31m---------------------------------------------------------------------------\u001b[0m",
      "\u001b[0;31mOverflowError\u001b[0m                             Traceback (most recent call last)",
      "\u001b[0;32m/var/folders/f_/_68wnm392hz1gg4qqfgl24z00000gn/T/ipykernel_1443/2834442352.py\u001b[0m in \u001b[0;36m<module>\u001b[0;34m\u001b[0m\n\u001b[0;32m----> 1\u001b[0;31m \u001b[0;36m2.0\u001b[0m \u001b[0;34m**\u001b[0m \u001b[0;36m1024\u001b[0m\u001b[0;34m\u001b[0m\u001b[0;34m\u001b[0m\u001b[0m\n\u001b[0m",
      "\u001b[0;31mOverflowError\u001b[0m: (34, 'Result too large')"
     ]
    }
   ],
   "source": [
    "2.0 ** 1024"
   ]
  },
  {
   "cell_type": "code",
   "execution_count": 45,
   "id": "cbd46989",
   "metadata": {},
   "outputs": [
    {
     "data": {
      "text/plain": [
       "sys.int_info(bits_per_digit=30, sizeof_digit=4)"
      ]
     },
     "execution_count": 45,
     "metadata": {},
     "output_type": "execute_result"
    }
   ],
   "source": [
    "sys.int_info"
   ]
  },
  {
   "cell_type": "code",
   "execution_count": 49,
   "id": "d8d33b40",
   "metadata": {},
   "outputs": [
    {
     "data": {
      "text/plain": [
       "100000000000000000000000000000000000000000000000000000000000000000000000000000000000000000000000000000000000000000000000000000000000000000000000000000000000000000000000000000000000000000000000000000000000000000000000000000000000000000000000000000000000000000000000000000000000000000000000000000000000000000000000000000000000000000000000000000000000000000000000000000000000000000000000000000000000000000000000000000000000000000000000000000000000000000000000000000000000000000000000000000000000000000000000000000000000000000000000000000000000000000000000000000000000000000000000000000000000000000000000000000000000000000000000000000000000000000000000000000000000000000000000000000000000000000000000000000000000000000000000000000000000000000000000000000000000000000000000000000000000000000000000000000000000000000000000000000000000000000000000000000000000000000000000000000000000000000000000000000000000000000000000000000000000000000000000000000000000000000000000000000000000000000000000000000000000000000000000000000000000000000000000000000000000000000000000000000000000000000000000000000000000000000000000000000000000000000000000000000000000000000000000000000000000000000000000000000000000000000000000000000000000000000000000000000000000000000000000000000000000000000000000000000000000000000000000000000000000000000000000000000000000000000000000000000000000000000000000000000000000000000000000000000000000000000000000000000000000000000000000000000000000000000000000000000000000000000000000000000000000000000000000000000000000000000000000000000000000000000000000000000000000000000000000000000000000000000000000000000000000000000000000000000000000000000000000000000000000000000000000000000000000000000000000000000000000000000000000000000000000000000000000000000000000000000000000000000000000000000000000000000000000000000000000000000000000000000000000000000000000000000000000000000000000000000000000000000000000000000000000000000000000000000000000000000000000000000000000000000000000000000000000000000000"
      ]
     },
     "execution_count": 49,
     "metadata": {},
     "output_type": "execute_result"
    }
   ],
   "source": [
    "# amount of memory occupied by an int adjusts with the size of the int\n",
    "10 ** 2000"
   ]
  }
 ],
 "metadata": {
  "kernelspec": {
   "display_name": "Python 3 (ipykernel)",
   "language": "python",
   "name": "python3"
  },
  "language_info": {
   "codemirror_mode": {
    "name": "ipython",
    "version": 3
   },
   "file_extension": ".py",
   "mimetype": "text/x-python",
   "name": "python",
   "nbconvert_exporter": "python",
   "pygments_lexer": "ipython3",
   "version": "3.9.7"
  }
 },
 "nbformat": 4,
 "nbformat_minor": 5
}
